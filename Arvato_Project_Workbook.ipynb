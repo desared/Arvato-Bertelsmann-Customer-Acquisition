{
 "cells": [
  {
   "cell_type": "markdown",
   "metadata": {},
   "source": [
    "# Capstone Project: Customer Segmentation Report for Arvato Financial Services\n",
    "\n",
    "In this report, supervised and unsupervised learning techniques will be used to analyze demographics data for customers of a mail-order company in Germany against demographics information of the existing clients. Therefore, the research question that arises is:\n",
    "\n",
    "* What are the potential customers and how can the company acquire them efficiently?\n",
    "\n",
    "The main purpose of this project is to identify the right people, who can be potential customers. It will increase the efficiency of the customer acquisition process, by targeting the proper clients.\n",
    "\n",
    "Unsupervised learning techniques will be used to perform customer segmentation. Then, supervised learning techniques will be used to predict which individuals are most likely to convert into becoming customers for the company. The data source has been provided by Bertelsmann Arvato Analytics, and represents a real-life data science task."
   ]
  },
  {
   "cell_type": "markdown",
   "metadata": {},
   "source": [
    "## Table of Contents\n",
    "\n",
    "[Part 0: Get-to-Know-the-Data](#Get-to-Know-the-Data)<br>\n",
    "[Part 1: Customer Segmentation Report](#part1)<br>\n",
    "[Part 2: Supervised Learning Model](#part2)<br>\n",
    "[Part 3: Kaggle Competition](#part3)<br>"
   ]
  },
  {
   "cell_type": "code",
   "execution_count": 1,
   "metadata": {},
   "outputs": [
    {
     "name": "stderr",
     "output_type": "stream",
     "text": [
      "C:\\Users\\Desared\\Anaconda3\\lib\\site-packages\\xgboost\\__init__.py:28: FutureWarning: Python 3.5 support is deprecated; XGBoost will require Python 3.6+ in the near future. Consider upgrading to Python 3.6+.\n",
      "  FutureWarning)\n"
     ]
    }
   ],
   "source": [
    "# Import libraries\n",
    "import numpy as np\n",
    "import pandas as pd\n",
    "import matplotlib.pyplot as plt\n",
    "import matplotlib\n",
    "import seaborn as sns\n",
    "import os\n",
    "import random\n",
    "import progressbar\n",
    "import pickle\n",
    "\n",
    "from sklearn import metrics\n",
    "from sklearn.cluster import KMeans\n",
    "from sklearn.decomposition import PCA\n",
    "from sklearn.model_selection import cross_val_score, learning_curve, train_test_split, GridSearchCV\n",
    "from sklearn.metrics import roc_auc_score, silhouette_score\n",
    "from sklearn.preprocessing import RobustScaler, Imputer\n",
    "\n",
    "import xgboost as xgb\n",
    "from sklearn.ensemble import AdaBoostClassifier, RandomForestClassifier, GradientBoostingClassifier\n",
    "from xgboost.sklearn import XGBClassifier\n",
    "\n",
    "%matplotlib inline"
   ]
  },
  {
   "cell_type": "markdown",
   "metadata": {},
   "source": [
    "## <a class=\"anchor\" id=\"Get-to-Know-the-Data\">Part 0: Get to Know the Data</a>\n",
    "\n",
    "There are four data files associated with this project:\n",
    "\n",
    "- `Udacity_AZDIAS_052018.csv`: Demographics data for the general population of Germany; 891 221 persons (rows) x 366 features (columns). Some of the feature values are missing. The data types are categorical, binary, ordinal and numerical. \n",
    "- `Udacity_CUSTOMERS_052018.csv`: Demographics data for customers of a mail-order company; 191 652 persons (rows) x 369 features (columns). Compared to the general population dataset, 3 more features are added in this dataset: CustomerGroup, OnlinePurchase, and ProductGroup. \n",
    "- `Udacity_MAILOUT_052018_TRAIN.csv`: Demographics data for individuals who were targets of a marketing campaign; 42 982 persons (rows) x 367 (columns). Compared to the general population dataset, the information about the reaction to the mailout campaign is added.\n",
    "- `Udacity_MAILOUT_052018_TEST.csv`: Demographics data for individuals who were targets of a marketing campaign; 42 833 persons (rows) x 366 (columns).  \n",
    "\n",
    "For more information about the columns depicted in the files, I will refer to two Excel spreadsheets provided in the workspace.\n",
    "- `DIAS Information Levels.xlsx`: a top-level list of attributes and descriptions, organized by informational category.\n",
    "- `DIAS Attributes.xlsx`: a detailed mapping of data values for each feature in alphabetical order.\n",
    "\n"
   ]
  },
  {
   "cell_type": "code",
   "execution_count": 2,
   "metadata": {},
   "outputs": [
    {
     "name": "stderr",
     "output_type": "stream",
     "text": [
      "C:\\Users\\Desared\\Anaconda3\\lib\\site-packages\\IPython\\core\\interactiveshell.py:2698: DtypeWarning: Columns (18,19) have mixed types. Specify dtype option on import or set low_memory=False.\n",
      "  interactivity=interactivity, compiler=compiler, result=result)\n"
     ]
    },
    {
     "data": {
      "text/html": [
       "<div>\n",
       "<style>\n",
       "    .dataframe thead tr:only-child th {\n",
       "        text-align: right;\n",
       "    }\n",
       "\n",
       "    .dataframe thead th {\n",
       "        text-align: left;\n",
       "    }\n",
       "\n",
       "    .dataframe tbody tr th {\n",
       "        vertical-align: top;\n",
       "    }\n",
       "</style>\n",
       "<table border=\"1\" class=\"dataframe\">\n",
       "  <thead>\n",
       "    <tr style=\"text-align: right;\">\n",
       "      <th></th>\n",
       "      <th>LNR</th>\n",
       "      <th>AGER_TYP</th>\n",
       "      <th>AKT_DAT_KL</th>\n",
       "      <th>ALTER_HH</th>\n",
       "      <th>ALTER_KIND1</th>\n",
       "      <th>ALTER_KIND2</th>\n",
       "      <th>ALTER_KIND3</th>\n",
       "      <th>ALTER_KIND4</th>\n",
       "      <th>ALTERSKATEGORIE_FEIN</th>\n",
       "      <th>ANZ_HAUSHALTE_AKTIV</th>\n",
       "      <th>...</th>\n",
       "      <th>VHN</th>\n",
       "      <th>VK_DHT4A</th>\n",
       "      <th>VK_DISTANZ</th>\n",
       "      <th>VK_ZG11</th>\n",
       "      <th>W_KEIT_KIND_HH</th>\n",
       "      <th>WOHNDAUER_2008</th>\n",
       "      <th>WOHNLAGE</th>\n",
       "      <th>ZABEOTYP</th>\n",
       "      <th>ANREDE_KZ</th>\n",
       "      <th>ALTERSKATEGORIE_GROB</th>\n",
       "    </tr>\n",
       "  </thead>\n",
       "  <tbody>\n",
       "    <tr>\n",
       "      <th>0</th>\n",
       "      <td>910215</td>\n",
       "      <td>-1</td>\n",
       "      <td>NaN</td>\n",
       "      <td>NaN</td>\n",
       "      <td>NaN</td>\n",
       "      <td>NaN</td>\n",
       "      <td>NaN</td>\n",
       "      <td>NaN</td>\n",
       "      <td>NaN</td>\n",
       "      <td>NaN</td>\n",
       "      <td>...</td>\n",
       "      <td>NaN</td>\n",
       "      <td>NaN</td>\n",
       "      <td>NaN</td>\n",
       "      <td>NaN</td>\n",
       "      <td>NaN</td>\n",
       "      <td>NaN</td>\n",
       "      <td>NaN</td>\n",
       "      <td>3</td>\n",
       "      <td>1</td>\n",
       "      <td>2</td>\n",
       "    </tr>\n",
       "    <tr>\n",
       "      <th>1</th>\n",
       "      <td>910220</td>\n",
       "      <td>-1</td>\n",
       "      <td>9.0</td>\n",
       "      <td>0.0</td>\n",
       "      <td>NaN</td>\n",
       "      <td>NaN</td>\n",
       "      <td>NaN</td>\n",
       "      <td>NaN</td>\n",
       "      <td>21.0</td>\n",
       "      <td>11.0</td>\n",
       "      <td>...</td>\n",
       "      <td>4.0</td>\n",
       "      <td>8.0</td>\n",
       "      <td>11.0</td>\n",
       "      <td>10.0</td>\n",
       "      <td>3.0</td>\n",
       "      <td>9.0</td>\n",
       "      <td>4.0</td>\n",
       "      <td>5</td>\n",
       "      <td>2</td>\n",
       "      <td>1</td>\n",
       "    </tr>\n",
       "    <tr>\n",
       "      <th>2</th>\n",
       "      <td>910225</td>\n",
       "      <td>-1</td>\n",
       "      <td>9.0</td>\n",
       "      <td>17.0</td>\n",
       "      <td>NaN</td>\n",
       "      <td>NaN</td>\n",
       "      <td>NaN</td>\n",
       "      <td>NaN</td>\n",
       "      <td>17.0</td>\n",
       "      <td>10.0</td>\n",
       "      <td>...</td>\n",
       "      <td>2.0</td>\n",
       "      <td>9.0</td>\n",
       "      <td>9.0</td>\n",
       "      <td>6.0</td>\n",
       "      <td>3.0</td>\n",
       "      <td>9.0</td>\n",
       "      <td>2.0</td>\n",
       "      <td>5</td>\n",
       "      <td>2</td>\n",
       "      <td>3</td>\n",
       "    </tr>\n",
       "    <tr>\n",
       "      <th>3</th>\n",
       "      <td>910226</td>\n",
       "      <td>2</td>\n",
       "      <td>1.0</td>\n",
       "      <td>13.0</td>\n",
       "      <td>NaN</td>\n",
       "      <td>NaN</td>\n",
       "      <td>NaN</td>\n",
       "      <td>NaN</td>\n",
       "      <td>13.0</td>\n",
       "      <td>1.0</td>\n",
       "      <td>...</td>\n",
       "      <td>0.0</td>\n",
       "      <td>7.0</td>\n",
       "      <td>10.0</td>\n",
       "      <td>11.0</td>\n",
       "      <td>NaN</td>\n",
       "      <td>9.0</td>\n",
       "      <td>7.0</td>\n",
       "      <td>3</td>\n",
       "      <td>2</td>\n",
       "      <td>4</td>\n",
       "    </tr>\n",
       "    <tr>\n",
       "      <th>4</th>\n",
       "      <td>910241</td>\n",
       "      <td>-1</td>\n",
       "      <td>1.0</td>\n",
       "      <td>20.0</td>\n",
       "      <td>NaN</td>\n",
       "      <td>NaN</td>\n",
       "      <td>NaN</td>\n",
       "      <td>NaN</td>\n",
       "      <td>14.0</td>\n",
       "      <td>3.0</td>\n",
       "      <td>...</td>\n",
       "      <td>2.0</td>\n",
       "      <td>3.0</td>\n",
       "      <td>5.0</td>\n",
       "      <td>4.0</td>\n",
       "      <td>2.0</td>\n",
       "      <td>9.0</td>\n",
       "      <td>3.0</td>\n",
       "      <td>4</td>\n",
       "      <td>1</td>\n",
       "      <td>3</td>\n",
       "    </tr>\n",
       "  </tbody>\n",
       "</table>\n",
       "<p>5 rows × 366 columns</p>\n",
       "</div>"
      ],
      "text/plain": [
       "      LNR  AGER_TYP  AKT_DAT_KL  ALTER_HH  ALTER_KIND1  ALTER_KIND2  \\\n",
       "0  910215        -1         NaN       NaN          NaN          NaN   \n",
       "1  910220        -1         9.0       0.0          NaN          NaN   \n",
       "2  910225        -1         9.0      17.0          NaN          NaN   \n",
       "3  910226         2         1.0      13.0          NaN          NaN   \n",
       "4  910241        -1         1.0      20.0          NaN          NaN   \n",
       "\n",
       "   ALTER_KIND3  ALTER_KIND4  ALTERSKATEGORIE_FEIN  ANZ_HAUSHALTE_AKTIV  \\\n",
       "0          NaN          NaN                   NaN                  NaN   \n",
       "1          NaN          NaN                  21.0                 11.0   \n",
       "2          NaN          NaN                  17.0                 10.0   \n",
       "3          NaN          NaN                  13.0                  1.0   \n",
       "4          NaN          NaN                  14.0                  3.0   \n",
       "\n",
       "          ...           VHN  VK_DHT4A  VK_DISTANZ  VK_ZG11  W_KEIT_KIND_HH  \\\n",
       "0         ...           NaN       NaN         NaN      NaN             NaN   \n",
       "1         ...           4.0       8.0        11.0     10.0             3.0   \n",
       "2         ...           2.0       9.0         9.0      6.0             3.0   \n",
       "3         ...           0.0       7.0        10.0     11.0             NaN   \n",
       "4         ...           2.0       3.0         5.0      4.0             2.0   \n",
       "\n",
       "   WOHNDAUER_2008  WOHNLAGE ZABEOTYP ANREDE_KZ ALTERSKATEGORIE_GROB  \n",
       "0             NaN       NaN        3         1                    2  \n",
       "1             9.0       4.0        5         2                    1  \n",
       "2             9.0       2.0        5         2                    3  \n",
       "3             9.0       7.0        3         2                    4  \n",
       "4             9.0       3.0        4         1                    3  \n",
       "\n",
       "[5 rows x 366 columns]"
      ]
     },
     "execution_count": 2,
     "metadata": {},
     "output_type": "execute_result"
    }
   ],
   "source": [
    "# Load data\n",
    "general_population = pd.read_csv('data/Udacity_AZDIAS_052018.csv', sep=';')\n",
    "\n",
    "general_population.head()"
   ]
  },
  {
   "cell_type": "code",
   "execution_count": 3,
   "metadata": {},
   "outputs": [
    {
     "name": "stdout",
     "output_type": "stream",
     "text": [
      "<class 'pandas.core.frame.DataFrame'>\n",
      "RangeIndex: 891221 entries, 0 to 891220\n",
      "Columns: 366 entries, LNR to ALTERSKATEGORIE_GROB\n",
      "dtypes: float64(267), int64(93), object(6)\n",
      "memory usage: 2.4+ GB\n"
     ]
    }
   ],
   "source": [
    "# Data info\n",
    "general_population.info()"
   ]
  },
  {
   "cell_type": "code",
   "execution_count": 4,
   "metadata": {},
   "outputs": [
    {
     "name": "stderr",
     "output_type": "stream",
     "text": [
      "C:\\Users\\Desared\\Anaconda3\\lib\\site-packages\\IPython\\core\\interactiveshell.py:2698: DtypeWarning: Columns (18,19) have mixed types. Specify dtype option on import or set low_memory=False.\n",
      "  interactivity=interactivity, compiler=compiler, result=result)\n"
     ]
    },
    {
     "data": {
      "text/html": [
       "<div>\n",
       "<style>\n",
       "    .dataframe thead tr:only-child th {\n",
       "        text-align: right;\n",
       "    }\n",
       "\n",
       "    .dataframe thead th {\n",
       "        text-align: left;\n",
       "    }\n",
       "\n",
       "    .dataframe tbody tr th {\n",
       "        vertical-align: top;\n",
       "    }\n",
       "</style>\n",
       "<table border=\"1\" class=\"dataframe\">\n",
       "  <thead>\n",
       "    <tr style=\"text-align: right;\">\n",
       "      <th></th>\n",
       "      <th>LNR</th>\n",
       "      <th>AGER_TYP</th>\n",
       "      <th>AKT_DAT_KL</th>\n",
       "      <th>ALTER_HH</th>\n",
       "      <th>ALTER_KIND1</th>\n",
       "      <th>ALTER_KIND2</th>\n",
       "      <th>ALTER_KIND3</th>\n",
       "      <th>ALTER_KIND4</th>\n",
       "      <th>ALTERSKATEGORIE_FEIN</th>\n",
       "      <th>ANZ_HAUSHALTE_AKTIV</th>\n",
       "      <th>...</th>\n",
       "      <th>VK_ZG11</th>\n",
       "      <th>W_KEIT_KIND_HH</th>\n",
       "      <th>WOHNDAUER_2008</th>\n",
       "      <th>WOHNLAGE</th>\n",
       "      <th>ZABEOTYP</th>\n",
       "      <th>PRODUCT_GROUP</th>\n",
       "      <th>CUSTOMER_GROUP</th>\n",
       "      <th>ONLINE_PURCHASE</th>\n",
       "      <th>ANREDE_KZ</th>\n",
       "      <th>ALTERSKATEGORIE_GROB</th>\n",
       "    </tr>\n",
       "  </thead>\n",
       "  <tbody>\n",
       "    <tr>\n",
       "      <th>0</th>\n",
       "      <td>9626</td>\n",
       "      <td>2</td>\n",
       "      <td>1.0</td>\n",
       "      <td>10.0</td>\n",
       "      <td>NaN</td>\n",
       "      <td>NaN</td>\n",
       "      <td>NaN</td>\n",
       "      <td>NaN</td>\n",
       "      <td>10.0</td>\n",
       "      <td>1.0</td>\n",
       "      <td>...</td>\n",
       "      <td>2.0</td>\n",
       "      <td>6.0</td>\n",
       "      <td>9.0</td>\n",
       "      <td>7.0</td>\n",
       "      <td>3</td>\n",
       "      <td>COSMETIC_AND_FOOD</td>\n",
       "      <td>MULTI_BUYER</td>\n",
       "      <td>0</td>\n",
       "      <td>1</td>\n",
       "      <td>4</td>\n",
       "    </tr>\n",
       "    <tr>\n",
       "      <th>1</th>\n",
       "      <td>9628</td>\n",
       "      <td>-1</td>\n",
       "      <td>9.0</td>\n",
       "      <td>11.0</td>\n",
       "      <td>NaN</td>\n",
       "      <td>NaN</td>\n",
       "      <td>NaN</td>\n",
       "      <td>NaN</td>\n",
       "      <td>NaN</td>\n",
       "      <td>NaN</td>\n",
       "      <td>...</td>\n",
       "      <td>3.0</td>\n",
       "      <td>0.0</td>\n",
       "      <td>9.0</td>\n",
       "      <td>NaN</td>\n",
       "      <td>3</td>\n",
       "      <td>FOOD</td>\n",
       "      <td>SINGLE_BUYER</td>\n",
       "      <td>0</td>\n",
       "      <td>1</td>\n",
       "      <td>4</td>\n",
       "    </tr>\n",
       "    <tr>\n",
       "      <th>2</th>\n",
       "      <td>143872</td>\n",
       "      <td>-1</td>\n",
       "      <td>1.0</td>\n",
       "      <td>6.0</td>\n",
       "      <td>NaN</td>\n",
       "      <td>NaN</td>\n",
       "      <td>NaN</td>\n",
       "      <td>NaN</td>\n",
       "      <td>0.0</td>\n",
       "      <td>1.0</td>\n",
       "      <td>...</td>\n",
       "      <td>11.0</td>\n",
       "      <td>6.0</td>\n",
       "      <td>9.0</td>\n",
       "      <td>2.0</td>\n",
       "      <td>3</td>\n",
       "      <td>COSMETIC_AND_FOOD</td>\n",
       "      <td>MULTI_BUYER</td>\n",
       "      <td>0</td>\n",
       "      <td>2</td>\n",
       "      <td>4</td>\n",
       "    </tr>\n",
       "    <tr>\n",
       "      <th>3</th>\n",
       "      <td>143873</td>\n",
       "      <td>1</td>\n",
       "      <td>1.0</td>\n",
       "      <td>8.0</td>\n",
       "      <td>NaN</td>\n",
       "      <td>NaN</td>\n",
       "      <td>NaN</td>\n",
       "      <td>NaN</td>\n",
       "      <td>8.0</td>\n",
       "      <td>0.0</td>\n",
       "      <td>...</td>\n",
       "      <td>2.0</td>\n",
       "      <td>NaN</td>\n",
       "      <td>9.0</td>\n",
       "      <td>7.0</td>\n",
       "      <td>1</td>\n",
       "      <td>COSMETIC</td>\n",
       "      <td>MULTI_BUYER</td>\n",
       "      <td>0</td>\n",
       "      <td>1</td>\n",
       "      <td>4</td>\n",
       "    </tr>\n",
       "    <tr>\n",
       "      <th>4</th>\n",
       "      <td>143874</td>\n",
       "      <td>-1</td>\n",
       "      <td>1.0</td>\n",
       "      <td>20.0</td>\n",
       "      <td>NaN</td>\n",
       "      <td>NaN</td>\n",
       "      <td>NaN</td>\n",
       "      <td>NaN</td>\n",
       "      <td>14.0</td>\n",
       "      <td>7.0</td>\n",
       "      <td>...</td>\n",
       "      <td>4.0</td>\n",
       "      <td>2.0</td>\n",
       "      <td>9.0</td>\n",
       "      <td>3.0</td>\n",
       "      <td>1</td>\n",
       "      <td>FOOD</td>\n",
       "      <td>MULTI_BUYER</td>\n",
       "      <td>0</td>\n",
       "      <td>1</td>\n",
       "      <td>3</td>\n",
       "    </tr>\n",
       "  </tbody>\n",
       "</table>\n",
       "<p>5 rows × 369 columns</p>\n",
       "</div>"
      ],
      "text/plain": [
       "      LNR  AGER_TYP  AKT_DAT_KL  ALTER_HH  ALTER_KIND1  ALTER_KIND2  \\\n",
       "0    9626         2         1.0      10.0          NaN          NaN   \n",
       "1    9628        -1         9.0      11.0          NaN          NaN   \n",
       "2  143872        -1         1.0       6.0          NaN          NaN   \n",
       "3  143873         1         1.0       8.0          NaN          NaN   \n",
       "4  143874        -1         1.0      20.0          NaN          NaN   \n",
       "\n",
       "   ALTER_KIND3  ALTER_KIND4  ALTERSKATEGORIE_FEIN  ANZ_HAUSHALTE_AKTIV  \\\n",
       "0          NaN          NaN                  10.0                  1.0   \n",
       "1          NaN          NaN                   NaN                  NaN   \n",
       "2          NaN          NaN                   0.0                  1.0   \n",
       "3          NaN          NaN                   8.0                  0.0   \n",
       "4          NaN          NaN                  14.0                  7.0   \n",
       "\n",
       "          ...           VK_ZG11  W_KEIT_KIND_HH  WOHNDAUER_2008  WOHNLAGE  \\\n",
       "0         ...               2.0             6.0             9.0       7.0   \n",
       "1         ...               3.0             0.0             9.0       NaN   \n",
       "2         ...              11.0             6.0             9.0       2.0   \n",
       "3         ...               2.0             NaN             9.0       7.0   \n",
       "4         ...               4.0             2.0             9.0       3.0   \n",
       "\n",
       "   ZABEOTYP      PRODUCT_GROUP  CUSTOMER_GROUP ONLINE_PURCHASE ANREDE_KZ  \\\n",
       "0         3  COSMETIC_AND_FOOD     MULTI_BUYER               0         1   \n",
       "1         3               FOOD    SINGLE_BUYER               0         1   \n",
       "2         3  COSMETIC_AND_FOOD     MULTI_BUYER               0         2   \n",
       "3         1           COSMETIC     MULTI_BUYER               0         1   \n",
       "4         1               FOOD     MULTI_BUYER               0         1   \n",
       "\n",
       "  ALTERSKATEGORIE_GROB  \n",
       "0                    4  \n",
       "1                    4  \n",
       "2                    4  \n",
       "3                    4  \n",
       "4                    3  \n",
       "\n",
       "[5 rows x 369 columns]"
      ]
     },
     "execution_count": 4,
     "metadata": {},
     "output_type": "execute_result"
    }
   ],
   "source": [
    "# Load in the customer demographics data.\n",
    "customers = pd.read_csv('data/Udacity_CUSTOMERS_052018.csv', sep=';')\n",
    "\n",
    "customers.head()"
   ]
  },
  {
   "cell_type": "code",
   "execution_count": 5,
   "metadata": {},
   "outputs": [
    {
     "name": "stdout",
     "output_type": "stream",
     "text": [
      "<class 'pandas.core.frame.DataFrame'>\n",
      "RangeIndex: 191652 entries, 0 to 191651\n",
      "Columns: 369 entries, LNR to ALTERSKATEGORIE_GROB\n",
      "dtypes: float64(267), int64(94), object(8)\n",
      "memory usage: 539.5+ MB\n"
     ]
    }
   ],
   "source": [
    "# Data info\n",
    "customers.info()"
   ]
  },
  {
   "cell_type": "markdown",
   "metadata": {},
   "source": [
    "## <a class=\"anchor\" id=\"part1\">Part 1: Customer Segmentation Report</a>\n",
    "\n",
    "Using unsupervised learning techniques, the relationship between the demographics of the company's existing customers and the general population of Germany will be described. The purpose of this section is to describe parts of the general population that are most likely to be part of the mail-order company's main customer base."
   ]
  },
  {
   "cell_type": "markdown",
   "metadata": {},
   "source": [
    "## 1 Preprocessing\n",
    "\n",
    "### 1.1 Dealing with Missing Data\n"
   ]
  },
  {
   "cell_type": "code",
   "execution_count": 6,
   "metadata": {
    "collapsed": true
   },
   "outputs": [],
   "source": [
    "# Laod DIAS Attributes\n",
    "dias_attributes = pd.read_excel('data/DIAS Attributes - Values 2017.xlsx', skiprows=[0])\n",
    "del dias_attributes['Unnamed: 0']\n",
    "\n",
    "# Drop NaN attribute\n",
    "dias_attributes = dias_attributes[~dias_attributes['Attribute'].isnull()]"
   ]
  },
  {
   "cell_type": "code",
   "execution_count": 7,
   "metadata": {},
   "outputs": [
    {
     "data": {
      "text/html": [
       "<div>\n",
       "<style>\n",
       "    .dataframe thead tr:only-child th {\n",
       "        text-align: right;\n",
       "    }\n",
       "\n",
       "    .dataframe thead th {\n",
       "        text-align: left;\n",
       "    }\n",
       "\n",
       "    .dataframe tbody tr th {\n",
       "        vertical-align: top;\n",
       "    }\n",
       "</style>\n",
       "<table border=\"1\" class=\"dataframe\">\n",
       "  <thead>\n",
       "    <tr style=\"text-align: right;\">\n",
       "      <th></th>\n",
       "      <th>attribute</th>\n",
       "      <th>information_level</th>\n",
       "      <th>type</th>\n",
       "      <th>missing_or_unknown</th>\n",
       "    </tr>\n",
       "  </thead>\n",
       "  <tbody>\n",
       "    <tr>\n",
       "      <th>0</th>\n",
       "      <td>AGER_TYP</td>\n",
       "      <td>person</td>\n",
       "      <td>categorical</td>\n",
       "      <td>[-1,0]</td>\n",
       "    </tr>\n",
       "    <tr>\n",
       "      <th>1</th>\n",
       "      <td>ALTERSKATEGORIE_GROB</td>\n",
       "      <td>person</td>\n",
       "      <td>ordinal</td>\n",
       "      <td>[-1,0,9]</td>\n",
       "    </tr>\n",
       "    <tr>\n",
       "      <th>2</th>\n",
       "      <td>ANREDE_KZ</td>\n",
       "      <td>person</td>\n",
       "      <td>categorical</td>\n",
       "      <td>[-1,0]</td>\n",
       "    </tr>\n",
       "    <tr>\n",
       "      <th>3</th>\n",
       "      <td>CJT_GESAMTTYP</td>\n",
       "      <td>person</td>\n",
       "      <td>categorical</td>\n",
       "      <td>[0]</td>\n",
       "    </tr>\n",
       "    <tr>\n",
       "      <th>4</th>\n",
       "      <td>FINANZ_MINIMALIST</td>\n",
       "      <td>person</td>\n",
       "      <td>ordinal</td>\n",
       "      <td>[-1]</td>\n",
       "    </tr>\n",
       "  </tbody>\n",
       "</table>\n",
       "</div>"
      ],
      "text/plain": [
       "              attribute information_level         type missing_or_unknown\n",
       "0              AGER_TYP            person  categorical             [-1,0]\n",
       "1  ALTERSKATEGORIE_GROB            person      ordinal           [-1,0,9]\n",
       "2             ANREDE_KZ            person  categorical             [-1,0]\n",
       "3         CJT_GESAMTTYP            person  categorical                [0]\n",
       "4     FINANZ_MINIMALIST            person      ordinal               [-1]"
      ]
     },
     "execution_count": 7,
     "metadata": {},
     "output_type": "execute_result"
    }
   ],
   "source": [
    "# Load in the feature summary file.\n",
    "population_feature_info = pd.read_csv('data/AZDIAS_Feature_Summary.csv', sep=';')\n",
    "population_feature_info.head()"
   ]
  },
  {
   "cell_type": "code",
   "execution_count": 8,
   "metadata": {},
   "outputs": [
    {
     "name": "stdout",
     "output_type": "stream",
     "text": [
      "<class 'pandas.core.frame.DataFrame'>\n",
      "RangeIndex: 85 entries, 0 to 84\n",
      "Data columns (total 4 columns):\n",
      "attribute             85 non-null object\n",
      "information_level     85 non-null object\n",
      "type                  85 non-null object\n",
      "missing_or_unknown    85 non-null object\n",
      "dtypes: object(4)\n",
      "memory usage: 2.7+ KB\n"
     ]
    }
   ],
   "source": [
    "# population_feature_info info\n",
    "population_feature_info.info()"
   ]
  },
  {
   "cell_type": "code",
   "execution_count": 9,
   "metadata": {},
   "outputs": [
    {
     "data": {
      "text/plain": [
       "ordinal        49\n",
       "categorical    21\n",
       "numeric         7\n",
       "mixed           7\n",
       "interval        1\n",
       "Name: type, dtype: int64"
      ]
     },
     "execution_count": 9,
     "metadata": {},
     "output_type": "execute_result"
    }
   ],
   "source": [
    "population_feature_info.type.value_counts()"
   ]
  },
  {
   "cell_type": "code",
   "execution_count": 10,
   "metadata": {},
   "outputs": [
    {
     "data": {
      "text/html": [
       "<div>\n",
       "<style>\n",
       "    .dataframe thead tr:only-child th {\n",
       "        text-align: right;\n",
       "    }\n",
       "\n",
       "    .dataframe thead th {\n",
       "        text-align: left;\n",
       "    }\n",
       "\n",
       "    .dataframe tbody tr th {\n",
       "        vertical-align: top;\n",
       "    }\n",
       "</style>\n",
       "<table border=\"1\" class=\"dataframe\">\n",
       "  <thead>\n",
       "    <tr style=\"text-align: right;\">\n",
       "      <th></th>\n",
       "      <th>attribute</th>\n",
       "      <th>information_level</th>\n",
       "      <th>type</th>\n",
       "      <th>missing_or_unknown</th>\n",
       "    </tr>\n",
       "  </thead>\n",
       "  <tbody>\n",
       "    <tr>\n",
       "      <th>0</th>\n",
       "      <td>AGER_TYP</td>\n",
       "      <td>person</td>\n",
       "      <td>categorical</td>\n",
       "      <td>[-1,0]</td>\n",
       "    </tr>\n",
       "    <tr>\n",
       "      <th>1</th>\n",
       "      <td>ALTERSKATEGORIE_GROB</td>\n",
       "      <td>person</td>\n",
       "      <td>ordinal</td>\n",
       "      <td>[-1,0,9]</td>\n",
       "    </tr>\n",
       "    <tr>\n",
       "      <th>2</th>\n",
       "      <td>ANREDE_KZ</td>\n",
       "      <td>person</td>\n",
       "      <td>categorical</td>\n",
       "      <td>[-1,0]</td>\n",
       "    </tr>\n",
       "    <tr>\n",
       "      <th>3</th>\n",
       "      <td>CJT_GESAMTTYP</td>\n",
       "      <td>person</td>\n",
       "      <td>categorical</td>\n",
       "      <td>[0]</td>\n",
       "    </tr>\n",
       "    <tr>\n",
       "      <th>4</th>\n",
       "      <td>FINANZ_MINIMALIST</td>\n",
       "      <td>person</td>\n",
       "      <td>ordinal</td>\n",
       "      <td>[-1]</td>\n",
       "    </tr>\n",
       "  </tbody>\n",
       "</table>\n",
       "</div>"
      ],
      "text/plain": [
       "              attribute information_level         type missing_or_unknown\n",
       "0              AGER_TYP            person  categorical             [-1,0]\n",
       "1  ALTERSKATEGORIE_GROB            person      ordinal           [-1,0,9]\n",
       "2             ANREDE_KZ            person  categorical             [-1,0]\n",
       "3         CJT_GESAMTTYP            person  categorical                [0]\n",
       "4     FINANZ_MINIMALIST            person      ordinal               [-1]"
      ]
     },
     "execution_count": 10,
     "metadata": {},
     "output_type": "execute_result"
    }
   ],
   "source": [
    "# Load in the feature summary file.\n",
    "features_information = pd.read_csv('data/AZDIAS_Feature_Summary.csv', sep=';')\n",
    "features_information.head()"
   ]
  },
  {
   "cell_type": "code",
   "execution_count": 11,
   "metadata": {},
   "outputs": [
    {
     "data": {
      "text/plain": [
       "ordinal        49\n",
       "categorical    21\n",
       "numeric         7\n",
       "mixed           7\n",
       "interval        1\n",
       "Name: type, dtype: int64"
      ]
     },
     "execution_count": 11,
     "metadata": {},
     "output_type": "execute_result"
    }
   ],
   "source": [
    "features_information.type.value_counts()"
   ]
  },
  {
   "cell_type": "code",
   "execution_count": 12,
   "metadata": {},
   "outputs": [
    {
     "data": {
      "text/html": [
       "<div>\n",
       "<style>\n",
       "    .dataframe thead tr:only-child th {\n",
       "        text-align: right;\n",
       "    }\n",
       "\n",
       "    .dataframe thead th {\n",
       "        text-align: left;\n",
       "    }\n",
       "\n",
       "    .dataframe tbody tr th {\n",
       "        vertical-align: top;\n",
       "    }\n",
       "</style>\n",
       "<table border=\"1\" class=\"dataframe\">\n",
       "  <thead>\n",
       "    <tr style=\"text-align: right;\">\n",
       "      <th></th>\n",
       "      <th>Attribute</th>\n",
       "      <th>Description</th>\n",
       "      <th>Value</th>\n",
       "      <th>Meaning</th>\n",
       "    </tr>\n",
       "  </thead>\n",
       "  <tbody>\n",
       "    <tr>\n",
       "      <th>48</th>\n",
       "      <td>BIP_FLAG</td>\n",
       "      <td>business-flag indicating companies in the buil...</td>\n",
       "      <td>-1</td>\n",
       "      <td>unknown</td>\n",
       "    </tr>\n",
       "    <tr>\n",
       "      <th>105</th>\n",
       "      <td>CAMEO_DEUINTL_2015</td>\n",
       "      <td>CAMEO classification 2015 - international typo...</td>\n",
       "      <td>-1</td>\n",
       "      <td>unknown</td>\n",
       "    </tr>\n",
       "    <tr>\n",
       "      <th>138</th>\n",
       "      <td>D19_BANKEN_ANZ_12</td>\n",
       "      <td>transaction activity BANKS in the last 12 months</td>\n",
       "      <td>0</td>\n",
       "      <td>no transactions known</td>\n",
       "    </tr>\n",
       "    <tr>\n",
       "      <th>145</th>\n",
       "      <td>D19_BANKEN_ANZ_24</td>\n",
       "      <td>transaction activity BANKS in the last 24 months</td>\n",
       "      <td>0</td>\n",
       "      <td>no transactions known</td>\n",
       "    </tr>\n",
       "    <tr>\n",
       "      <th>152</th>\n",
       "      <td>D19_BANKEN_DATUM</td>\n",
       "      <td>actuality of the last transaction for the segm...</td>\n",
       "      <td>1</td>\n",
       "      <td>highest activity within the last 12 months</td>\n",
       "    </tr>\n",
       "  </tbody>\n",
       "</table>\n",
       "</div>"
      ],
      "text/plain": [
       "              Attribute                                        Description  \\\n",
       "48             BIP_FLAG  business-flag indicating companies in the buil...   \n",
       "105  CAMEO_DEUINTL_2015  CAMEO classification 2015 - international typo...   \n",
       "138   D19_BANKEN_ANZ_12   transaction activity BANKS in the last 12 months   \n",
       "145   D19_BANKEN_ANZ_24   transaction activity BANKS in the last 24 months   \n",
       "152    D19_BANKEN_DATUM  actuality of the last transaction for the segm...   \n",
       "\n",
       "    Value                                     Meaning  \n",
       "48     -1                                     unknown  \n",
       "105    -1                                     unknown  \n",
       "138     0                       no transactions known  \n",
       "145     0                       no transactions known  \n",
       "152     1  highest activity within the last 12 months  "
      ]
     },
     "execution_count": 12,
     "metadata": {},
     "output_type": "execute_result"
    }
   ],
   "source": [
    "# Attributes described in population_feature_info\n",
    "dias_attributes = dias_attributes[~dias_attributes['Attribute'].isin(population_feature_info.attribute)]\n",
    "\n",
    "dias_attributes.head()"
   ]
  },
  {
   "cell_type": "code",
   "execution_count": 13,
   "metadata": {},
   "outputs": [
    {
     "data": {
      "text/plain": [
       "(233, 4)"
      ]
     },
     "execution_count": 13,
     "metadata": {},
     "output_type": "execute_result"
    }
   ],
   "source": [
    "# dias_attributes shape\n",
    "dias_attributes.shape"
   ]
  },
  {
   "cell_type": "code",
   "execution_count": 14,
   "metadata": {},
   "outputs": [
    {
     "data": {
      "text/plain": [
       "unknown                                             172\n",
       "no transaction known                                 34\n",
       "highest activity within the last 12 months           12\n",
       "no transactions known                                10\n",
       "no Online-transactions within the last 12 months      3\n",
       "Universal                                             1\n",
       "very low car quote                                    1\n",
       "Name: Meaning, dtype: int64"
      ]
     },
     "execution_count": 14,
     "metadata": {},
     "output_type": "execute_result"
    }
   ],
   "source": [
    "# dias_attributes Meaning counts\n",
    "dias_attributes.Meaning.value_counts(dropna=False)"
   ]
  },
  {
   "cell_type": "code",
   "execution_count": 15,
   "metadata": {},
   "outputs": [
    {
     "data": {
      "text/html": [
       "<div>\n",
       "<style>\n",
       "    .dataframe thead tr:only-child th {\n",
       "        text-align: right;\n",
       "    }\n",
       "\n",
       "    .dataframe thead th {\n",
       "        text-align: left;\n",
       "    }\n",
       "\n",
       "    .dataframe tbody tr th {\n",
       "        vertical-align: top;\n",
       "    }\n",
       "</style>\n",
       "<table border=\"1\" class=\"dataframe\">\n",
       "  <thead>\n",
       "    <tr style=\"text-align: right;\">\n",
       "      <th></th>\n",
       "      <th>Attribute</th>\n",
       "      <th>Description</th>\n",
       "      <th>Value</th>\n",
       "      <th>Meaning</th>\n",
       "    </tr>\n",
       "  </thead>\n",
       "  <tbody>\n",
       "    <tr>\n",
       "      <th>765</th>\n",
       "      <td>KBA05_ALTER1</td>\n",
       "      <td>share of car owners less than 31 years old</td>\n",
       "      <td>-1, 9</td>\n",
       "      <td>unknown</td>\n",
       "    </tr>\n",
       "    <tr>\n",
       "      <th>771</th>\n",
       "      <td>KBA05_ALTER2</td>\n",
       "      <td>share of car owners inbetween 31 and 45 years ...</td>\n",
       "      <td>-1, 9</td>\n",
       "      <td>unknown</td>\n",
       "    </tr>\n",
       "    <tr>\n",
       "      <th>777</th>\n",
       "      <td>KBA05_ALTER3</td>\n",
       "      <td>share of car owners inbetween 45 and 60 years ...</td>\n",
       "      <td>-1, 9</td>\n",
       "      <td>unknown</td>\n",
       "    </tr>\n",
       "    <tr>\n",
       "      <th>783</th>\n",
       "      <td>KBA05_ALTER4</td>\n",
       "      <td>share of cars owners elder than 61 years</td>\n",
       "      <td>-1, 9</td>\n",
       "      <td>unknown</td>\n",
       "    </tr>\n",
       "    <tr>\n",
       "      <th>790</th>\n",
       "      <td>KBA05_ANHANG</td>\n",
       "      <td>share of trailers in the microcell</td>\n",
       "      <td>-1, 9</td>\n",
       "      <td>unknown</td>\n",
       "    </tr>\n",
       "  </tbody>\n",
       "</table>\n",
       "</div>"
      ],
      "text/plain": [
       "        Attribute                                        Description  Value  \\\n",
       "765  KBA05_ALTER1         share of car owners less than 31 years old  -1, 9   \n",
       "771  KBA05_ALTER2  share of car owners inbetween 31 and 45 years ...  -1, 9   \n",
       "777  KBA05_ALTER3  share of car owners inbetween 45 and 60 years ...  -1, 9   \n",
       "783  KBA05_ALTER4           share of cars owners elder than 61 years  -1, 9   \n",
       "790  KBA05_ANHANG                 share of trailers in the microcell  -1, 9   \n",
       "\n",
       "     Meaning  \n",
       "765  unknown  \n",
       "771  unknown  \n",
       "777  unknown  \n",
       "783  unknown  \n",
       "790  unknown  "
      ]
     },
     "execution_count": 15,
     "metadata": {},
     "output_type": "execute_result"
    }
   ],
   "source": [
    "# Investigate attribute with unknown Meaning\n",
    "unknown_Meaning = dias_attributes[dias_attributes['Meaning'] == 'unknown']\n",
    "\n",
    "# Keep only attribute of general_population\n",
    "unknown_Meaning = unknown_Meaning[unknown_Meaning['Attribute'].isin(general_population.columns)]\n",
    "\n",
    "# unknown_Meaning shape\n",
    "unknown_Meaning.head()"
   ]
  },
  {
   "cell_type": "code",
   "execution_count": 16,
   "metadata": {
    "collapsed": true
   },
   "outputs": [],
   "source": [
    "# Get first part of attribute\n",
    "unknown_Meaning['Short_Attribute'] = unknown_Meaning.Attribute.apply(lambda x: x.split('_')[0])"
   ]
  },
  {
   "cell_type": "code",
   "execution_count": 17,
   "metadata": {},
   "outputs": [
    {
     "data": {
      "text/plain": [
       "KBA13    106\n",
       "KBA05     58\n",
       "Name: Short_Attribute, dtype: int64"
      ]
     },
     "execution_count": 17,
     "metadata": {},
     "output_type": "execute_result"
    }
   ],
   "source": [
    "unknown_Meaning.Short_Attribute.value_counts(dropna=False)"
   ]
  },
  {
   "cell_type": "markdown",
   "metadata": {},
   "source": [
    "### Discussion\n",
    "\n",
    "*From their description and values, KBA13 and KBA05 are ordinals variabeles*"
   ]
  },
  {
   "cell_type": "code",
   "execution_count": 18,
   "metadata": {
    "collapsed": true
   },
   "outputs": [],
   "source": [
    "unknown_Meaning['type'] = 'ordinal'"
   ]
  },
  {
   "cell_type": "code",
   "execution_count": 19,
   "metadata": {},
   "outputs": [
    {
     "data": {
      "text/html": [
       "<div>\n",
       "<style>\n",
       "    .dataframe thead tr:only-child th {\n",
       "        text-align: right;\n",
       "    }\n",
       "\n",
       "    .dataframe thead th {\n",
       "        text-align: left;\n",
       "    }\n",
       "\n",
       "    .dataframe tbody tr th {\n",
       "        vertical-align: top;\n",
       "    }\n",
       "</style>\n",
       "<table border=\"1\" class=\"dataframe\">\n",
       "  <thead>\n",
       "    <tr style=\"text-align: right;\">\n",
       "      <th></th>\n",
       "      <th>Attribute</th>\n",
       "      <th>Description</th>\n",
       "      <th>Value</th>\n",
       "      <th>Meaning</th>\n",
       "      <th>Short_Attribute</th>\n",
       "    </tr>\n",
       "  </thead>\n",
       "  <tbody>\n",
       "    <tr>\n",
       "      <th>138</th>\n",
       "      <td>D19_BANKEN_ANZ_12</td>\n",
       "      <td>transaction activity BANKS in the last 12 months</td>\n",
       "      <td>0</td>\n",
       "      <td>no transactions known</td>\n",
       "      <td>D19</td>\n",
       "    </tr>\n",
       "    <tr>\n",
       "      <th>145</th>\n",
       "      <td>D19_BANKEN_ANZ_24</td>\n",
       "      <td>transaction activity BANKS in the last 24 months</td>\n",
       "      <td>0</td>\n",
       "      <td>no transactions known</td>\n",
       "      <td>D19</td>\n",
       "    </tr>\n",
       "    <tr>\n",
       "      <th>305</th>\n",
       "      <td>D19_GESAMT_ANZ_12</td>\n",
       "      <td>transaction activity TOTAL POOL in the last 12...</td>\n",
       "      <td>0</td>\n",
       "      <td>no transactions known</td>\n",
       "      <td>D19</td>\n",
       "    </tr>\n",
       "    <tr>\n",
       "      <th>312</th>\n",
       "      <td>D19_GESAMT_ANZ_24</td>\n",
       "      <td>transaction activity TOTAL POOL in the last 24...</td>\n",
       "      <td>0</td>\n",
       "      <td>no transactions known</td>\n",
       "      <td>D19</td>\n",
       "    </tr>\n",
       "    <tr>\n",
       "      <th>478</th>\n",
       "      <td>D19_TELKO_ANZ_12</td>\n",
       "      <td>transaction activity TELCO in the last 12 months</td>\n",
       "      <td>0</td>\n",
       "      <td>no transactions known</td>\n",
       "      <td>D19</td>\n",
       "    </tr>\n",
       "    <tr>\n",
       "      <th>485</th>\n",
       "      <td>D19_TELKO_ANZ_24</td>\n",
       "      <td>transaction activity TELCO in the last 24 months</td>\n",
       "      <td>0</td>\n",
       "      <td>no transactions known</td>\n",
       "      <td>D19</td>\n",
       "    </tr>\n",
       "    <tr>\n",
       "      <th>546</th>\n",
       "      <td>D19_VERSAND_ANZ_12</td>\n",
       "      <td>transaction activity MAIL-ORDER in the last 12...</td>\n",
       "      <td>0</td>\n",
       "      <td>no transactions known</td>\n",
       "      <td>D19</td>\n",
       "    </tr>\n",
       "    <tr>\n",
       "      <th>553</th>\n",
       "      <td>D19_VERSAND_ANZ_24</td>\n",
       "      <td>transaction activity MAIL-ORDER in the last 24...</td>\n",
       "      <td>0</td>\n",
       "      <td>no transactions known</td>\n",
       "      <td>D19</td>\n",
       "    </tr>\n",
       "    <tr>\n",
       "      <th>617</th>\n",
       "      <td>D19_VERSI_ANZ_12</td>\n",
       "      <td>transaction activity INSURANCE in the last 12 ...</td>\n",
       "      <td>0</td>\n",
       "      <td>no transactions known</td>\n",
       "      <td>D19</td>\n",
       "    </tr>\n",
       "    <tr>\n",
       "      <th>624</th>\n",
       "      <td>D19_VERSI_ANZ_24</td>\n",
       "      <td>transaction activity INSURANCE in the last 24 ...</td>\n",
       "      <td>0</td>\n",
       "      <td>no transactions known</td>\n",
       "      <td>D19</td>\n",
       "    </tr>\n",
       "  </tbody>\n",
       "</table>\n",
       "</div>"
      ],
      "text/plain": [
       "              Attribute                                        Description  \\\n",
       "138   D19_BANKEN_ANZ_12   transaction activity BANKS in the last 12 months   \n",
       "145   D19_BANKEN_ANZ_24   transaction activity BANKS in the last 24 months   \n",
       "305   D19_GESAMT_ANZ_12  transaction activity TOTAL POOL in the last 12...   \n",
       "312   D19_GESAMT_ANZ_24  transaction activity TOTAL POOL in the last 24...   \n",
       "478    D19_TELKO_ANZ_12   transaction activity TELCO in the last 12 months   \n",
       "485    D19_TELKO_ANZ_24   transaction activity TELCO in the last 24 months   \n",
       "546  D19_VERSAND_ANZ_12  transaction activity MAIL-ORDER in the last 12...   \n",
       "553  D19_VERSAND_ANZ_24  transaction activity MAIL-ORDER in the last 24...   \n",
       "617    D19_VERSI_ANZ_12  transaction activity INSURANCE in the last 12 ...   \n",
       "624    D19_VERSI_ANZ_24  transaction activity INSURANCE in the last 24 ...   \n",
       "\n",
       "    Value                Meaning Short_Attribute  \n",
       "138     0  no transactions known             D19  \n",
       "145     0  no transactions known             D19  \n",
       "305     0  no transactions known             D19  \n",
       "312     0  no transactions known             D19  \n",
       "478     0  no transactions known             D19  \n",
       "485     0  no transactions known             D19  \n",
       "546     0  no transactions known             D19  \n",
       "553     0  no transactions known             D19  \n",
       "617     0  no transactions known             D19  \n",
       "624     0  no transactions known             D19  "
      ]
     },
     "execution_count": 19,
     "metadata": {},
     "output_type": "execute_result"
    }
   ],
   "source": [
    "# Investigate attribute with no transaction known\n",
    "no_transaction = dias_attributes[dias_attributes['Meaning'].isin(['no transaction known', 'no transactions known'])]\n",
    "\n",
    "# Keep only attribute of general_population\n",
    "no_transaction = no_transaction[no_transaction['Attribute'].isin(general_population.columns)]\n",
    "\n",
    "# Get first part of attribute\n",
    "no_transaction['Short_Attribute'] = no_transaction.Attribute.apply(lambda x: x.split('_')[0])\n",
    "\n",
    "# unknown_Meaning shape\n",
    "no_transaction"
   ]
  },
  {
   "cell_type": "markdown",
   "metadata": {},
   "source": [
    "### Discussion\n",
    "\n",
    "*From their description and values, D19 are ordinals variables*"
   ]
  },
  {
   "cell_type": "code",
   "execution_count": 20,
   "metadata": {
    "collapsed": true
   },
   "outputs": [],
   "source": [
    "no_transaction['type'] = 'ordinal'"
   ]
  },
  {
   "cell_type": "code",
   "execution_count": 21,
   "metadata": {},
   "outputs": [
    {
     "data": {
      "text/html": [
       "<div>\n",
       "<style>\n",
       "    .dataframe thead tr:only-child th {\n",
       "        text-align: right;\n",
       "    }\n",
       "\n",
       "    .dataframe thead th {\n",
       "        text-align: left;\n",
       "    }\n",
       "\n",
       "    .dataframe tbody tr th {\n",
       "        vertical-align: top;\n",
       "    }\n",
       "</style>\n",
       "<table border=\"1\" class=\"dataframe\">\n",
       "  <thead>\n",
       "    <tr style=\"text-align: right;\">\n",
       "      <th></th>\n",
       "      <th>Attribute</th>\n",
       "      <th>Description</th>\n",
       "      <th>Value</th>\n",
       "      <th>Meaning</th>\n",
       "      <th>Short_Attribute</th>\n",
       "    </tr>\n",
       "  </thead>\n",
       "  <tbody>\n",
       "    <tr>\n",
       "      <th>152</th>\n",
       "      <td>D19_BANKEN_DATUM</td>\n",
       "      <td>actuality of the last transaction for the segm...</td>\n",
       "      <td>1</td>\n",
       "      <td>highest activity within the last 12 months</td>\n",
       "      <td>D19</td>\n",
       "    </tr>\n",
       "    <tr>\n",
       "      <th>186</th>\n",
       "      <td>D19_BANKEN_OFFLINE_DATUM</td>\n",
       "      <td>actuality of the last transaction for the segm...</td>\n",
       "      <td>1</td>\n",
       "      <td>highest activity within the last 12 months</td>\n",
       "      <td>D19</td>\n",
       "    </tr>\n",
       "    <tr>\n",
       "      <th>196</th>\n",
       "      <td>D19_BANKEN_ONLINE_DATUM</td>\n",
       "      <td>actuality of the last transaction for the segm...</td>\n",
       "      <td>1</td>\n",
       "      <td>highest activity within the last 12 months</td>\n",
       "      <td>D19</td>\n",
       "    </tr>\n",
       "    <tr>\n",
       "      <th>206</th>\n",
       "      <td>D19_BANKEN_ONLINE_QUOTE_12</td>\n",
       "      <td>amount of online transactions within all trans...</td>\n",
       "      <td>0</td>\n",
       "      <td>no Online-transactions within the last 12 months</td>\n",
       "      <td>D19</td>\n",
       "    </tr>\n",
       "    <tr>\n",
       "      <th>319</th>\n",
       "      <td>D19_GESAMT_DATUM</td>\n",
       "      <td>actuality of the last transaction with the com...</td>\n",
       "      <td>1</td>\n",
       "      <td>highest activity within the last 12 months</td>\n",
       "      <td>D19</td>\n",
       "    </tr>\n",
       "    <tr>\n",
       "      <th>329</th>\n",
       "      <td>D19_GESAMT_OFFLINE_DATUM</td>\n",
       "      <td>actuality of the last transaction with the com...</td>\n",
       "      <td>1</td>\n",
       "      <td>highest activity within the last 12 months</td>\n",
       "      <td>D19</td>\n",
       "    </tr>\n",
       "    <tr>\n",
       "      <th>339</th>\n",
       "      <td>D19_GESAMT_ONLINE_DATUM</td>\n",
       "      <td>actuality of the last transaction with the com...</td>\n",
       "      <td>1</td>\n",
       "      <td>highest activity within the last 12 months</td>\n",
       "      <td>D19</td>\n",
       "    </tr>\n",
       "    <tr>\n",
       "      <th>349</th>\n",
       "      <td>D19_GESAMT_ONLINE_QUOTE_12</td>\n",
       "      <td>amount of online transactions within all trans...</td>\n",
       "      <td>0</td>\n",
       "      <td>no Online-transactions within the last 12 months</td>\n",
       "      <td>D19</td>\n",
       "    </tr>\n",
       "    <tr>\n",
       "      <th>384</th>\n",
       "      <td>D19_KONSUMTYP</td>\n",
       "      <td>consumption type</td>\n",
       "      <td>1</td>\n",
       "      <td>Universal</td>\n",
       "      <td>D19</td>\n",
       "    </tr>\n",
       "    <tr>\n",
       "      <th>492</th>\n",
       "      <td>D19_TELKO_DATUM</td>\n",
       "      <td>actuality of the last transaction for the segm...</td>\n",
       "      <td>1</td>\n",
       "      <td>highest activity within the last 12 months</td>\n",
       "      <td>D19</td>\n",
       "    </tr>\n",
       "    <tr>\n",
       "      <th>510</th>\n",
       "      <td>D19_TELKO_OFFLINE_DATUM</td>\n",
       "      <td>actuality of the last transaction for the segm...</td>\n",
       "      <td>1</td>\n",
       "      <td>highest activity within the last 12 months</td>\n",
       "      <td>D19</td>\n",
       "    </tr>\n",
       "    <tr>\n",
       "      <th>520</th>\n",
       "      <td>D19_TELKO_ONLINE_DATUM</td>\n",
       "      <td>actuality of the last transaction for the segm...</td>\n",
       "      <td>1</td>\n",
       "      <td>highest activity within the last 12 months</td>\n",
       "      <td>D19</td>\n",
       "    </tr>\n",
       "    <tr>\n",
       "      <th>560</th>\n",
       "      <td>D19_VERSAND_DATUM</td>\n",
       "      <td>actuality of the last transaction for the segm...</td>\n",
       "      <td>1</td>\n",
       "      <td>highest activity within the last 12 months</td>\n",
       "      <td>D19</td>\n",
       "    </tr>\n",
       "    <tr>\n",
       "      <th>570</th>\n",
       "      <td>D19_VERSAND_OFFLINE_DATUM</td>\n",
       "      <td>actuality of the last transaction for the segm...</td>\n",
       "      <td>1</td>\n",
       "      <td>highest activity within the last 12 months</td>\n",
       "      <td>D19</td>\n",
       "    </tr>\n",
       "    <tr>\n",
       "      <th>580</th>\n",
       "      <td>D19_VERSAND_ONLINE_DATUM</td>\n",
       "      <td>actuality of the last transaction for the segm...</td>\n",
       "      <td>1</td>\n",
       "      <td>highest activity within the last 12 months</td>\n",
       "      <td>D19</td>\n",
       "    </tr>\n",
       "    <tr>\n",
       "      <th>590</th>\n",
       "      <td>D19_VERSAND_ONLINE_QUOTE_12</td>\n",
       "      <td>amount of online transactions within all trans...</td>\n",
       "      <td>0</td>\n",
       "      <td>no Online-transactions within the last 12 months</td>\n",
       "      <td>D19</td>\n",
       "    </tr>\n",
       "    <tr>\n",
       "      <th>816</th>\n",
       "      <td>KBA05_AUTOQUOT</td>\n",
       "      <td>share of cars per household</td>\n",
       "      <td>1</td>\n",
       "      <td>very low car quote</td>\n",
       "      <td>KBA05</td>\n",
       "    </tr>\n",
       "  </tbody>\n",
       "</table>\n",
       "</div>"
      ],
      "text/plain": [
       "                       Attribute  \\\n",
       "152             D19_BANKEN_DATUM   \n",
       "186     D19_BANKEN_OFFLINE_DATUM   \n",
       "196      D19_BANKEN_ONLINE_DATUM   \n",
       "206   D19_BANKEN_ONLINE_QUOTE_12   \n",
       "319             D19_GESAMT_DATUM   \n",
       "329     D19_GESAMT_OFFLINE_DATUM   \n",
       "339      D19_GESAMT_ONLINE_DATUM   \n",
       "349   D19_GESAMT_ONLINE_QUOTE_12   \n",
       "384                D19_KONSUMTYP   \n",
       "492              D19_TELKO_DATUM   \n",
       "510      D19_TELKO_OFFLINE_DATUM   \n",
       "520       D19_TELKO_ONLINE_DATUM   \n",
       "560            D19_VERSAND_DATUM   \n",
       "570    D19_VERSAND_OFFLINE_DATUM   \n",
       "580     D19_VERSAND_ONLINE_DATUM   \n",
       "590  D19_VERSAND_ONLINE_QUOTE_12   \n",
       "816               KBA05_AUTOQUOT   \n",
       "\n",
       "                                           Description Value  \\\n",
       "152  actuality of the last transaction for the segm...     1   \n",
       "186  actuality of the last transaction for the segm...     1   \n",
       "196  actuality of the last transaction for the segm...     1   \n",
       "206  amount of online transactions within all trans...     0   \n",
       "319  actuality of the last transaction with the com...     1   \n",
       "329  actuality of the last transaction with the com...     1   \n",
       "339  actuality of the last transaction with the com...     1   \n",
       "349  amount of online transactions within all trans...     0   \n",
       "384                                  consumption type      1   \n",
       "492  actuality of the last transaction for the segm...     1   \n",
       "510  actuality of the last transaction for the segm...     1   \n",
       "520  actuality of the last transaction for the segm...     1   \n",
       "560  actuality of the last transaction for the segm...     1   \n",
       "570  actuality of the last transaction for the segm...     1   \n",
       "580  actuality of the last transaction for the segm...     1   \n",
       "590  amount of online transactions within all trans...     0   \n",
       "816                        share of cars per household     1   \n",
       "\n",
       "                                              Meaning Short_Attribute  \n",
       "152        highest activity within the last 12 months             D19  \n",
       "186        highest activity within the last 12 months             D19  \n",
       "196        highest activity within the last 12 months             D19  \n",
       "206  no Online-transactions within the last 12 months             D19  \n",
       "319        highest activity within the last 12 months             D19  \n",
       "329        highest activity within the last 12 months             D19  \n",
       "339        highest activity within the last 12 months             D19  \n",
       "349  no Online-transactions within the last 12 months             D19  \n",
       "384                                         Universal             D19  \n",
       "492        highest activity within the last 12 months             D19  \n",
       "510        highest activity within the last 12 months             D19  \n",
       "520        highest activity within the last 12 months             D19  \n",
       "560        highest activity within the last 12 months             D19  \n",
       "570        highest activity within the last 12 months             D19  \n",
       "580        highest activity within the last 12 months             D19  \n",
       "590  no Online-transactions within the last 12 months             D19  \n",
       "816                                very low car quote           KBA05  "
      ]
     },
     "execution_count": 21,
     "metadata": {},
     "output_type": "execute_result"
    }
   ],
   "source": [
    "# Investigate the rest of attributes \n",
    "meaningful_dias_attributes = dias_attributes[~dias_attributes['Meaning'].isin(\n",
    "    ['no transaction known','no transactions known','unknown']\n",
    ")]\n",
    "\n",
    "# Keep only attribute of general_population\n",
    "meaningful_dias_attributes = meaningful_dias_attributes[meaningful_dias_attributes['Attribute'].isin(general_population.columns)]\n",
    "\n",
    "# Get first part of attribute\n",
    "meaningful_dias_attributes['Short_Attribute'] = meaningful_dias_attributes.Attribute.apply(lambda x: x.split('_')[0])\n",
    "\n",
    "# unknown_Meaning shape\n",
    "meaningful_dias_attributes"
   ]
  },
  {
   "cell_type": "markdown",
   "metadata": {},
   "source": [
    "### Discussion\n",
    "\n",
    "*From their respective description, all attributes in meaningful_dias_attributes are ordinal except D19_KONSUMTYP which is categorical*"
   ]
  },
  {
   "cell_type": "code",
   "execution_count": 22,
   "metadata": {
    "collapsed": true
   },
   "outputs": [],
   "source": [
    "meaningful_dias_attributes['type'] = meaningful_dias_attributes.Attribute.apply(\n",
    "    lambda x: 'categorical' if x=='D19_KONSUMTYP' else 'ordinal'\n",
    ")"
   ]
  },
  {
   "cell_type": "markdown",
   "metadata": {
    "collapsed": true
   },
   "source": [
    "#### Convert Missing Value Codes to NaNs"
   ]
  },
  {
   "cell_type": "code",
   "execution_count": 23,
   "metadata": {},
   "outputs": [
    {
     "data": {
      "text/html": [
       "<div>\n",
       "<style>\n",
       "    .dataframe thead tr:only-child th {\n",
       "        text-align: right;\n",
       "    }\n",
       "\n",
       "    .dataframe thead th {\n",
       "        text-align: left;\n",
       "    }\n",
       "\n",
       "    .dataframe tbody tr th {\n",
       "        vertical-align: top;\n",
       "    }\n",
       "</style>\n",
       "<table border=\"1\" class=\"dataframe\">\n",
       "  <thead>\n",
       "    <tr style=\"text-align: right;\">\n",
       "      <th></th>\n",
       "      <th>attribute</th>\n",
       "      <th>type</th>\n",
       "      <th>missing_or_unknown</th>\n",
       "    </tr>\n",
       "  </thead>\n",
       "  <tbody>\n",
       "    <tr>\n",
       "      <th>765</th>\n",
       "      <td>KBA05_ALTER1</td>\n",
       "      <td>ordinal</td>\n",
       "      <td>[-1,  9]</td>\n",
       "    </tr>\n",
       "    <tr>\n",
       "      <th>771</th>\n",
       "      <td>KBA05_ALTER2</td>\n",
       "      <td>ordinal</td>\n",
       "      <td>[-1,  9]</td>\n",
       "    </tr>\n",
       "    <tr>\n",
       "      <th>777</th>\n",
       "      <td>KBA05_ALTER3</td>\n",
       "      <td>ordinal</td>\n",
       "      <td>[-1,  9]</td>\n",
       "    </tr>\n",
       "    <tr>\n",
       "      <th>783</th>\n",
       "      <td>KBA05_ALTER4</td>\n",
       "      <td>ordinal</td>\n",
       "      <td>[-1,  9]</td>\n",
       "    </tr>\n",
       "    <tr>\n",
       "      <th>790</th>\n",
       "      <td>KBA05_ANHANG</td>\n",
       "      <td>ordinal</td>\n",
       "      <td>[-1,  9]</td>\n",
       "    </tr>\n",
       "  </tbody>\n",
       "</table>\n",
       "</div>"
      ],
      "text/plain": [
       "        attribute     type missing_or_unknown\n",
       "765  KBA05_ALTER1  ordinal           [-1,  9]\n",
       "771  KBA05_ALTER2  ordinal           [-1,  9]\n",
       "777  KBA05_ALTER3  ordinal           [-1,  9]\n",
       "783  KBA05_ALTER4  ordinal           [-1,  9]\n",
       "790  KBA05_ANHANG  ordinal           [-1,  9]"
      ]
     },
     "execution_count": 23,
     "metadata": {},
     "output_type": "execute_result"
    }
   ],
   "source": [
    "# Make a dataframe of features proprieties\n",
    "unknown_Meaning['missing_or_unknown'] = unknown_Meaning.Value.apply(lambda x: [str(k) for k in str(x).split(',')])\n",
    "\n",
    "# Drop colums\n",
    "unknown_Meaning.drop(['Description', 'Value', 'Meaning', 'Short_Attribute'], axis=1, inplace=True)\n",
    "\n",
    "# Change columns name\n",
    "unknown_Meaning.columns = ['attribute', 'type', 'missing_or_unknown']\n",
    "\n",
    "unknown_Meaning.head()"
   ]
  },
  {
   "cell_type": "code",
   "execution_count": 24,
   "metadata": {},
   "outputs": [
    {
     "data": {
      "text/html": [
       "<div>\n",
       "<style>\n",
       "    .dataframe thead tr:only-child th {\n",
       "        text-align: right;\n",
       "    }\n",
       "\n",
       "    .dataframe thead th {\n",
       "        text-align: left;\n",
       "    }\n",
       "\n",
       "    .dataframe tbody tr th {\n",
       "        vertical-align: top;\n",
       "    }\n",
       "</style>\n",
       "<table border=\"1\" class=\"dataframe\">\n",
       "  <thead>\n",
       "    <tr style=\"text-align: right;\">\n",
       "      <th></th>\n",
       "      <th>attribute</th>\n",
       "      <th>type</th>\n",
       "      <th>missing_or_unknown</th>\n",
       "    </tr>\n",
       "  </thead>\n",
       "  <tbody>\n",
       "    <tr>\n",
       "      <th>138</th>\n",
       "      <td>D19_BANKEN_ANZ_12</td>\n",
       "      <td>ordinal</td>\n",
       "      <td>[0]</td>\n",
       "    </tr>\n",
       "    <tr>\n",
       "      <th>145</th>\n",
       "      <td>D19_BANKEN_ANZ_24</td>\n",
       "      <td>ordinal</td>\n",
       "      <td>[0]</td>\n",
       "    </tr>\n",
       "    <tr>\n",
       "      <th>305</th>\n",
       "      <td>D19_GESAMT_ANZ_12</td>\n",
       "      <td>ordinal</td>\n",
       "      <td>[0]</td>\n",
       "    </tr>\n",
       "    <tr>\n",
       "      <th>312</th>\n",
       "      <td>D19_GESAMT_ANZ_24</td>\n",
       "      <td>ordinal</td>\n",
       "      <td>[0]</td>\n",
       "    </tr>\n",
       "    <tr>\n",
       "      <th>478</th>\n",
       "      <td>D19_TELKO_ANZ_12</td>\n",
       "      <td>ordinal</td>\n",
       "      <td>[0]</td>\n",
       "    </tr>\n",
       "  </tbody>\n",
       "</table>\n",
       "</div>"
      ],
      "text/plain": [
       "             attribute     type missing_or_unknown\n",
       "138  D19_BANKEN_ANZ_12  ordinal                [0]\n",
       "145  D19_BANKEN_ANZ_24  ordinal                [0]\n",
       "305  D19_GESAMT_ANZ_12  ordinal                [0]\n",
       "312  D19_GESAMT_ANZ_24  ordinal                [0]\n",
       "478   D19_TELKO_ANZ_12  ordinal                [0]"
      ]
     },
     "execution_count": 24,
     "metadata": {},
     "output_type": "execute_result"
    }
   ],
   "source": [
    "# no_transaction\n",
    "no_transaction['missing_or_unknown'] = no_transaction.Value.apply(lambda x: [str(x)])\n",
    "\n",
    "# Drop colums\n",
    "no_transaction.drop(['Description', 'Value', 'Meaning', 'Short_Attribute'], axis=1, inplace=True)\n",
    "\n",
    "# Change columns name\n",
    "no_transaction.columns = ['attribute', 'type', 'missing_or_unknown']\n",
    "\n",
    "no_transaction.head()"
   ]
  },
  {
   "cell_type": "code",
   "execution_count": 25,
   "metadata": {},
   "outputs": [
    {
     "data": {
      "text/html": [
       "<div>\n",
       "<style>\n",
       "    .dataframe thead tr:only-child th {\n",
       "        text-align: right;\n",
       "    }\n",
       "\n",
       "    .dataframe thead th {\n",
       "        text-align: left;\n",
       "    }\n",
       "\n",
       "    .dataframe tbody tr th {\n",
       "        vertical-align: top;\n",
       "    }\n",
       "</style>\n",
       "<table border=\"1\" class=\"dataframe\">\n",
       "  <thead>\n",
       "    <tr style=\"text-align: right;\">\n",
       "      <th></th>\n",
       "      <th>attribute</th>\n",
       "      <th>type</th>\n",
       "      <th>missing_or_unknown</th>\n",
       "    </tr>\n",
       "  </thead>\n",
       "  <tbody>\n",
       "    <tr>\n",
       "      <th>152</th>\n",
       "      <td>D19_BANKEN_DATUM</td>\n",
       "      <td>ordinal</td>\n",
       "      <td>[]</td>\n",
       "    </tr>\n",
       "    <tr>\n",
       "      <th>186</th>\n",
       "      <td>D19_BANKEN_OFFLINE_DATUM</td>\n",
       "      <td>ordinal</td>\n",
       "      <td>[]</td>\n",
       "    </tr>\n",
       "    <tr>\n",
       "      <th>196</th>\n",
       "      <td>D19_BANKEN_ONLINE_DATUM</td>\n",
       "      <td>ordinal</td>\n",
       "      <td>[]</td>\n",
       "    </tr>\n",
       "    <tr>\n",
       "      <th>206</th>\n",
       "      <td>D19_BANKEN_ONLINE_QUOTE_12</td>\n",
       "      <td>ordinal</td>\n",
       "      <td>[]</td>\n",
       "    </tr>\n",
       "    <tr>\n",
       "      <th>319</th>\n",
       "      <td>D19_GESAMT_DATUM</td>\n",
       "      <td>ordinal</td>\n",
       "      <td>[]</td>\n",
       "    </tr>\n",
       "  </tbody>\n",
       "</table>\n",
       "</div>"
      ],
      "text/plain": [
       "                      attribute     type missing_or_unknown\n",
       "152            D19_BANKEN_DATUM  ordinal                 []\n",
       "186    D19_BANKEN_OFFLINE_DATUM  ordinal                 []\n",
       "196     D19_BANKEN_ONLINE_DATUM  ordinal                 []\n",
       "206  D19_BANKEN_ONLINE_QUOTE_12  ordinal                 []\n",
       "319            D19_GESAMT_DATUM  ordinal                 []"
      ]
     },
     "execution_count": 25,
     "metadata": {},
     "output_type": "execute_result"
    }
   ],
   "source": [
    "meaningful_dias_attributes['missing_or_unknown'] = meaningful_dias_attributes.Value.apply(lambda x: [])\n",
    "\n",
    "# Drop colums\n",
    "meaningful_dias_attributes.drop(['Description', 'Value', 'Meaning', 'Short_Attribute'], axis=1, inplace=True)\n",
    "\n",
    "# Change columns name\n",
    "meaningful_dias_attributes.columns = ['attribute', 'type', 'missing_or_unknown']\n",
    "\n",
    "meaningful_dias_attributes.head()"
   ]
  },
  {
   "cell_type": "code",
   "execution_count": 26,
   "metadata": {},
   "outputs": [
    {
     "data": {
      "text/html": [
       "<div>\n",
       "<style>\n",
       "    .dataframe thead tr:only-child th {\n",
       "        text-align: right;\n",
       "    }\n",
       "\n",
       "    .dataframe thead th {\n",
       "        text-align: left;\n",
       "    }\n",
       "\n",
       "    .dataframe tbody tr th {\n",
       "        vertical-align: top;\n",
       "    }\n",
       "</style>\n",
       "<table border=\"1\" class=\"dataframe\">\n",
       "  <thead>\n",
       "    <tr style=\"text-align: right;\">\n",
       "      <th></th>\n",
       "      <th>attribute</th>\n",
       "      <th>information_level</th>\n",
       "      <th>type</th>\n",
       "      <th>missing_or_unknown</th>\n",
       "    </tr>\n",
       "  </thead>\n",
       "  <tbody>\n",
       "    <tr>\n",
       "      <th>0</th>\n",
       "      <td>AGER_TYP</td>\n",
       "      <td>person</td>\n",
       "      <td>categorical</td>\n",
       "      <td>[-1,0]</td>\n",
       "    </tr>\n",
       "    <tr>\n",
       "      <th>1</th>\n",
       "      <td>ALTERSKATEGORIE_GROB</td>\n",
       "      <td>person</td>\n",
       "      <td>ordinal</td>\n",
       "      <td>[-1,0,9]</td>\n",
       "    </tr>\n",
       "    <tr>\n",
       "      <th>2</th>\n",
       "      <td>ANREDE_KZ</td>\n",
       "      <td>person</td>\n",
       "      <td>categorical</td>\n",
       "      <td>[-1,0]</td>\n",
       "    </tr>\n",
       "    <tr>\n",
       "      <th>3</th>\n",
       "      <td>CJT_GESAMTTYP</td>\n",
       "      <td>person</td>\n",
       "      <td>categorical</td>\n",
       "      <td>[0]</td>\n",
       "    </tr>\n",
       "    <tr>\n",
       "      <th>4</th>\n",
       "      <td>FINANZ_MINIMALIST</td>\n",
       "      <td>person</td>\n",
       "      <td>ordinal</td>\n",
       "      <td>[-1]</td>\n",
       "    </tr>\n",
       "  </tbody>\n",
       "</table>\n",
       "</div>"
      ],
      "text/plain": [
       "              attribute information_level         type missing_or_unknown\n",
       "0              AGER_TYP            person  categorical             [-1,0]\n",
       "1  ALTERSKATEGORIE_GROB            person      ordinal           [-1,0,9]\n",
       "2             ANREDE_KZ            person  categorical             [-1,0]\n",
       "3         CJT_GESAMTTYP            person  categorical                [0]\n",
       "4     FINANZ_MINIMALIST            person      ordinal               [-1]"
      ]
     },
     "execution_count": 26,
     "metadata": {},
     "output_type": "execute_result"
    }
   ],
   "source": [
    "population_feature_info.head()"
   ]
  },
  {
   "cell_type": "code",
   "execution_count": 27,
   "metadata": {},
   "outputs": [
    {
     "data": {
      "text/html": [
       "<div>\n",
       "<style>\n",
       "    .dataframe thead tr:only-child th {\n",
       "        text-align: right;\n",
       "    }\n",
       "\n",
       "    .dataframe thead th {\n",
       "        text-align: left;\n",
       "    }\n",
       "\n",
       "    .dataframe tbody tr th {\n",
       "        vertical-align: top;\n",
       "    }\n",
       "</style>\n",
       "<table border=\"1\" class=\"dataframe\">\n",
       "  <thead>\n",
       "    <tr style=\"text-align: right;\">\n",
       "      <th></th>\n",
       "      <th>attribute</th>\n",
       "      <th>type</th>\n",
       "      <th>missing_or_unknown</th>\n",
       "    </tr>\n",
       "  </thead>\n",
       "  <tbody>\n",
       "    <tr>\n",
       "      <th>0</th>\n",
       "      <td>AGER_TYP</td>\n",
       "      <td>categorical</td>\n",
       "      <td>[-1, 0]</td>\n",
       "    </tr>\n",
       "    <tr>\n",
       "      <th>1</th>\n",
       "      <td>ALTERSKATEGORIE_GROB</td>\n",
       "      <td>ordinal</td>\n",
       "      <td>[-1, 0, 9]</td>\n",
       "    </tr>\n",
       "    <tr>\n",
       "      <th>2</th>\n",
       "      <td>ANREDE_KZ</td>\n",
       "      <td>categorical</td>\n",
       "      <td>[-1, 0]</td>\n",
       "    </tr>\n",
       "    <tr>\n",
       "      <th>3</th>\n",
       "      <td>CJT_GESAMTTYP</td>\n",
       "      <td>categorical</td>\n",
       "      <td>[0]</td>\n",
       "    </tr>\n",
       "    <tr>\n",
       "      <th>4</th>\n",
       "      <td>FINANZ_MINIMALIST</td>\n",
       "      <td>ordinal</td>\n",
       "      <td>[-1]</td>\n",
       "    </tr>\n",
       "  </tbody>\n",
       "</table>\n",
       "</div>"
      ],
      "text/plain": [
       "              attribute         type missing_or_unknown\n",
       "0              AGER_TYP  categorical            [-1, 0]\n",
       "1  ALTERSKATEGORIE_GROB      ordinal         [-1, 0, 9]\n",
       "2             ANREDE_KZ  categorical            [-1, 0]\n",
       "3         CJT_GESAMTTYP  categorical                [0]\n",
       "4     FINANZ_MINIMALIST      ordinal               [-1]"
      ]
     },
     "execution_count": 27,
     "metadata": {},
     "output_type": "execute_result"
    }
   ],
   "source": [
    "# population_feature_info\n",
    "population_feature_info['missing_or_unknown'] = population_feature_info['missing_or_unknown'].apply(lambda x: x[1:-1].split(','))\n",
    "\n",
    "# Drop information_level \n",
    "population_feature_info.drop(['information_level'], axis=1, inplace=True)\n",
    "\n",
    "population_feature_info.head()"
   ]
  },
  {
   "cell_type": "code",
   "execution_count": 28,
   "metadata": {
    "collapsed": true
   },
   "outputs": [],
   "source": [
    "# Concat feat info\n",
    "final_population_feature_info = pd.concat(\n",
    "    [population_feature_info, meaningful_dias_attributes, no_transaction, unknown_Meaning], ignore_index=True\n",
    ")"
   ]
  },
  {
   "cell_type": "code",
   "execution_count": 29,
   "metadata": {},
   "outputs": [
    {
     "data": {
      "text/plain": [
       "(276, 3)"
      ]
     },
     "execution_count": 29,
     "metadata": {},
     "output_type": "execute_result"
    }
   ],
   "source": [
    "# Shape of final_population_feature_info\n",
    "final_population_feature_info.shape"
   ]
  },
  {
   "cell_type": "code",
   "execution_count": 30,
   "metadata": {
    "collapsed": true
   },
   "outputs": [],
   "source": [
    "# Columns without type\n",
    "columns_no_type = general_population.columns[~general_population.columns.isin(final_population_feature_info.attribute)]"
   ]
  },
  {
   "cell_type": "code",
   "execution_count": 31,
   "metadata": {},
   "outputs": [
    {
     "data": {
      "text/html": [
       "<div>\n",
       "<style>\n",
       "    .dataframe thead tr:only-child th {\n",
       "        text-align: right;\n",
       "    }\n",
       "\n",
       "    .dataframe thead th {\n",
       "        text-align: left;\n",
       "    }\n",
       "\n",
       "    .dataframe tbody tr th {\n",
       "        vertical-align: top;\n",
       "    }\n",
       "</style>\n",
       "<table border=\"1\" class=\"dataframe\">\n",
       "  <thead>\n",
       "    <tr style=\"text-align: right;\">\n",
       "      <th></th>\n",
       "      <th>D19_LETZTER_KAUF_BRANCHE</th>\n",
       "      <th>EINGEFUEGT_AM</th>\n",
       "    </tr>\n",
       "  </thead>\n",
       "  <tbody>\n",
       "    <tr>\n",
       "      <th>0</th>\n",
       "      <td>NaN</td>\n",
       "      <td>NaN</td>\n",
       "    </tr>\n",
       "    <tr>\n",
       "      <th>1</th>\n",
       "      <td>NaN</td>\n",
       "      <td>1992-02-10 00:00:00</td>\n",
       "    </tr>\n",
       "    <tr>\n",
       "      <th>2</th>\n",
       "      <td>D19_UNBEKANNT</td>\n",
       "      <td>1992-02-12 00:00:00</td>\n",
       "    </tr>\n",
       "    <tr>\n",
       "      <th>3</th>\n",
       "      <td>D19_UNBEKANNT</td>\n",
       "      <td>1997-04-21 00:00:00</td>\n",
       "    </tr>\n",
       "    <tr>\n",
       "      <th>4</th>\n",
       "      <td>D19_SCHUHE</td>\n",
       "      <td>1992-02-12 00:00:00</td>\n",
       "    </tr>\n",
       "  </tbody>\n",
       "</table>\n",
       "</div>"
      ],
      "text/plain": [
       "  D19_LETZTER_KAUF_BRANCHE        EINGEFUEGT_AM\n",
       "0                      NaN                  NaN\n",
       "1                      NaN  1992-02-10 00:00:00\n",
       "2            D19_UNBEKANNT  1992-02-12 00:00:00\n",
       "3            D19_UNBEKANNT  1997-04-21 00:00:00\n",
       "4               D19_SCHUHE  1992-02-12 00:00:00"
      ]
     },
     "execution_count": 31,
     "metadata": {},
     "output_type": "execute_result"
    }
   ],
   "source": [
    "# Check object features\n",
    "object_features = general_population[columns_no_type].select_dtypes(include=['object'])\n",
    "object_features.head()"
   ]
  },
  {
   "cell_type": "code",
   "execution_count": 32,
   "metadata": {},
   "outputs": [
    {
     "data": {
      "text/html": [
       "<div>\n",
       "<style>\n",
       "    .dataframe thead tr:only-child th {\n",
       "        text-align: right;\n",
       "    }\n",
       "\n",
       "    .dataframe thead th {\n",
       "        text-align: left;\n",
       "    }\n",
       "\n",
       "    .dataframe tbody tr th {\n",
       "        vertical-align: top;\n",
       "    }\n",
       "</style>\n",
       "<table border=\"1\" class=\"dataframe\">\n",
       "  <thead>\n",
       "    <tr style=\"text-align: right;\">\n",
       "      <th></th>\n",
       "      <th>LNR</th>\n",
       "      <th>AKT_DAT_KL</th>\n",
       "      <th>ALTER_KIND1</th>\n",
       "      <th>ALTER_KIND2</th>\n",
       "      <th>ALTER_KIND3</th>\n",
       "      <th>ALTER_KIND4</th>\n",
       "      <th>ALTERSKATEGORIE_FEIN</th>\n",
       "      <th>ANZ_KINDER</th>\n",
       "      <th>ANZ_STATISTISCHE_HAUSHALTE</th>\n",
       "      <th>CJT_KATALOGNUTZER</th>\n",
       "      <th>...</th>\n",
       "      <th>STRUKTURTYP</th>\n",
       "      <th>UMFELD_ALT</th>\n",
       "      <th>UMFELD_JUNG</th>\n",
       "      <th>UNGLEICHENN_FLAG</th>\n",
       "      <th>VERDICHTUNGSRAUM</th>\n",
       "      <th>VHA</th>\n",
       "      <th>VHN</th>\n",
       "      <th>VK_DHT4A</th>\n",
       "      <th>VK_DISTANZ</th>\n",
       "      <th>VK_ZG11</th>\n",
       "    </tr>\n",
       "  </thead>\n",
       "  <tbody>\n",
       "    <tr>\n",
       "      <th>count</th>\n",
       "      <td>8.912210e+05</td>\n",
       "      <td>817722.000000</td>\n",
       "      <td>81058.000000</td>\n",
       "      <td>29499.000000</td>\n",
       "      <td>6170.000000</td>\n",
       "      <td>1205.000000</td>\n",
       "      <td>628274.000000</td>\n",
       "      <td>817722.000000</td>\n",
       "      <td>798073.000000</td>\n",
       "      <td>886367.000000</td>\n",
       "      <td>...</td>\n",
       "      <td>793947.000000</td>\n",
       "      <td>793435.000000</td>\n",
       "      <td>793435.000000</td>\n",
       "      <td>817722.000000</td>\n",
       "      <td>793947.00000</td>\n",
       "      <td>817722.00000</td>\n",
       "      <td>770025.000000</td>\n",
       "      <td>815304.000000</td>\n",
       "      <td>815304.000000</td>\n",
       "      <td>815304.000000</td>\n",
       "    </tr>\n",
       "    <tr>\n",
       "      <th>mean</th>\n",
       "      <td>6.372630e+05</td>\n",
       "      <td>4.421928</td>\n",
       "      <td>11.745392</td>\n",
       "      <td>13.402658</td>\n",
       "      <td>14.476013</td>\n",
       "      <td>15.089627</td>\n",
       "      <td>13.700717</td>\n",
       "      <td>0.154018</td>\n",
       "      <td>7.599356</td>\n",
       "      <td>3.335264</td>\n",
       "      <td>...</td>\n",
       "      <td>2.539212</td>\n",
       "      <td>3.223125</td>\n",
       "      <td>4.017526</td>\n",
       "      <td>0.090067</td>\n",
       "      <td>4.58576</td>\n",
       "      <td>0.43882</td>\n",
       "      <td>2.417322</td>\n",
       "      <td>6.001214</td>\n",
       "      <td>7.532130</td>\n",
       "      <td>5.945972</td>\n",
       "    </tr>\n",
       "    <tr>\n",
       "      <th>std</th>\n",
       "      <td>2.572735e+05</td>\n",
       "      <td>3.638805</td>\n",
       "      <td>4.097660</td>\n",
       "      <td>3.243300</td>\n",
       "      <td>2.712427</td>\n",
       "      <td>2.452932</td>\n",
       "      <td>5.079849</td>\n",
       "      <td>0.502389</td>\n",
       "      <td>14.332201</td>\n",
       "      <td>1.493633</td>\n",
       "      <td>...</td>\n",
       "      <td>0.754926</td>\n",
       "      <td>1.255785</td>\n",
       "      <td>1.118399</td>\n",
       "      <td>0.286278</td>\n",
       "      <td>8.47152</td>\n",
       "      <td>1.14329</td>\n",
       "      <td>1.166572</td>\n",
       "      <td>2.856091</td>\n",
       "      <td>3.247789</td>\n",
       "      <td>2.771464</td>\n",
       "    </tr>\n",
       "    <tr>\n",
       "      <th>min</th>\n",
       "      <td>1.916530e+05</td>\n",
       "      <td>1.000000</td>\n",
       "      <td>2.000000</td>\n",
       "      <td>2.000000</td>\n",
       "      <td>4.000000</td>\n",
       "      <td>7.000000</td>\n",
       "      <td>0.000000</td>\n",
       "      <td>0.000000</td>\n",
       "      <td>0.000000</td>\n",
       "      <td>1.000000</td>\n",
       "      <td>...</td>\n",
       "      <td>1.000000</td>\n",
       "      <td>1.000000</td>\n",
       "      <td>1.000000</td>\n",
       "      <td>0.000000</td>\n",
       "      <td>0.00000</td>\n",
       "      <td>0.00000</td>\n",
       "      <td>0.000000</td>\n",
       "      <td>1.000000</td>\n",
       "      <td>1.000000</td>\n",
       "      <td>1.000000</td>\n",
       "    </tr>\n",
       "    <tr>\n",
       "      <th>25%</th>\n",
       "      <td>4.144580e+05</td>\n",
       "      <td>1.000000</td>\n",
       "      <td>8.000000</td>\n",
       "      <td>11.000000</td>\n",
       "      <td>13.000000</td>\n",
       "      <td>14.000000</td>\n",
       "      <td>11.000000</td>\n",
       "      <td>0.000000</td>\n",
       "      <td>1.000000</td>\n",
       "      <td>2.000000</td>\n",
       "      <td>...</td>\n",
       "      <td>2.000000</td>\n",
       "      <td>2.000000</td>\n",
       "      <td>3.000000</td>\n",
       "      <td>0.000000</td>\n",
       "      <td>0.00000</td>\n",
       "      <td>0.00000</td>\n",
       "      <td>2.000000</td>\n",
       "      <td>3.000000</td>\n",
       "      <td>5.000000</td>\n",
       "      <td>4.000000</td>\n",
       "    </tr>\n",
       "    <tr>\n",
       "      <th>50%</th>\n",
       "      <td>6.372630e+05</td>\n",
       "      <td>3.000000</td>\n",
       "      <td>12.000000</td>\n",
       "      <td>14.000000</td>\n",
       "      <td>15.000000</td>\n",
       "      <td>15.000000</td>\n",
       "      <td>14.000000</td>\n",
       "      <td>0.000000</td>\n",
       "      <td>3.000000</td>\n",
       "      <td>4.000000</td>\n",
       "      <td>...</td>\n",
       "      <td>3.000000</td>\n",
       "      <td>3.000000</td>\n",
       "      <td>4.000000</td>\n",
       "      <td>0.000000</td>\n",
       "      <td>1.00000</td>\n",
       "      <td>0.00000</td>\n",
       "      <td>2.000000</td>\n",
       "      <td>6.000000</td>\n",
       "      <td>8.000000</td>\n",
       "      <td>6.000000</td>\n",
       "    </tr>\n",
       "    <tr>\n",
       "      <th>75%</th>\n",
       "      <td>8.600680e+05</td>\n",
       "      <td>9.000000</td>\n",
       "      <td>15.000000</td>\n",
       "      <td>16.000000</td>\n",
       "      <td>17.000000</td>\n",
       "      <td>17.000000</td>\n",
       "      <td>17.000000</td>\n",
       "      <td>0.000000</td>\n",
       "      <td>9.000000</td>\n",
       "      <td>5.000000</td>\n",
       "      <td>...</td>\n",
       "      <td>3.000000</td>\n",
       "      <td>4.000000</td>\n",
       "      <td>5.000000</td>\n",
       "      <td>0.000000</td>\n",
       "      <td>5.00000</td>\n",
       "      <td>0.00000</td>\n",
       "      <td>3.000000</td>\n",
       "      <td>9.000000</td>\n",
       "      <td>10.000000</td>\n",
       "      <td>8.000000</td>\n",
       "    </tr>\n",
       "    <tr>\n",
       "      <th>max</th>\n",
       "      <td>1.082873e+06</td>\n",
       "      <td>9.000000</td>\n",
       "      <td>18.000000</td>\n",
       "      <td>18.000000</td>\n",
       "      <td>18.000000</td>\n",
       "      <td>18.000000</td>\n",
       "      <td>25.000000</td>\n",
       "      <td>11.000000</td>\n",
       "      <td>449.000000</td>\n",
       "      <td>5.000000</td>\n",
       "      <td>...</td>\n",
       "      <td>3.000000</td>\n",
       "      <td>5.000000</td>\n",
       "      <td>5.000000</td>\n",
       "      <td>1.000000</td>\n",
       "      <td>45.00000</td>\n",
       "      <td>5.00000</td>\n",
       "      <td>4.000000</td>\n",
       "      <td>11.000000</td>\n",
       "      <td>13.000000</td>\n",
       "      <td>11.000000</td>\n",
       "    </tr>\n",
       "  </tbody>\n",
       "</table>\n",
       "<p>8 rows × 88 columns</p>\n",
       "</div>"
      ],
      "text/plain": [
       "                LNR     AKT_DAT_KL   ALTER_KIND1   ALTER_KIND2  ALTER_KIND3  \\\n",
       "count  8.912210e+05  817722.000000  81058.000000  29499.000000  6170.000000   \n",
       "mean   6.372630e+05       4.421928     11.745392     13.402658    14.476013   \n",
       "std    2.572735e+05       3.638805      4.097660      3.243300     2.712427   \n",
       "min    1.916530e+05       1.000000      2.000000      2.000000     4.000000   \n",
       "25%    4.144580e+05       1.000000      8.000000     11.000000    13.000000   \n",
       "50%    6.372630e+05       3.000000     12.000000     14.000000    15.000000   \n",
       "75%    8.600680e+05       9.000000     15.000000     16.000000    17.000000   \n",
       "max    1.082873e+06       9.000000     18.000000     18.000000    18.000000   \n",
       "\n",
       "       ALTER_KIND4  ALTERSKATEGORIE_FEIN     ANZ_KINDER  \\\n",
       "count  1205.000000         628274.000000  817722.000000   \n",
       "mean     15.089627             13.700717       0.154018   \n",
       "std       2.452932              5.079849       0.502389   \n",
       "min       7.000000              0.000000       0.000000   \n",
       "25%      14.000000             11.000000       0.000000   \n",
       "50%      15.000000             14.000000       0.000000   \n",
       "75%      17.000000             17.000000       0.000000   \n",
       "max      18.000000             25.000000      11.000000   \n",
       "\n",
       "       ANZ_STATISTISCHE_HAUSHALTE  CJT_KATALOGNUTZER      ...        \\\n",
       "count               798073.000000      886367.000000      ...         \n",
       "mean                     7.599356           3.335264      ...         \n",
       "std                     14.332201           1.493633      ...         \n",
       "min                      0.000000           1.000000      ...         \n",
       "25%                      1.000000           2.000000      ...         \n",
       "50%                      3.000000           4.000000      ...         \n",
       "75%                      9.000000           5.000000      ...         \n",
       "max                    449.000000           5.000000      ...         \n",
       "\n",
       "         STRUKTURTYP     UMFELD_ALT    UMFELD_JUNG  UNGLEICHENN_FLAG  \\\n",
       "count  793947.000000  793435.000000  793435.000000     817722.000000   \n",
       "mean        2.539212       3.223125       4.017526          0.090067   \n",
       "std         0.754926       1.255785       1.118399          0.286278   \n",
       "min         1.000000       1.000000       1.000000          0.000000   \n",
       "25%         2.000000       2.000000       3.000000          0.000000   \n",
       "50%         3.000000       3.000000       4.000000          0.000000   \n",
       "75%         3.000000       4.000000       5.000000          0.000000   \n",
       "max         3.000000       5.000000       5.000000          1.000000   \n",
       "\n",
       "       VERDICHTUNGSRAUM           VHA            VHN       VK_DHT4A  \\\n",
       "count      793947.00000  817722.00000  770025.000000  815304.000000   \n",
       "mean            4.58576       0.43882       2.417322       6.001214   \n",
       "std             8.47152       1.14329       1.166572       2.856091   \n",
       "min             0.00000       0.00000       0.000000       1.000000   \n",
       "25%             0.00000       0.00000       2.000000       3.000000   \n",
       "50%             1.00000       0.00000       2.000000       6.000000   \n",
       "75%             5.00000       0.00000       3.000000       9.000000   \n",
       "max            45.00000       5.00000       4.000000      11.000000   \n",
       "\n",
       "          VK_DISTANZ        VK_ZG11  \n",
       "count  815304.000000  815304.000000  \n",
       "mean        7.532130       5.945972  \n",
       "std         3.247789       2.771464  \n",
       "min         1.000000       1.000000  \n",
       "25%         5.000000       4.000000  \n",
       "50%         8.000000       6.000000  \n",
       "75%        10.000000       8.000000  \n",
       "max        13.000000      11.000000  \n",
       "\n",
       "[8 rows x 88 columns]"
      ]
     },
     "execution_count": 32,
     "metadata": {},
     "output_type": "execute_result"
    }
   ],
   "source": [
    "describe_dataframe = general_population[columns_no_type].describe()\n",
    "describe_dataframe"
   ]
  },
  {
   "cell_type": "code",
   "execution_count": 33,
   "metadata": {},
   "outputs": [
    {
     "data": {
      "text/html": [
       "<div>\n",
       "<style>\n",
       "    .dataframe thead tr:only-child th {\n",
       "        text-align: right;\n",
       "    }\n",
       "\n",
       "    .dataframe thead th {\n",
       "        text-align: left;\n",
       "    }\n",
       "\n",
       "    .dataframe tbody tr th {\n",
       "        vertical-align: top;\n",
       "    }\n",
       "</style>\n",
       "<table border=\"1\" class=\"dataframe\">\n",
       "  <thead>\n",
       "    <tr style=\"text-align: right;\">\n",
       "      <th></th>\n",
       "      <th>Information level</th>\n",
       "      <th>Attribute</th>\n",
       "      <th>Description</th>\n",
       "      <th>Additional notes</th>\n",
       "    </tr>\n",
       "  </thead>\n",
       "  <tbody>\n",
       "    <tr>\n",
       "      <th>67</th>\n",
       "      <td>NaN</td>\n",
       "      <td>D19_VERSI_OFFLINE_DATUM</td>\n",
       "      <td>actuality of the last transaction for the segm...</td>\n",
       "      <td>NaN</td>\n",
       "    </tr>\n",
       "    <tr>\n",
       "      <th>68</th>\n",
       "      <td>NaN</td>\n",
       "      <td>D19_VERSI_ONLINE_DATUM</td>\n",
       "      <td>actuality of the last transaction for the segm...</td>\n",
       "      <td>NaN</td>\n",
       "    </tr>\n",
       "    <tr>\n",
       "      <th>69</th>\n",
       "      <td>NaN</td>\n",
       "      <td>D19_VERSI_DATUM</td>\n",
       "      <td>actuality of the last transaction for the segm...</td>\n",
       "      <td>NaN</td>\n",
       "    </tr>\n",
       "  </tbody>\n",
       "</table>\n",
       "</div>"
      ],
      "text/plain": [
       "   Information level                Attribute  \\\n",
       "67               NaN  D19_VERSI_OFFLINE_DATUM   \n",
       "68               NaN   D19_VERSI_ONLINE_DATUM   \n",
       "69               NaN          D19_VERSI_DATUM   \n",
       "\n",
       "                                          Description Additional notes  \n",
       "67  actuality of the last transaction for the segm...              NaN  \n",
       "68  actuality of the last transaction for the segm...              NaN  \n",
       "69  actuality of the last transaction for the segm...              NaN  "
      ]
     },
     "execution_count": 33,
     "metadata": {},
     "output_type": "execute_result"
    }
   ],
   "source": [
    "# Data information\n",
    "dias_information = pd.read_excel('data/DIAS Information Levels - Attributes 2017.xlsx', skiprows=[0])\n",
    "del dias_information['Unnamed: 0']\n",
    "dias_information = dias_information[dias_information.Attribute.isin(columns_no_type)]\n",
    "\n",
    "dias_information"
   ]
  },
  {
   "cell_type": "code",
   "execution_count": 34,
   "metadata": {},
   "outputs": [
    {
     "data": {
      "text/plain": [
       "['D19_LETZTER_KAUF_BRANCHE', 'EINGEFUEGT_AM']"
      ]
     },
     "execution_count": 34,
     "metadata": {},
     "output_type": "execute_result"
    }
   ],
   "source": [
    "# List of columns to drop\n",
    "col_to_drop = list(object_features.columns)\n",
    "col_to_drop"
   ]
  },
  {
   "cell_type": "markdown",
   "metadata": {},
   "source": [
    "### Discussion\n",
    "\n",
    "*D19_LETZTER_KAUF_BRANCHE  contains some variables names, and EINGEFUEGT_AM includes timestamps. Both are to be dropped.*"
   ]
  },
  {
   "cell_type": "code",
   "execution_count": 35,
   "metadata": {},
   "outputs": [
    {
     "data": {
      "text/html": [
       "<div>\n",
       "<style>\n",
       "    .dataframe thead tr:only-child th {\n",
       "        text-align: right;\n",
       "    }\n",
       "\n",
       "    .dataframe thead th {\n",
       "        text-align: left;\n",
       "    }\n",
       "\n",
       "    .dataframe tbody tr th {\n",
       "        vertical-align: top;\n",
       "    }\n",
       "</style>\n",
       "<table border=\"1\" class=\"dataframe\">\n",
       "  <thead>\n",
       "    <tr style=\"text-align: right;\">\n",
       "      <th></th>\n",
       "      <th>attribute</th>\n",
       "      <th>type</th>\n",
       "      <th>missing_or_unknown</th>\n",
       "    </tr>\n",
       "  </thead>\n",
       "  <tbody>\n",
       "    <tr>\n",
       "      <th>0</th>\n",
       "      <td>LNR</td>\n",
       "      <td>numeric</td>\n",
       "      <td>[]</td>\n",
       "    </tr>\n",
       "    <tr>\n",
       "      <th>1</th>\n",
       "      <td>AKT_DAT_KL</td>\n",
       "      <td>numeric</td>\n",
       "      <td>[]</td>\n",
       "    </tr>\n",
       "    <tr>\n",
       "      <th>2</th>\n",
       "      <td>ALTER_KIND1</td>\n",
       "      <td>numeric</td>\n",
       "      <td>[]</td>\n",
       "    </tr>\n",
       "    <tr>\n",
       "      <th>3</th>\n",
       "      <td>ALTER_KIND2</td>\n",
       "      <td>numeric</td>\n",
       "      <td>[]</td>\n",
       "    </tr>\n",
       "    <tr>\n",
       "      <th>4</th>\n",
       "      <td>ALTER_KIND3</td>\n",
       "      <td>numeric</td>\n",
       "      <td>[]</td>\n",
       "    </tr>\n",
       "  </tbody>\n",
       "</table>\n",
       "</div>"
      ],
      "text/plain": [
       "     attribute     type missing_or_unknown\n",
       "0          LNR  numeric                 []\n",
       "1   AKT_DAT_KL  numeric                 []\n",
       "2  ALTER_KIND1  numeric                 []\n",
       "3  ALTER_KIND2  numeric                 []\n",
       "4  ALTER_KIND3  numeric                 []"
      ]
     },
     "execution_count": 35,
     "metadata": {},
     "output_type": "execute_result"
    }
   ],
   "source": [
    "remaining_attribute_information = pd.DataFrame({'attribute': list(describe_dataframe.columns)})\n",
    "remaining_attribute_information['type'] = 'numeric'\n",
    "remaining_attribute_information['missing_or_unknown'] = remaining_attribute_information['type'].apply(lambda x: [])\n",
    "\n",
    "remaining_attribute_information.head()"
   ]
  },
  {
   "cell_type": "code",
   "execution_count": 36,
   "metadata": {},
   "outputs": [
    {
     "data": {
      "text/plain": [
       "(364, 3)"
      ]
     },
     "execution_count": 36,
     "metadata": {},
     "output_type": "execute_result"
    }
   ],
   "source": [
    "# Concat remaining_attribute_information and final_population_feature_info\n",
    "final_population_feature_info = pd.concat([final_population_feature_info, remaining_attribute_information], ignore_index=True)\n",
    "\n",
    "final_population_feature_info.shape"
   ]
  },
  {
   "cell_type": "markdown",
   "metadata": {},
   "source": [
    "#### Convert Missing Value Codes to NaNs"
   ]
  },
  {
   "cell_type": "code",
   "execution_count": 37,
   "metadata": {
    "collapsed": true
   },
   "outputs": [],
   "source": [
    "# Identify missing or unknown data values and convert them to NaNs.\n",
    "for attrib, missing_values in zip(final_population_feature_info['attribute'], final_population_feature_info['missing_or_unknown']):\n",
    "    if len(missing_values) != 0:\n",
    "        for value in missing_values:\n",
    "            if value.isnumeric() or value.lstrip('-').isnumeric():\n",
    "                value = int(value)\n",
    "                general_population.loc[general_population[attrib] == value, attrib] = np.nan"
   ]
  },
  {
   "cell_type": "code",
   "execution_count": 38,
   "metadata": {},
   "outputs": [
    {
     "data": {
      "text/plain": [
       "(891221, 364)"
      ]
     },
     "execution_count": 38,
     "metadata": {},
     "output_type": "execute_result"
    }
   ],
   "source": [
    "# Drop col_to_drop\n",
    "general_population.drop(col_to_drop, axis=1, inplace=True)\n",
    "\n",
    "# check shape\n",
    "general_population.shape"
   ]
  },
  {
   "cell_type": "markdown",
   "metadata": {},
   "source": [
    "#### Assess Missing Data in Each Column"
   ]
  },
  {
   "cell_type": "code",
   "execution_count": 39,
   "metadata": {
    "collapsed": true
   },
   "outputs": [],
   "source": [
    "# Missing Data in Each Column\n",
    "count_nan = general_population.isnull().sum()/len(general_population)"
   ]
  },
  {
   "cell_type": "code",
   "execution_count": 40,
   "metadata": {},
   "outputs": [
    {
     "data": {
      "image/png": "[encoded data removed]",
      "text/plain": [
       "<matplotlib.figure.Figure at 0x27b9b424978>"
      ]
     },
     "metadata": {},
     "output_type": "display_data"
    }
   ],
   "source": [
    "plt.figure(figsize=(12,6))\n",
    "sns.distplot(count_nan.values, color=\"g\", kde=False)\n",
    "plt.ylabel('count of columns')\n",
    "plt.xlabel('% of NaN')\n",
    "plt.title('Distribution of missing value per columns')\n",
    "plt.show()"
   ]
  },
  {
   "cell_type": "markdown",
   "metadata": {},
   "source": [
    "### Discusion\n",
    "\n",
    "*Most attributes contain less than 40% of missing values. Therefore I will drop all features that include more than 40% of missing values.*"
   ]
  },
  {
   "cell_type": "code",
   "execution_count": 41,
   "metadata": {},
   "outputs": [
    {
     "data": {
      "text/plain": [
       "20"
      ]
     },
     "execution_count": 41,
     "metadata": {},
     "output_type": "execute_result"
    }
   ],
   "source": [
    "# Get columns that have more than 40% of nan\n",
    "missing_col = list(count_nan[count_nan > 0.4].index)\n",
    "len(missing_col)"
   ]
  },
  {
   "cell_type": "code",
   "execution_count": 42,
   "metadata": {},
   "outputs": [
    {
     "data": {
      "text/plain": [
       "(891221, 344)"
      ]
     },
     "execution_count": 42,
     "metadata": {},
     "output_type": "execute_result"
    }
   ],
   "source": [
    "# Remove the outlier missing_col from the dataset.\n",
    "general_population.drop(missing_col, axis=1, inplace=True)\n",
    "\n",
    "general_population.shape"
   ]
  },
  {
   "cell_type": "markdown",
   "metadata": {},
   "source": [
    "#### Assess Missing Data in Each row"
   ]
  },
  {
   "cell_type": "code",
   "execution_count": 43,
   "metadata": {
    "collapsed": true
   },
   "outputs": [],
   "source": [
    "# Missing Data in Each Column\n",
    "row_nan = general_population.isnull().sum(axis=1)"
   ]
  },
  {
   "cell_type": "code",
   "execution_count": 44,
   "metadata": {},
   "outputs": [
    {
     "data": {
      "image/png": "[encoded data removed]",
      "text/plain": [
       "<matplotlib.figure.Figure at 0x27b9b312cf8>"
      ]
     },
     "metadata": {},
     "output_type": "display_data"
    }
   ],
   "source": [
    "fig = plt.figure(figsize=(12,6))\n",
    "sns.distplot(row_nan.values/344, color=\"g\", kde=False)\n",
    "plt.ylabel('count of rows')\n",
    "plt.xlabel('% of NaN')\n",
    "plt.title('Distribution of missing value per row')\n",
    "plt.show()"
   ]
  },
  {
   "cell_type": "markdown",
   "metadata": {
    "collapsed": true
   },
   "source": [
    "### Discussion\n",
    "\n",
    "*Rows that contain many missing values are harmful to machine learning algorithms. Therefore I will drop rows that contain more than 50% of missing values.*"
   ]
  },
  {
   "cell_type": "code",
   "execution_count": 45,
   "metadata": {},
   "outputs": [
    {
     "data": {
      "text/plain": [
       "(791987, 344)"
      ]
     },
     "execution_count": 45,
     "metadata": {},
     "output_type": "execute_result"
    }
   ],
   "source": [
    "# Drop row that contains more than 50% of nan values\n",
    "general_population = general_population.loc[row_nan[row_nan <= 0.5 * 344].index]\n",
    "\n",
    "general_population.reset_index(drop=True, inplace=True)\n",
    "\n",
    "general_population.shape"
   ]
  },
  {
   "cell_type": "code",
   "execution_count": 46,
   "metadata": {},
   "outputs": [
    {
     "name": "stdout",
     "output_type": "stream",
     "text": [
      "<class 'pandas.core.frame.DataFrame'>\n",
      "RangeIndex: 791987 entries, 0 to 791986\n",
      "Columns: 344 entries, LNR to ALTERSKATEGORIE_GROB\n",
      "dtypes: float64(288), int64(52), object(4)\n",
      "memory usage: 2.0+ GB\n"
     ]
    }
   ],
   "source": [
    "general_population.info()"
   ]
  },
  {
   "cell_type": "markdown",
   "metadata": {},
   "source": [
    "### 1.2 Select and Re-Encode Features\n",
    "\n",
    "Keep numeric, ordinal and interval data without changes. One-hot encode the categorical and feature engineer the mixed features."
   ]
  },
  {
   "cell_type": "code",
   "execution_count": 47,
   "metadata": {},
   "outputs": [
    {
     "data": {
      "text/html": [
       "<div>\n",
       "<style>\n",
       "    .dataframe thead tr:only-child th {\n",
       "        text-align: right;\n",
       "    }\n",
       "\n",
       "    .dataframe thead th {\n",
       "        text-align: left;\n",
       "    }\n",
       "\n",
       "    .dataframe tbody tr th {\n",
       "        vertical-align: top;\n",
       "    }\n",
       "</style>\n",
       "<table border=\"1\" class=\"dataframe\">\n",
       "  <thead>\n",
       "    <tr style=\"text-align: right;\">\n",
       "      <th></th>\n",
       "      <th>attribute</th>\n",
       "      <th>type</th>\n",
       "      <th>missing_or_unknown</th>\n",
       "    </tr>\n",
       "  </thead>\n",
       "  <tbody>\n",
       "    <tr>\n",
       "      <th>0</th>\n",
       "      <td>AGER_TYP</td>\n",
       "      <td>categorical</td>\n",
       "      <td>[-1, 0]</td>\n",
       "    </tr>\n",
       "    <tr>\n",
       "      <th>1</th>\n",
       "      <td>ALTERSKATEGORIE_GROB</td>\n",
       "      <td>ordinal</td>\n",
       "      <td>[-1, 0, 9]</td>\n",
       "    </tr>\n",
       "    <tr>\n",
       "      <th>2</th>\n",
       "      <td>ANREDE_KZ</td>\n",
       "      <td>categorical</td>\n",
       "      <td>[-1, 0]</td>\n",
       "    </tr>\n",
       "    <tr>\n",
       "      <th>3</th>\n",
       "      <td>CJT_GESAMTTYP</td>\n",
       "      <td>categorical</td>\n",
       "      <td>[0]</td>\n",
       "    </tr>\n",
       "    <tr>\n",
       "      <th>4</th>\n",
       "      <td>FINANZ_MINIMALIST</td>\n",
       "      <td>ordinal</td>\n",
       "      <td>[-1]</td>\n",
       "    </tr>\n",
       "  </tbody>\n",
       "</table>\n",
       "</div>"
      ],
      "text/plain": [
       "              attribute         type missing_or_unknown\n",
       "0              AGER_TYP  categorical            [-1, 0]\n",
       "1  ALTERSKATEGORIE_GROB      ordinal         [-1, 0, 9]\n",
       "2             ANREDE_KZ  categorical            [-1, 0]\n",
       "3         CJT_GESAMTTYP  categorical                [0]\n",
       "4     FINANZ_MINIMALIST      ordinal               [-1]"
      ]
     },
     "execution_count": 47,
     "metadata": {},
     "output_type": "execute_result"
    }
   ],
   "source": [
    "final_population_feature_info.head()"
   ]
  },
  {
   "cell_type": "code",
   "execution_count": 48,
   "metadata": {},
   "outputs": [
    {
     "data": {
      "text/plain": [
       "344"
      ]
     },
     "execution_count": 48,
     "metadata": {},
     "output_type": "execute_result"
    }
   ],
   "source": [
    "# keep only general_population attribute\n",
    "final_population_feature_info = final_population_feature_info[final_population_feature_info.attribute.isin(\n",
    "    general_population.columns\n",
    ")]\n",
    "\n",
    "len(final_population_feature_info)"
   ]
  },
  {
   "cell_type": "code",
   "execution_count": 49,
   "metadata": {},
   "outputs": [
    {
     "data": {
      "text/html": [
       "<div>\n",
       "<style>\n",
       "    .dataframe thead tr:only-child th {\n",
       "        text-align: right;\n",
       "    }\n",
       "\n",
       "    .dataframe thead th {\n",
       "        text-align: left;\n",
       "    }\n",
       "\n",
       "    .dataframe tbody tr th {\n",
       "        vertical-align: top;\n",
       "    }\n",
       "</style>\n",
       "<table border=\"1\" class=\"dataframe\">\n",
       "  <thead>\n",
       "    <tr style=\"text-align: right;\">\n",
       "      <th></th>\n",
       "      <th>count columns</th>\n",
       "    </tr>\n",
       "  </thead>\n",
       "  <tbody>\n",
       "    <tr>\n",
       "      <th>ordinal</th>\n",
       "      <td>229</td>\n",
       "    </tr>\n",
       "    <tr>\n",
       "      <th>numeric</th>\n",
       "      <td>89</td>\n",
       "    </tr>\n",
       "    <tr>\n",
       "      <th>categorical</th>\n",
       "      <td>19</td>\n",
       "    </tr>\n",
       "    <tr>\n",
       "      <th>mixed</th>\n",
       "      <td>6</td>\n",
       "    </tr>\n",
       "    <tr>\n",
       "      <th>interval</th>\n",
       "      <td>1</td>\n",
       "    </tr>\n",
       "  </tbody>\n",
       "</table>\n",
       "</div>"
      ],
      "text/plain": [
       "             count columns\n",
       "ordinal                229\n",
       "numeric                 89\n",
       "categorical             19\n",
       "mixed                    6\n",
       "interval                 1"
      ]
     },
     "execution_count": 49,
     "metadata": {},
     "output_type": "execute_result"
    }
   ],
   "source": [
    "count_type = final_population_feature_info.type.value_counts(dropna=False)\n",
    "dataframe_count = pd.DataFrame(count_type.values, index=count_type.index, columns=['count columns'])\n",
    "dataframe_count"
   ]
  },
  {
   "cell_type": "markdown",
   "metadata": {},
   "source": [
    "#### Re-Encode Categorical Features\n",
    "\n",
    "For categorical data, depending on the number of categories,  I will perform one of the following:\n",
    "-  For binary (two-level) categoricals that take numeric values, keep them without any change.\n",
    "-  For binary variables that take on non-numeric values, re-encode the values as numbers.\n",
    "- For multi-level categoricals variables (three or more values), re-encode the values using multiple dummies variables. "
   ]
  },
  {
   "cell_type": "code",
   "execution_count": 50,
   "metadata": {},
   "outputs": [
    {
     "data": {
      "text/html": [
       "<div>\n",
       "<style>\n",
       "    .dataframe thead tr:only-child th {\n",
       "        text-align: right;\n",
       "    }\n",
       "\n",
       "    .dataframe thead th {\n",
       "        text-align: left;\n",
       "    }\n",
       "\n",
       "    .dataframe tbody tr th {\n",
       "        vertical-align: top;\n",
       "    }\n",
       "</style>\n",
       "<table border=\"1\" class=\"dataframe\">\n",
       "  <thead>\n",
       "    <tr style=\"text-align: right;\">\n",
       "      <th></th>\n",
       "      <th>attribute</th>\n",
       "      <th>type</th>\n",
       "      <th>missing_or_unknown</th>\n",
       "    </tr>\n",
       "  </thead>\n",
       "  <tbody>\n",
       "    <tr>\n",
       "      <th>1</th>\n",
       "      <td>ALTERSKATEGORIE_GROB</td>\n",
       "      <td>ordinal</td>\n",
       "      <td>[-1, 0, 9]</td>\n",
       "    </tr>\n",
       "    <tr>\n",
       "      <th>2</th>\n",
       "      <td>ANREDE_KZ</td>\n",
       "      <td>categorical</td>\n",
       "      <td>[-1, 0]</td>\n",
       "    </tr>\n",
       "    <tr>\n",
       "      <th>3</th>\n",
       "      <td>CJT_GESAMTTYP</td>\n",
       "      <td>categorical</td>\n",
       "      <td>[0]</td>\n",
       "    </tr>\n",
       "    <tr>\n",
       "      <th>4</th>\n",
       "      <td>FINANZ_MINIMALIST</td>\n",
       "      <td>ordinal</td>\n",
       "      <td>[-1]</td>\n",
       "    </tr>\n",
       "    <tr>\n",
       "      <th>5</th>\n",
       "      <td>FINANZ_SPARER</td>\n",
       "      <td>ordinal</td>\n",
       "      <td>[-1]</td>\n",
       "    </tr>\n",
       "  </tbody>\n",
       "</table>\n",
       "</div>"
      ],
      "text/plain": [
       "              attribute         type missing_or_unknown\n",
       "1  ALTERSKATEGORIE_GROB      ordinal         [-1, 0, 9]\n",
       "2             ANREDE_KZ  categorical            [-1, 0]\n",
       "3         CJT_GESAMTTYP  categorical                [0]\n",
       "4     FINANZ_MINIMALIST      ordinal               [-1]\n",
       "5         FINANZ_SPARER      ordinal               [-1]"
      ]
     },
     "execution_count": 50,
     "metadata": {},
     "output_type": "execute_result"
    }
   ],
   "source": [
    "final_population_feature_info.head()"
   ]
  },
  {
   "cell_type": "code",
   "execution_count": 51,
   "metadata": {
    "collapsed": true
   },
   "outputs": [],
   "source": [
    "# Get list of Categorical Features\n",
    "categorical_features = list(final_population_feature_info.attribute[final_population_feature_info.type == 'categorical'])\n",
    "\n",
    "binary_num_attribute = []\n",
    "binary_str_attribute = []\n",
    "multi_level_attribute = []\n",
    "\n",
    "for att in categorical_features:\n",
    "    dtype = general_population[att].dtype\n",
    "    count = len(general_population[att].value_counts())\n",
    "\n",
    "    if count > 2:\n",
    "        multi_level_attribute.append(att)\n",
    "    else:\n",
    "        if dtype == 'object':\n",
    "            binary_str_attribute.append(att)\n",
    "        else:\n",
    "            binary_num_attribute.append(att)"
   ]
  },
  {
   "cell_type": "code",
   "execution_count": 52,
   "metadata": {},
   "outputs": [
    {
     "data": {
      "text/plain": [
       "['ANREDE_KZ', 'GREEN_AVANTGARDE', 'SOHO_KZ', 'VERS_TYP']"
      ]
     },
     "execution_count": 52,
     "metadata": {},
     "output_type": "execute_result"
    }
   ],
   "source": [
    "# binary_num_attribute\n",
    "binary_num_attribute"
   ]
  },
  {
   "cell_type": "code",
   "execution_count": 53,
   "metadata": {},
   "outputs": [
    {
     "data": {
      "text/plain": [
       "['OST_WEST_KZ']"
      ]
     },
     "execution_count": 53,
     "metadata": {},
     "output_type": "execute_result"
    }
   ],
   "source": [
    "# binary_str_attribute\n",
    "binary_str_attribute"
   ]
  },
  {
   "cell_type": "code",
   "execution_count": 54,
   "metadata": {},
   "outputs": [
    {
     "data": {
      "text/plain": [
       "['CJT_GESAMTTYP',\n",
       " 'FINANZTYP',\n",
       " 'GFK_URLAUBERTYP',\n",
       " 'LP_FAMILIE_FEIN',\n",
       " 'LP_FAMILIE_GROB',\n",
       " 'LP_STATUS_FEIN',\n",
       " 'LP_STATUS_GROB',\n",
       " 'NATIONALITAET_KZ',\n",
       " 'SHOPPER_TYP',\n",
       " 'ZABEOTYP',\n",
       " 'GEBAEUDETYP',\n",
       " 'CAMEO_DEUG_2015',\n",
       " 'CAMEO_DEU_2015',\n",
       " 'D19_KONSUMTYP']"
      ]
     },
     "execution_count": 54,
     "metadata": {},
     "output_type": "execute_result"
    }
   ],
   "source": [
    "# multi_level_attribute\n",
    "multi_level_attribute"
   ]
  },
  {
   "cell_type": "code",
   "execution_count": 55,
   "metadata": {
    "collapsed": true
   },
   "outputs": [],
   "source": [
    "# Re-encode OST_WEST_KZ as dummy variable\n",
    "general_population['OST_WEST_KZ'] = general_population['OST_WEST_KZ'].map({'W': 1, 'O': 2})"
   ]
  },
  {
   "cell_type": "code",
   "execution_count": 56,
   "metadata": {
    "collapsed": true
   },
   "outputs": [],
   "source": [
    "# Convert cat to cat to dummies variables\n",
    "def encode_category(dataframe, list_cat):\n",
    "    list_dataframe_dum = []\n",
    "    for col_dum in list_cat:\n",
    "        list_dataframe_dum.append(pd.get_dummies(dataframe[col_dum], prefix=col_dum))\n",
    "\n",
    "    assert len(list_dataframe_dum) == len(list_cat)\n",
    "    \n",
    "    # Drop cat col from dataframe\n",
    "    dataframe.drop(list_cat, axis=1, inplace=True)\n",
    "    list_dataframe_dum.append(dataframe)\n",
    "    dataframe = pd.concat(list_dataframe_dum, axis=1)\n",
    "\n",
    "    return dataframe"
   ]
  },
  {
   "cell_type": "code",
   "execution_count": 57,
   "metadata": {
    "collapsed": true
   },
   "outputs": [],
   "source": [
    "final_general_population = encode_category(general_population, multi_level_attribute)"
   ]
  },
  {
   "cell_type": "code",
   "execution_count": 58,
   "metadata": {
    "collapsed": true
   },
   "outputs": [],
   "source": [
    "del general_population"
   ]
  },
  {
   "cell_type": "markdown",
   "metadata": {
    "collapsed": true
   },
   "source": [
    "### Engineer Mixed-Type Features\n",
    "\n",
    "There are  six mixed features. Encode them as ordinal and dummies variables."
   ]
  },
  {
   "cell_type": "code",
   "execution_count": 59,
   "metadata": {},
   "outputs": [
    {
     "data": {
      "text/plain": [
       "['LP_LEBENSPHASE_FEIN',\n",
       " 'LP_LEBENSPHASE_GROB',\n",
       " 'PRAEGENDE_JUGENDJAHRE',\n",
       " 'WOHNLAGE',\n",
       " 'CAMEO_INTL_2015',\n",
       " 'PLZ8_BAUMAX']"
      ]
     },
     "execution_count": 59,
     "metadata": {},
     "output_type": "execute_result"
    }
   ],
   "source": [
    "mixed_attributes = list(final_population_feature_info.attribute[final_population_feature_info.type == 'mixed'])\n",
    "mixed_attributes"
   ]
  },
  {
   "cell_type": "markdown",
   "metadata": {},
   "source": [
    "### Discussion\n",
    "\n",
    "*\"PRAEGENDE_JUGENDJAHRE\" Combines information on three dimensions: generation by decade, movement (mainstream vs. avantgarde), and nation (east vs. west). While there aren't enough levels to disentangle east from west, I will create two new variables to capture the other two dimensions: an interval-type variable for decade, and a binary variable for movement.*"
   ]
  },
  {
   "cell_type": "code",
   "execution_count": 60,
   "metadata": {
    "collapsed": true
   },
   "outputs": [],
   "source": [
    "# Map decade\n",
    "dic_dec = {1: 40, 2: 40, 3: 50, 4: 50, 5: 60, 6: 60, 7: 60,\n",
    "           8: 70, 9: 70, 10: 80, 11: 80, 12: 80, 13: 80, 14: 90,\n",
    "           15: 90, np.nan: np.nan, -1: np.nan, 0: np.nan}\n",
    "\n",
    "# Map mouvement\n",
    "dic_mov = {1: 0, 2: 1, 3: 0, 4: 1, 5: 0, 6: 1, 7: 1, 8: 0,\n",
    "           9: 1, 10: 0, 11: 1, 12: 0, 13: 1, 14: 0, 15: 1,\n",
    "           np.nan: np.nan, -1: np.nan, 0: np.nan}\n",
    "\n",
    "final_general_population[\"PRAEGENDE_JUGENDJAHRE_dec\"] = final_general_population[\"PRAEGENDE_JUGENDJAHRE\"].map(dic_dec)\n",
    "\n",
    "# Mainstream : 0, Avantgarde : 1\n",
    "final_general_population[\"PRAEGENDE_JUGENDJAHRE_mov\"] = final_general_population[\"PRAEGENDE_JUGENDJAHRE\"].map(dic_mov)\n",
    "\n",
    "# Drop PRAEGENDE_JUGENDJAHRE\n",
    "final_general_population.drop('PRAEGENDE_JUGENDJAHRE', axis=1, inplace=True)"
   ]
  },
  {
   "cell_type": "markdown",
   "metadata": {},
   "source": [
    "### Discussion\n",
    "\n",
    "*\"CAMEO_INTL_2015\" combines information on two axes: wealth and life stage. I will break up the two-digit codes by their 'tens'-place and 'ones'-place digits into two new ordinal variables.*"
   ]
  },
  {
   "cell_type": "code",
   "execution_count": 61,
   "metadata": {
    "collapsed": true
   },
   "outputs": [],
   "source": [
    "def encode_CAMEO_INTL_2015(x):\n",
    "\n",
    "    if np.isnan(x):\n",
    "        return [np.nan, np.nan]\n",
    "    else:\n",
    "        x = str(x).split('.')[0]\n",
    "        return [int(x[0]), int(x[1])]\n",
    "\n",
    "\n",
    "final_general_population[\"CAMEO_INTL_2015\"] = pd.to_numeric(final_general_population[\"CAMEO_INTL_2015\"], errors='coerce') \n",
    "final_general_population[\"CAMEO_INTL_2015\"] = final_general_population[\"CAMEO_INTL_2015\"].apply(encode_CAMEO_INTL_2015)\n",
    "\n",
    "# CAMEO_INTL_2015_wealth\n",
    "final_general_population[\"CAMEO_INTL_2015_wealth\"] = final_general_population[\"CAMEO_INTL_2015\"].apply(lambda x: x[0])\n",
    "\n",
    "# CAMEO_INTL_2015_life_stage\n",
    "final_general_population[\"CAMEO_INTL_2015_life_stage\"] = final_general_population[\"CAMEO_INTL_2015\"].apply(lambda x: x[1])\n",
    "\n",
    "# drop CAMEO_INTL_2015\n",
    "final_general_population.drop('CAMEO_INTL_2015', axis=1, inplace=True)"
   ]
  },
  {
   "cell_type": "markdown",
   "metadata": {},
   "source": [
    "### Discussion\n",
    "\n",
    "*\"LP_LEBENSPHASE_FEIN\" contains information about life stage and fine scale. I will create two new ordinals features, one for life_stage and other for fine_scale*"
   ]
  },
  {
   "cell_type": "code",
   "execution_count": 62,
   "metadata": {
    "collapsed": true
   },
   "outputs": [],
   "source": [
    "life_stage = {1: 'younger_age', 2: 'middle_age', 3: 'younger_age',\n",
    "              4: 'middle_age', 5: 'advanced_age', 6: 'retirement_age',\n",
    "              7: 'advanced_age', 8: 'retirement_age', 9: 'middle_age',\n",
    "              10: 'middle_age', 11: 'advanced_age', 12: 'retirement_age',\n",
    "              13: 'advanced_age', 14: 'younger_age', 15: 'advanced_age',\n",
    "              16: 'advanced_age', 17: 'middle_age', 18: 'younger_age',\n",
    "              19: 'advanced_age', 20: 'advanced_age', 21: 'middle_age',\n",
    "              22: 'middle_age', 23: 'middle_age', 24: 'middle_age',\n",
    "              25: 'middle_age', 26: 'middle_age', 27: 'middle_age',\n",
    "              28: 'middle_age', 29: 'younger_age', 30: 'younger_age',\n",
    "              31: 'advanced_age', 32: 'advanced_age', 33: 'younger_age',\n",
    "              34: 'younger_age', 35: 'younger_age', 36: 'advanced_age',\n",
    "              37: 'advanced_age', 38: 'retirement_age', 39: 'middle_age',\n",
    "              40: 'retirement_age'}\n",
    "\n",
    "fine_scale = {1: 'low', 2: 'low', 3: 'average', 4: 'average', 5: 'low', 6: 'low',\n",
    "              7: 'average', 8: 'average', 9: 'average', 10: 'wealthy', 11: 'average',\n",
    "              12: 'average', 13: 'top', 14: 'average', 15: 'low', 16: 'average',\n",
    "              17: 'average', 18: 'wealthy', 19: 'wealthy', 20: 'top', 21: 'low',\n",
    "              22: 'average', 23: 'wealthy', 24: 'low', 25: 'average', 26: 'average',\n",
    "              27: 'average', 28: 'top', 29: 'low', 30: 'average', 31: 'low',\n",
    "              32: 'average', 33: 'average', 34: 'average', 35: 'top', 36: 'average',\n",
    "              37: 'average', 38: 'average', 39: 'top', 40: 'top'}\n",
    "\n",
    "final_general_population['LP_life_stage'] = final_general_population['LP_LEBENSPHASE_FEIN'].map(life_stage)\n",
    "final_general_population['LP_fine_scale'] = final_general_population['LP_LEBENSPHASE_FEIN'].map(fine_scale)\n",
    "\n",
    "# Drop LP_LEBENSPHASE_FEIN\n",
    "final_general_population.drop('LP_LEBENSPHASE_FEIN', axis=1, inplace=True)"
   ]
  },
  {
   "cell_type": "code",
   "execution_count": 63,
   "metadata": {
    "collapsed": true
   },
   "outputs": [],
   "source": [
    "# R-encode LP_life_stage and LP_fine_scale as ordinal\n",
    "dictionary_life = {'younger_age': 1, 'middle_age': 2, 'advanced_age': 3, 'retirement_age': 4}\n",
    "dictionary_scale = {'low': 1, 'average': 2, 'wealthy': 3, 'top': 4}\n",
    "\n",
    "final_general_population['LP_life_stage'] = final_general_population['LP_life_stage'].map(dictionary_life)\n",
    "final_general_population['LP_fine_scale'] = final_general_population['LP_fine_scale'].map(dictionary_scale)"
   ]
  },
  {
   "cell_type": "markdown",
   "metadata": {},
   "source": [
    "### Discussion\n",
    "\n",
    "*LP_LEBENSPHASE_GROB contains the same information as LP_LEBENSPHASE_FEIN. Therefore I will drop it.*"
   ]
  },
  {
   "cell_type": "code",
   "execution_count": 64,
   "metadata": {
    "collapsed": true
   },
   "outputs": [],
   "source": [
    "final_general_population.drop('LP_LEBENSPHASE_GROB', axis=1, inplace=True)"
   ]
  },
  {
   "cell_type": "markdown",
   "metadata": {},
   "source": [
    "### Discussion\n",
    "\n",
    "*Re-encode WOHNLAGE  as dummies variables*"
   ]
  },
  {
   "cell_type": "code",
   "execution_count": 65,
   "metadata": {
    "collapsed": true
   },
   "outputs": [],
   "source": [
    "# replace 0 by nan\n",
    "final_general_population['WOHNLAGE'] = final_general_population['WOHNLAGE'].replace(0, np.nan)\n",
    "\n",
    "# Get dummumies variable\n",
    "WOHNLAGE = pd.get_dummies(final_general_population['WOHNLAGE'], prefix='WOHNLAGE')\n",
    "\n",
    "# Drop WOHNLAGE\n",
    "final_general_population.drop('WOHNLAGE', axis=1, inplace=True)\n",
    "\n",
    "# concat WOHNLAGE with final_general_population\n",
    "final_general_population = pd.concat([final_general_population, WOHNLAGE], axis=1)"
   ]
  },
  {
   "cell_type": "markdown",
   "metadata": {},
   "source": [
    "### Discussion\n",
    "\n",
    "*I will Re-encode PLZ8_BAUMAX  as dummies variables*"
   ]
  },
  {
   "cell_type": "code",
   "execution_count": 66,
   "metadata": {
    "collapsed": true
   },
   "outputs": [],
   "source": [
    "# Get dummumies variable\n",
    "PLZ8_BAUMAX = pd.get_dummies(final_general_population['PLZ8_BAUMAX'], prefix='PLZ8_BAUMAX')\n",
    "\n",
    "# Drop PLZ8_BAUMAX\n",
    "final_general_population.drop('PLZ8_BAUMAX', axis=1, inplace=True)\n",
    "\n",
    "# concat WOHNLAGE with final_general_population\n",
    "final_general_population = pd.concat([final_general_population, PLZ8_BAUMAX], axis=1)"
   ]
  },
  {
   "cell_type": "markdown",
   "metadata": {},
   "source": [
    "### 1.3 Create a Cleaning Function\n"
   ]
  },
  {
   "cell_type": "code",
   "execution_count": 67,
   "metadata": {
    "collapsed": true
   },
   "outputs": [],
   "source": [
    "def clean_data(dataframe, drop_col=True, drop_row=True):\n",
    "    \"\"\"\n",
    "    Perform feature engineering\n",
    "\n",
    "    INPUT: demographics dataFrame\n",
    "    OUTPUT: cleaned demographics dataframe\n",
    "    \"\"\"\n",
    "\n",
    "    # Drop 'D19_LETZTER_KAUF_BRANCHE' and 'EINGEFUEGT_AM'\n",
    "    dataframe.drop(col_to_drop, axis=1, inplace=True)\n",
    "\n",
    "    # convert missing value codes into NaNs\n",
    "    for attrib, missing_values in zip(final_population_feature_info['attribute'], final_population_feature_info['missing_or_unknown']):\n",
    "        if len(missing_values) != 0:\n",
    "            for value in missing_values:\n",
    "                if value.isnumeric() or value.lstrip('-').isnumeric():\n",
    "                    value = int(value)\n",
    "                    dataframe.loc[dataframe[attrib] == value, attrib] = np.nan\n",
    "\n",
    "    # remove selected columns\n",
    "    if drop_col:\n",
    "        dataframe.drop(missing_col, axis=1, inplace=True)\n",
    "    \n",
    "    # assessing missing value per row\n",
    "    row_nan = dataframe.isnull().sum(axis=1)\n",
    "    a = dataframe.shape[1]\n",
    "    \n",
    "    if drop_row:\n",
    "        dataframe = dataframe.loc[row_nan[row_nan<=0.5*a].index]\n",
    "        dataframe.reset_index(drop=True, inplace=True)\n",
    "\n",
    "    # Re-encode OST_WEST_KZ as dummy variable\n",
    "    dataframe['OST_WEST_KZ'] =  dataframe['OST_WEST_KZ'].map({'W': 1, 'O': 2})\n",
    "    \n",
    "    # Convert cat to cat to dummies variables\n",
    "    dataframe = encode_category(dataframe, multi_level_attribute)\n",
    "    \n",
    "    # Mix\n",
    "    dataframe[\"PRAEGENDE_JUGENDJAHRE_dec\"] = dataframe[\"PRAEGENDE_JUGENDJAHRE\"].map(dic_dec)\n",
    "\n",
    "    # Mainstream : 0, Avantgarde : 1\n",
    "    dataframe[\"PRAEGENDE_JUGENDJAHRE_mov\"] = dataframe[\"PRAEGENDE_JUGENDJAHRE\"].map(dic_mov)\n",
    "\n",
    "    # Drop PRAEGENDE_JUGENDJAHRE\n",
    "    dataframe.drop('PRAEGENDE_JUGENDJAHRE', axis=1, inplace=True)\n",
    "    \n",
    "    # re\n",
    "    # dataframe[\"CAMEO_INTL_2015\"] = dataframe[\"CAMEO_INTL_2015\"].astype('float')\n",
    "    dataframe[\"CAMEO_INTL_2015\"] = pd.to_numeric(dataframe[\"CAMEO_INTL_2015\"], errors='coerce') \n",
    "\n",
    "    dataframe[\"CAMEO_INTL_2015\"] = dataframe[\"CAMEO_INTL_2015\"].apply(encode_CAMEO_INTL_2015)\n",
    "\n",
    "    # CAMEO_INTL_2015_wealth\n",
    "    dataframe[\"CAMEO_INTL_2015_wealth\"] = dataframe[\"CAMEO_INTL_2015\"].apply(lambda x: x[0])\n",
    "\n",
    "    # CAMEO_INTL_2015_life_stage\n",
    "    dataframe[\"CAMEO_INTL_2015_life_stage\"] = dataframe[\"CAMEO_INTL_2015\"].apply(lambda x: x[1])\n",
    "\n",
    "    # drop CAMEO_INTL_2015\n",
    "    dataframe.drop('CAMEO_INTL_2015', axis=1, inplace=True)\n",
    "    \n",
    "    #\n",
    "    dataframe['LP_life_stage'] = dataframe['LP_LEBENSPHASE_FEIN'].map(life_stage)\n",
    "    dataframe['LP_fine_scale'] = dataframe['LP_LEBENSPHASE_FEIN'].map(fine_scale)\n",
    "\n",
    "    # Drop LP_LEBENSPHASE_FEIN \n",
    "    dataframe.drop('LP_LEBENSPHASE_FEIN', axis=1, inplace=True)\n",
    "    \n",
    "    dataframe['LP_life_stage'] = dataframe['LP_life_stage'].map(dictionary_life)\n",
    "    dataframe['LP_fine_scale'] = dataframe['LP_fine_scale'].map(dictionary_scale)\n",
    "    \n",
    "    # Drop LP_LEBENSPHASE_GROB\n",
    "    dataframe.drop('LP_LEBENSPHASE_GROB', axis=1, inplace=True)\n",
    "    \n",
    "    # replace 0 by nan\n",
    "    dataframe['WOHNLAGE'] = dataframe['WOHNLAGE'].replace(0, np.nan)\n",
    "\n",
    "    # Get dummumies variable\n",
    "    WOHNLAGE = pd.get_dummies(dataframe['WOHNLAGE'], prefix='WOHNLAGE')\n",
    "\n",
    "    # Drop WOHNLAGE\n",
    "    dataframe.drop('WOHNLAGE', axis=1, inplace=True)\n",
    "\n",
    "    # concat WOHNLAGE with final_general_population\n",
    "    dataframe = pd.concat([dataframe, WOHNLAGE], axis=1)\n",
    "    \n",
    "    # Get dummumies variable\n",
    "    PLZ8_BAUMAX = pd.get_dummies(dataframe['PLZ8_BAUMAX'], prefix='PLZ8_BAUMAX')\n",
    "\n",
    "    # Drop PLZ8_BAUMAX\n",
    "    dataframe.drop('PLZ8_BAUMAX', axis=1, inplace=True)\n",
    "\n",
    "    # concat WOHNLAGE with final_general_population\n",
    "    dataframe = pd.concat([dataframe, PLZ8_BAUMAX], axis=1)\n",
    "    \n",
    "    return dataframe"
   ]
  },
  {
   "cell_type": "markdown",
   "metadata": {
    "collapsed": true
   },
   "source": [
    "## 2 Feature Transformation\n",
    "\n",
    "### 2.1 Feature Scaling"
   ]
  },
  {
   "cell_type": "markdown",
   "metadata": {},
   "source": [
    "### Discussion\n",
    "\n",
    "*LNR is not useful for machine learning because it contains a unique value for each row. Therefore, it is to be dropped.*"
   ]
  },
  {
   "cell_type": "code",
   "execution_count": 68,
   "metadata": {
    "collapsed": true
   },
   "outputs": [],
   "source": [
    "# drop LNR from data to process\n",
    "LNR_general_population = final_general_population['LNR']\n",
    "final_general_population.drop('LNR', axis=1, inplace=True)"
   ]
  },
  {
   "cell_type": "code",
   "execution_count": 69,
   "metadata": {
    "collapsed": true
   },
   "outputs": [],
   "source": [
    "# Most of the variables in the data set are ordinal. Replace missing values in each variable by its median.\n",
    "imputer_object = Imputer(missing_values=np.nan, strategy='median')\n",
    "final_general_population = pd.DataFrame(\n",
    "    imputer_object.fit_transform(final_general_population.values), columns=final_general_population.columns\n",
    ")"
   ]
  },
  {
   "cell_type": "code",
   "execution_count": 70,
   "metadata": {},
   "outputs": [
    {
     "data": {
      "text/html": [
       "<div>\n",
       "<style>\n",
       "    .dataframe thead tr:only-child th {\n",
       "        text-align: right;\n",
       "    }\n",
       "\n",
       "    .dataframe thead th {\n",
       "        text-align: left;\n",
       "    }\n",
       "\n",
       "    .dataframe tbody tr th {\n",
       "        vertical-align: top;\n",
       "    }\n",
       "</style>\n",
       "<table border=\"1\" class=\"dataframe\">\n",
       "  <thead>\n",
       "    <tr style=\"text-align: right;\">\n",
       "      <th></th>\n",
       "      <th>CJT_GESAMTTYP_1.0</th>\n",
       "      <th>CJT_GESAMTTYP_2.0</th>\n",
       "      <th>CJT_GESAMTTYP_3.0</th>\n",
       "      <th>CJT_GESAMTTYP_4.0</th>\n",
       "      <th>CJT_GESAMTTYP_5.0</th>\n",
       "      <th>CJT_GESAMTTYP_6.0</th>\n",
       "      <th>FINANZTYP_1.0</th>\n",
       "      <th>FINANZTYP_2.0</th>\n",
       "      <th>FINANZTYP_3.0</th>\n",
       "      <th>FINANZTYP_4.0</th>\n",
       "      <th>...</th>\n",
       "      <th>WOHNLAGE_3.0</th>\n",
       "      <th>WOHNLAGE_4.0</th>\n",
       "      <th>WOHNLAGE_5.0</th>\n",
       "      <th>WOHNLAGE_7.0</th>\n",
       "      <th>WOHNLAGE_8.0</th>\n",
       "      <th>PLZ8_BAUMAX_1.0</th>\n",
       "      <th>PLZ8_BAUMAX_2.0</th>\n",
       "      <th>PLZ8_BAUMAX_3.0</th>\n",
       "      <th>PLZ8_BAUMAX_4.0</th>\n",
       "      <th>PLZ8_BAUMAX_5.0</th>\n",
       "    </tr>\n",
       "  </thead>\n",
       "  <tbody>\n",
       "    <tr>\n",
       "      <th>count</th>\n",
       "      <td>791987.000000</td>\n",
       "      <td>791987.000000</td>\n",
       "      <td>791987.000000</td>\n",
       "      <td>791987.000000</td>\n",
       "      <td>791987.000000</td>\n",
       "      <td>791987.000000</td>\n",
       "      <td>791987.000000</td>\n",
       "      <td>791987.000000</td>\n",
       "      <td>791987.000000</td>\n",
       "      <td>791987.000000</td>\n",
       "      <td>...</td>\n",
       "      <td>791987.000000</td>\n",
       "      <td>791987.000000</td>\n",
       "      <td>791987.000000</td>\n",
       "      <td>791987.000000</td>\n",
       "      <td>791987.000000</td>\n",
       "      <td>791987.000000</td>\n",
       "      <td>791987.000000</td>\n",
       "      <td>791987.000000</td>\n",
       "      <td>791987.000000</td>\n",
       "      <td>791987.000000</td>\n",
       "    </tr>\n",
       "    <tr>\n",
       "      <th>mean</th>\n",
       "      <td>0.116882</td>\n",
       "      <td>0.177696</td>\n",
       "      <td>0.184192</td>\n",
       "      <td>0.248111</td>\n",
       "      <td>0.139641</td>\n",
       "      <td>0.127535</td>\n",
       "      <td>0.247168</td>\n",
       "      <td>0.131176</td>\n",
       "      <td>0.053623</td>\n",
       "      <td>0.070257</td>\n",
       "      <td>...</td>\n",
       "      <td>0.313772</td>\n",
       "      <td>0.170908</td>\n",
       "      <td>0.093347</td>\n",
       "      <td>0.212928</td>\n",
       "      <td>0.020962</td>\n",
       "      <td>0.630613</td>\n",
       "      <td>0.088889</td>\n",
       "      <td>0.064052</td>\n",
       "      <td>0.071569</td>\n",
       "      <td>0.122883</td>\n",
       "    </tr>\n",
       "    <tr>\n",
       "      <th>std</th>\n",
       "      <td>0.321280</td>\n",
       "      <td>0.382257</td>\n",
       "      <td>0.387641</td>\n",
       "      <td>0.431917</td>\n",
       "      <td>0.346615</td>\n",
       "      <td>0.333571</td>\n",
       "      <td>0.431366</td>\n",
       "      <td>0.337593</td>\n",
       "      <td>0.225273</td>\n",
       "      <td>0.255581</td>\n",
       "      <td>...</td>\n",
       "      <td>0.464025</td>\n",
       "      <td>0.376429</td>\n",
       "      <td>0.290919</td>\n",
       "      <td>0.409377</td>\n",
       "      <td>0.143259</td>\n",
       "      <td>0.482639</td>\n",
       "      <td>0.284584</td>\n",
       "      <td>0.244845</td>\n",
       "      <td>0.257774</td>\n",
       "      <td>0.328303</td>\n",
       "    </tr>\n",
       "    <tr>\n",
       "      <th>min</th>\n",
       "      <td>0.000000</td>\n",
       "      <td>0.000000</td>\n",
       "      <td>0.000000</td>\n",
       "      <td>0.000000</td>\n",
       "      <td>0.000000</td>\n",
       "      <td>0.000000</td>\n",
       "      <td>0.000000</td>\n",
       "      <td>0.000000</td>\n",
       "      <td>0.000000</td>\n",
       "      <td>0.000000</td>\n",
       "      <td>...</td>\n",
       "      <td>0.000000</td>\n",
       "      <td>0.000000</td>\n",
       "      <td>0.000000</td>\n",
       "      <td>0.000000</td>\n",
       "      <td>0.000000</td>\n",
       "      <td>0.000000</td>\n",
       "      <td>0.000000</td>\n",
       "      <td>0.000000</td>\n",
       "      <td>0.000000</td>\n",
       "      <td>0.000000</td>\n",
       "    </tr>\n",
       "    <tr>\n",
       "      <th>25%</th>\n",
       "      <td>0.000000</td>\n",
       "      <td>0.000000</td>\n",
       "      <td>0.000000</td>\n",
       "      <td>0.000000</td>\n",
       "      <td>0.000000</td>\n",
       "      <td>0.000000</td>\n",
       "      <td>0.000000</td>\n",
       "      <td>0.000000</td>\n",
       "      <td>0.000000</td>\n",
       "      <td>0.000000</td>\n",
       "      <td>...</td>\n",
       "      <td>0.000000</td>\n",
       "      <td>0.000000</td>\n",
       "      <td>0.000000</td>\n",
       "      <td>0.000000</td>\n",
       "      <td>0.000000</td>\n",
       "      <td>0.000000</td>\n",
       "      <td>0.000000</td>\n",
       "      <td>0.000000</td>\n",
       "      <td>0.000000</td>\n",
       "      <td>0.000000</td>\n",
       "    </tr>\n",
       "    <tr>\n",
       "      <th>50%</th>\n",
       "      <td>0.000000</td>\n",
       "      <td>0.000000</td>\n",
       "      <td>0.000000</td>\n",
       "      <td>0.000000</td>\n",
       "      <td>0.000000</td>\n",
       "      <td>0.000000</td>\n",
       "      <td>0.000000</td>\n",
       "      <td>0.000000</td>\n",
       "      <td>0.000000</td>\n",
       "      <td>0.000000</td>\n",
       "      <td>...</td>\n",
       "      <td>0.000000</td>\n",
       "      <td>0.000000</td>\n",
       "      <td>0.000000</td>\n",
       "      <td>0.000000</td>\n",
       "      <td>0.000000</td>\n",
       "      <td>1.000000</td>\n",
       "      <td>0.000000</td>\n",
       "      <td>0.000000</td>\n",
       "      <td>0.000000</td>\n",
       "      <td>0.000000</td>\n",
       "    </tr>\n",
       "    <tr>\n",
       "      <th>75%</th>\n",
       "      <td>0.000000</td>\n",
       "      <td>0.000000</td>\n",
       "      <td>0.000000</td>\n",
       "      <td>0.000000</td>\n",
       "      <td>0.000000</td>\n",
       "      <td>0.000000</td>\n",
       "      <td>0.000000</td>\n",
       "      <td>0.000000</td>\n",
       "      <td>0.000000</td>\n",
       "      <td>0.000000</td>\n",
       "      <td>...</td>\n",
       "      <td>1.000000</td>\n",
       "      <td>0.000000</td>\n",
       "      <td>0.000000</td>\n",
       "      <td>0.000000</td>\n",
       "      <td>0.000000</td>\n",
       "      <td>1.000000</td>\n",
       "      <td>0.000000</td>\n",
       "      <td>0.000000</td>\n",
       "      <td>0.000000</td>\n",
       "      <td>0.000000</td>\n",
       "    </tr>\n",
       "    <tr>\n",
       "      <th>max</th>\n",
       "      <td>1.000000</td>\n",
       "      <td>1.000000</td>\n",
       "      <td>1.000000</td>\n",
       "      <td>1.000000</td>\n",
       "      <td>1.000000</td>\n",
       "      <td>1.000000</td>\n",
       "      <td>1.000000</td>\n",
       "      <td>1.000000</td>\n",
       "      <td>1.000000</td>\n",
       "      <td>1.000000</td>\n",
       "      <td>...</td>\n",
       "      <td>1.000000</td>\n",
       "      <td>1.000000</td>\n",
       "      <td>1.000000</td>\n",
       "      <td>1.000000</td>\n",
       "      <td>1.000000</td>\n",
       "      <td>1.000000</td>\n",
       "      <td>1.000000</td>\n",
       "      <td>1.000000</td>\n",
       "      <td>1.000000</td>\n",
       "      <td>1.000000</td>\n",
       "    </tr>\n",
       "  </tbody>\n",
       "</table>\n",
       "<p>8 rows × 487 columns</p>\n",
       "</div>"
      ],
      "text/plain": [
       "       CJT_GESAMTTYP_1.0  CJT_GESAMTTYP_2.0  CJT_GESAMTTYP_3.0  \\\n",
       "count      791987.000000      791987.000000      791987.000000   \n",
       "mean            0.116882           0.177696           0.184192   \n",
       "std             0.321280           0.382257           0.387641   \n",
       "min             0.000000           0.000000           0.000000   \n",
       "25%             0.000000           0.000000           0.000000   \n",
       "50%             0.000000           0.000000           0.000000   \n",
       "75%             0.000000           0.000000           0.000000   \n",
       "max             1.000000           1.000000           1.000000   \n",
       "\n",
       "       CJT_GESAMTTYP_4.0  CJT_GESAMTTYP_5.0  CJT_GESAMTTYP_6.0  FINANZTYP_1.0  \\\n",
       "count      791987.000000      791987.000000      791987.000000  791987.000000   \n",
       "mean            0.248111           0.139641           0.127535       0.247168   \n",
       "std             0.431917           0.346615           0.333571       0.431366   \n",
       "min             0.000000           0.000000           0.000000       0.000000   \n",
       "25%             0.000000           0.000000           0.000000       0.000000   \n",
       "50%             0.000000           0.000000           0.000000       0.000000   \n",
       "75%             0.000000           0.000000           0.000000       0.000000   \n",
       "max             1.000000           1.000000           1.000000       1.000000   \n",
       "\n",
       "       FINANZTYP_2.0  FINANZTYP_3.0  FINANZTYP_4.0       ...         \\\n",
       "count  791987.000000  791987.000000  791987.000000       ...          \n",
       "mean        0.131176       0.053623       0.070257       ...          \n",
       "std         0.337593       0.225273       0.255581       ...          \n",
       "min         0.000000       0.000000       0.000000       ...          \n",
       "25%         0.000000       0.000000       0.000000       ...          \n",
       "50%         0.000000       0.000000       0.000000       ...          \n",
       "75%         0.000000       0.000000       0.000000       ...          \n",
       "max         1.000000       1.000000       1.000000       ...          \n",
       "\n",
       "        WOHNLAGE_3.0   WOHNLAGE_4.0   WOHNLAGE_5.0   WOHNLAGE_7.0  \\\n",
       "count  791987.000000  791987.000000  791987.000000  791987.000000   \n",
       "mean        0.313772       0.170908       0.093347       0.212928   \n",
       "std         0.464025       0.376429       0.290919       0.409377   \n",
       "min         0.000000       0.000000       0.000000       0.000000   \n",
       "25%         0.000000       0.000000       0.000000       0.000000   \n",
       "50%         0.000000       0.000000       0.000000       0.000000   \n",
       "75%         1.000000       0.000000       0.000000       0.000000   \n",
       "max         1.000000       1.000000       1.000000       1.000000   \n",
       "\n",
       "        WOHNLAGE_8.0  PLZ8_BAUMAX_1.0  PLZ8_BAUMAX_2.0  PLZ8_BAUMAX_3.0  \\\n",
       "count  791987.000000    791987.000000    791987.000000    791987.000000   \n",
       "mean        0.020962         0.630613         0.088889         0.064052   \n",
       "std         0.143259         0.482639         0.284584         0.244845   \n",
       "min         0.000000         0.000000         0.000000         0.000000   \n",
       "25%         0.000000         0.000000         0.000000         0.000000   \n",
       "50%         0.000000         1.000000         0.000000         0.000000   \n",
       "75%         0.000000         1.000000         0.000000         0.000000   \n",
       "max         1.000000         1.000000         1.000000         1.000000   \n",
       "\n",
       "       PLZ8_BAUMAX_4.0  PLZ8_BAUMAX_5.0  \n",
       "count    791987.000000    791987.000000  \n",
       "mean          0.071569         0.122883  \n",
       "std           0.257774         0.328303  \n",
       "min           0.000000         0.000000  \n",
       "25%           0.000000         0.000000  \n",
       "50%           0.000000         0.000000  \n",
       "75%           0.000000         0.000000  \n",
       "max           1.000000         1.000000  \n",
       "\n",
       "[8 rows x 487 columns]"
      ]
     },
     "execution_count": 70,
     "metadata": {},
     "output_type": "execute_result"
    }
   ],
   "source": [
    "# Check features range\n",
    "describe_general_population = final_general_population.describe()\n",
    "describe_general_population"
   ]
  },
  {
   "cell_type": "markdown",
   "metadata": {},
   "source": [
    "### Discussion\n",
    "\n",
    "*Some features have a big range. I will scale the data to avoid  that some feature imbalance  weight*"
   ]
  },
  {
   "cell_type": "code",
   "execution_count": 71,
   "metadata": {
    "collapsed": true
   },
   "outputs": [],
   "source": [
    "# Apply feature scaling to the general population demographics data.\n",
    "scaler = RobustScaler()\n",
    "scaled_general_population = pd.DataFrame(scaler.fit_transform(final_general_population.values), columns=final_general_population.columns)"
   ]
  },
  {
   "cell_type": "code",
   "execution_count": 72,
   "metadata": {
    "collapsed": true
   },
   "outputs": [],
   "source": [
    "del describe_general_population"
   ]
  },
  {
   "cell_type": "markdown",
   "metadata": {},
   "source": [
    "### 2.2 Dimensionality Reduction\n",
    "\n",
    "Use [PCA](http://scikit-learn.org/stable/modules/generated/sklearn.decomposition.PCA.html) class to apply principal component analysis on the data, thus finding the vectors of maximal variance in the data."
   ]
  },
  {
   "cell_type": "code",
   "execution_count": 73,
   "metadata": {
    "collapsed": true
   },
   "outputs": [],
   "source": [
    "# Apply PCA to the general_population data.\n",
    "pca = PCA()\n",
    "general_population_pca = pca.fit_transform(scaled_general_population)"
   ]
  },
  {
   "cell_type": "code",
   "execution_count": 74,
   "metadata": {
    "collapsed": true
   },
   "outputs": [],
   "source": [
    "def plot_pca(pca):\n",
    "    '''\n",
    "    Creates a plot associated with the principal components\n",
    "    \n",
    "    INPUT: pca - the result of instantian of PCA in scikit learn\n",
    "    '''\n",
    "    num_components = len(pca.explained_variance_ratio_)\n",
    "    ind = np.arange(num_components)\n",
    "    vals = pca.explained_variance_ratio_\n",
    " \n",
    "    plt.figure(figsize=(16, 10))\n",
    "    ax = plt.subplot(111)\n",
    "    cumvals = np.cumsum(vals)\n",
    "    ax.bar(ind, vals)\n",
    "    ax.plot(ind, cumvals)\n",
    " \n",
    "    ax.xaxis.set_tick_params(width=0)\n",
    "    ax.yaxis.set_tick_params(width=2, length=12)\n",
    " \n",
    "    ax.set_xlabel(\"Principal Component\")\n",
    "    ax.set_ylabel(\"Variance Explained (%)\")\n",
    "    plt.title('Explained Variance Per Principal Component')"
   ]
  },
  {
   "cell_type": "code",
   "execution_count": 75,
   "metadata": {},
   "outputs": [
    {
     "data": {
      "image/png": "[encoded data removed]",
      "text/plain": [
       "<matplotlib.figure.Figure at 0x27bcf934fd0>"
      ]
     },
     "metadata": {},
     "output_type": "display_data"
    }
   ],
   "source": [
    "# Investigate the variance accounted for by each principal component.\n",
    "plot_pca(pca)"
   ]
  },
  {
   "cell_type": "markdown",
   "metadata": {},
   "source": [
    "### Discussion\n",
    "\n",
    "*Looking at the plot above, we may notice that after 200 components the cumulative explained variance becomes superior to 0.95. So I will choose 200 features to re-do the PCA.*"
   ]
  },
  {
   "cell_type": "code",
   "execution_count": 76,
   "metadata": {
    "collapsed": true
   },
   "outputs": [],
   "source": [
    "# Re-apply PCA to the data whith 200 components.\n",
    "pca = PCA(n_components=200)\n",
    "general_population_pca = pca.fit_transform(scaled_general_population)"
   ]
  },
  {
   "cell_type": "code",
   "execution_count": 77,
   "metadata": {},
   "outputs": [
    {
     "data": {
      "text/plain": [
       "791987"
      ]
     },
     "execution_count": 77,
     "metadata": {},
     "output_type": "execute_result"
    }
   ],
   "source": [
    "del scaled_general_population\n",
    "\n",
    "len(general_population_pca)"
   ]
  },
  {
   "cell_type": "markdown",
   "metadata": {},
   "source": [
    "## 3 Clustering\n",
    "\n",
    "### 3.1 Apply Clustering to General Population\n",
    "\n",
    "*Let's perform k-means clustering on the PCA-transformed data. Before that, finding the most optimal number of clusters using the elbow method is necessary.*"
   ]
  },
  {
   "cell_type": "code",
   "execution_count": null,
   "metadata": {},
   "outputs": [
    {
     "data": {
      "text/plain": [
       "<matplotlib.text.Text at 0x22afb11cdd8>"
      ]
     },
     "execution_count": 85,
     "metadata": {},
     "output_type": "execute_result"
    },
    {
     "data": {
      "image/png": "[encoded data removed]",
      "text/plain": [
       "<matplotlib.figure.Figure at 0x22b07e336d8>"
      ]
     },
     "metadata": {},
     "output_type": "display_data"
    }
   ],
   "source": [
    "# Elbow method\n",
    "fig = plt.figure(figsize=(12,5))\n",
    "ax = fig.add_axes([0,0,1,1])\n",
    "wcss = [] # within cluster sum of squares\n",
    "for i in range(1, 27):\n",
    "    kmeans = KMeans(n_clusters = i, init = 'k-means++', random_state=77)\n",
    "    kmeans.fit(general_population_pca)\n",
    "    wcss.append(kmeans.inertia_)\n",
    "plt.plot(range(1, 27), wcss)\n",
    "plt.title('The Elbow Method')\n",
    "plt.xlabel('Number of clusters')\n",
    "plt.ylabel('WCSS')"
   ]
  },
  {
   "cell_type": "markdown",
   "metadata": {
    "collapsed": true
   },
   "source": [
    "### Discussion\n",
    "\n",
    "*Looking at the plot above, we can notice that the score keeps decreasing and there is no visible elbow, but after 6 clusters the decrease is weaker. I will choose 6 clusters to do KMeans clustering.*"
   ]
  },
  {
   "cell_type": "code",
   "execution_count": 79,
   "metadata": {
    "collapsed": true
   },
   "outputs": [],
   "source": [
    "# Re-fit the k-means model with 6 class\n",
    "kmeans = KMeans(n_clusters=6, random_state=77, n_jobs=-1)\n",
    "labels_general_population = kmeans.fit_predict(general_population_pca)"
   ]
  },
  {
   "cell_type": "code",
   "execution_count": 80,
   "metadata": {},
   "outputs": [
    {
     "data": {
      "text/html": [
       "<div>\n",
       "<style>\n",
       "    .dataframe thead tr:only-child th {\n",
       "        text-align: right;\n",
       "    }\n",
       "\n",
       "    .dataframe thead th {\n",
       "        text-align: left;\n",
       "    }\n",
       "\n",
       "    .dataframe tbody tr th {\n",
       "        vertical-align: top;\n",
       "    }\n",
       "</style>\n",
       "<table border=\"1\" class=\"dataframe\">\n",
       "  <thead>\n",
       "    <tr style=\"text-align: right;\">\n",
       "      <th></th>\n",
       "      <th>% of data</th>\n",
       "      <th>cluster</th>\n",
       "      <th>data</th>\n",
       "    </tr>\n",
       "  </thead>\n",
       "  <tbody>\n",
       "    <tr>\n",
       "      <th>0</th>\n",
       "      <td>37.463999</td>\n",
       "      <td>1</td>\n",
       "      <td>general population</td>\n",
       "    </tr>\n",
       "    <tr>\n",
       "      <th>1</th>\n",
       "      <td>31.231573</td>\n",
       "      <td>2</td>\n",
       "      <td>general population</td>\n",
       "    </tr>\n",
       "    <tr>\n",
       "      <th>2</th>\n",
       "      <td>19.139077</td>\n",
       "      <td>3</td>\n",
       "      <td>general population</td>\n",
       "    </tr>\n",
       "    <tr>\n",
       "      <th>3</th>\n",
       "      <td>5.323446</td>\n",
       "      <td>4</td>\n",
       "      <td>general population</td>\n",
       "    </tr>\n",
       "    <tr>\n",
       "      <th>4</th>\n",
       "      <td>4.974955</td>\n",
       "      <td>0</td>\n",
       "      <td>general population</td>\n",
       "    </tr>\n",
       "    <tr>\n",
       "      <th>5</th>\n",
       "      <td>1.866950</td>\n",
       "      <td>5</td>\n",
       "      <td>general population</td>\n",
       "    </tr>\n",
       "  </tbody>\n",
       "</table>\n",
       "</div>"
      ],
      "text/plain": [
       "   % of data  cluster                data\n",
       "0  37.463999        1  general population\n",
       "1  31.231573        2  general population\n",
       "2  19.139077        3  general population\n",
       "3   5.323446        4  general population\n",
       "4   4.974955        0  general population\n",
       "5   1.866950        5  general population"
      ]
     },
     "execution_count": 80,
     "metadata": {},
     "output_type": "execute_result"
    }
   ],
   "source": [
    "class_count = pd.Series(labels_general_population).value_counts()\n",
    "\n",
    "class_general_population = pd.DataFrame({'cluster': class_count.index,\n",
    "                           '% of data': 100*class_count.values/len(labels_general_population)})\n",
    "class_general_population['data'] = 'general population'\n",
    "\n",
    "# print class_general_population\n",
    "class_general_population"
   ]
  },
  {
   "cell_type": "markdown",
   "metadata": {
    "collapsed": true
   },
   "source": [
    "### 3.2 Apply All Steps to the Customer Data"
   ]
  },
  {
   "cell_type": "code",
   "execution_count": 81,
   "metadata": {},
   "outputs": [
    {
     "data": {
      "text/plain": [
       "['D19_LETZTER_KAUF_BRANCHE', 'EINGEFUEGT_AM']"
      ]
     },
     "execution_count": 81,
     "metadata": {},
     "output_type": "execute_result"
    }
   ],
   "source": [
    "col_to_drop"
   ]
  },
  {
   "cell_type": "code",
   "execution_count": 82,
   "metadata": {
    "collapsed": true
   },
   "outputs": [],
   "source": [
    "# clean customer demographics data.\n",
    "final_customers = clean_data(customers)"
   ]
  },
  {
   "cell_type": "code",
   "execution_count": 83,
   "metadata": {
    "collapsed": true
   },
   "outputs": [],
   "source": [
    "# Remove additional columns\n",
    "sub_customers = final_customers[['LNR', 'CUSTOMER_GROUP', 'ONLINE_PURCHASE', 'PRODUCT_GROUP']]\n",
    "\n",
    "final_customers.drop(['LNR', 'CUSTOMER_GROUP', 'ONLINE_PURCHASE', 'PRODUCT_GROUP'], axis=1, inplace=True)"
   ]
  },
  {
   "cell_type": "code",
   "execution_count": 84,
   "metadata": {},
   "outputs": [
    {
     "name": "stdout",
     "output_type": "stream",
     "text": [
      "final_general_population shape (791987, 487)\n",
      "final_customers shape (140899, 486)\n"
     ]
    }
   ],
   "source": [
    "print('final_general_population shape', final_general_population.shape)\n",
    "print('final_customers shape', final_customers.shape)"
   ]
  },
  {
   "cell_type": "code",
   "execution_count": 85,
   "metadata": {},
   "outputs": [
    {
     "data": {
      "text/plain": [
       "['GEBAEUDETYP_5.0']"
      ]
     },
     "execution_count": 85,
     "metadata": {},
     "output_type": "execute_result"
    }
   ],
   "source": [
    "#  Check for missing column in `final_customers`\n",
    "mask = final_general_population.columns.isin(final_customers.columns)\n",
    "\n",
    "miss_attribute = list(final_general_population.columns[~mask])\n",
    "miss_attribute"
   ]
  },
  {
   "cell_type": "code",
   "execution_count": 86,
   "metadata": {
    "collapsed": true
   },
   "outputs": [],
   "source": [
    "# Add the missing column with default value of 0\n",
    "final_customers['GEBAEUDETYP_5.0'] = 0\n",
    "final_customers['GEBAEUDETYP_5.0'] = final_customers['GEBAEUDETYP_5.0'].astype('uint8')"
   ]
  },
  {
   "cell_type": "code",
   "execution_count": 87,
   "metadata": {
    "collapsed": true
   },
   "outputs": [],
   "source": [
    "# replace missing value\n",
    "final_customers = pd.DataFrame(imputer_object.transform(final_customers.values), columns=final_customers.columns)"
   ]
  },
  {
   "cell_type": "code",
   "execution_count": 88,
   "metadata": {
    "collapsed": true
   },
   "outputs": [],
   "source": [
    "# scale customers variables\n",
    "final_customers = pd.DataFrame(scaler.transform(final_customers.values), columns=final_customers.columns)"
   ]
  },
  {
   "cell_type": "code",
   "execution_count": 89,
   "metadata": {
    "collapsed": true
   },
   "outputs": [],
   "source": [
    "# cluster predictions for the  customer demographics data.\n",
    "customers_pca = pca.transform(final_customers)\n",
    "labels_customers = kmeans.predict(customers_pca)"
   ]
  },
  {
   "cell_type": "code",
   "execution_count": 90,
   "metadata": {},
   "outputs": [
    {
     "data": {
      "text/html": [
       "<div>\n",
       "<style>\n",
       "    .dataframe thead tr:only-child th {\n",
       "        text-align: right;\n",
       "    }\n",
       "\n",
       "    .dataframe thead th {\n",
       "        text-align: left;\n",
       "    }\n",
       "\n",
       "    .dataframe tbody tr th {\n",
       "        vertical-align: top;\n",
       "    }\n",
       "</style>\n",
       "<table border=\"1\" class=\"dataframe\">\n",
       "  <thead>\n",
       "    <tr style=\"text-align: right;\">\n",
       "      <th></th>\n",
       "      <th>% of data</th>\n",
       "      <th>cluster</th>\n",
       "      <th>data</th>\n",
       "    </tr>\n",
       "  </thead>\n",
       "  <tbody>\n",
       "    <tr>\n",
       "      <th>0</th>\n",
       "      <td>99.982967</td>\n",
       "      <td>2</td>\n",
       "      <td>customers data</td>\n",
       "    </tr>\n",
       "    <tr>\n",
       "      <th>1</th>\n",
       "      <td>0.017033</td>\n",
       "      <td>5</td>\n",
       "      <td>customers data</td>\n",
       "    </tr>\n",
       "  </tbody>\n",
       "</table>\n",
       "</div>"
      ],
      "text/plain": [
       "   % of data  cluster            data\n",
       "0  99.982967        2  customers data\n",
       "1   0.017033        5  customers data"
      ]
     },
     "execution_count": 90,
     "metadata": {},
     "output_type": "execute_result"
    }
   ],
   "source": [
    "customer_class = pd.Series(labels_customers).value_counts()\n",
    "\n",
    "class_customers = pd.DataFrame({'cluster': customer_class.index,\n",
    "                              '% of data': 100*customer_class.values/len(labels_customers)})\n",
    "class_customers['data'] = 'customers data'\n",
    "\n",
    "# print class_general_population\n",
    "class_customers"
   ]
  },
  {
   "cell_type": "markdown",
   "metadata": {},
   "source": [
    "### 3.3 Compare Customer Data to Demographics Data"
   ]
  },
  {
   "cell_type": "code",
   "execution_count": 91,
   "metadata": {},
   "outputs": [
    {
     "data": {
      "image/png": "[encoded data removed]",
      "text/plain": [
       "<matplotlib.figure.Figure at 0x27b9b479470>"
      ]
     },
     "metadata": {},
     "output_type": "display_data"
    }
   ],
   "source": [
    "plt.figure(figsize=(20, 12))\n",
    "sns.barplot(x=\"cluster\", y=\"% of data\", hue=\"data\", data=pd.concat([class_customers, class_general_population]))\n",
    "plt.xlabel('Cluster', fontsize=24)\n",
    "plt.ylabel('% of data', fontsize=24)\n",
    "plt.title('Compare Customer Data to Demographics Data', fontsize=24)\n",
    "plt.legend(fontsize=24)\n",
    "plt.show()"
   ]
  },
  {
   "cell_type": "code",
   "execution_count": 92,
   "metadata": {},
   "outputs": [
    {
     "data": {
      "text/html": [
       "<div>\n",
       "<style>\n",
       "    .dataframe thead tr:only-child th {\n",
       "        text-align: right;\n",
       "    }\n",
       "\n",
       "    .dataframe thead th {\n",
       "        text-align: left;\n",
       "    }\n",
       "\n",
       "    .dataframe tbody tr th {\n",
       "        vertical-align: top;\n",
       "    }\n",
       "</style>\n",
       "<table border=\"1\" class=\"dataframe\">\n",
       "  <thead>\n",
       "    <tr style=\"text-align: right;\">\n",
       "      <th></th>\n",
       "      <th>CJT_GESAMTTYP_1.0</th>\n",
       "      <th>CJT_GESAMTTYP_2.0</th>\n",
       "      <th>CJT_GESAMTTYP_3.0</th>\n",
       "      <th>CJT_GESAMTTYP_4.0</th>\n",
       "      <th>CJT_GESAMTTYP_5.0</th>\n",
       "      <th>CJT_GESAMTTYP_6.0</th>\n",
       "      <th>FINANZTYP_1.0</th>\n",
       "      <th>FINANZTYP_2.0</th>\n",
       "      <th>FINANZTYP_3.0</th>\n",
       "      <th>FINANZTYP_4.0</th>\n",
       "      <th>...</th>\n",
       "      <th>WOHNLAGE_4.0</th>\n",
       "      <th>WOHNLAGE_5.0</th>\n",
       "      <th>WOHNLAGE_7.0</th>\n",
       "      <th>WOHNLAGE_8.0</th>\n",
       "      <th>PLZ8_BAUMAX_1.0</th>\n",
       "      <th>PLZ8_BAUMAX_2.0</th>\n",
       "      <th>PLZ8_BAUMAX_3.0</th>\n",
       "      <th>PLZ8_BAUMAX_4.0</th>\n",
       "      <th>PLZ8_BAUMAX_5.0</th>\n",
       "      <th>LNR</th>\n",
       "    </tr>\n",
       "  </thead>\n",
       "  <tbody>\n",
       "    <tr>\n",
       "      <th>0</th>\n",
       "      <td>0.0</td>\n",
       "      <td>-0.0</td>\n",
       "      <td>0.0</td>\n",
       "      <td>-0.0</td>\n",
       "      <td>1.0</td>\n",
       "      <td>0.0</td>\n",
       "      <td>1.0</td>\n",
       "      <td>-0.0</td>\n",
       "      <td>0.0</td>\n",
       "      <td>0.0</td>\n",
       "      <td>...</td>\n",
       "      <td>0.0</td>\n",
       "      <td>0.0</td>\n",
       "      <td>0.0</td>\n",
       "      <td>0.0</td>\n",
       "      <td>1.0</td>\n",
       "      <td>0.0</td>\n",
       "      <td>0.0</td>\n",
       "      <td>0.0</td>\n",
       "      <td>0.0</td>\n",
       "      <td>910220</td>\n",
       "    </tr>\n",
       "    <tr>\n",
       "      <th>1</th>\n",
       "      <td>0.0</td>\n",
       "      <td>0.0</td>\n",
       "      <td>-0.0</td>\n",
       "      <td>0.0</td>\n",
       "      <td>0.0</td>\n",
       "      <td>0.0</td>\n",
       "      <td>0.0</td>\n",
       "      <td>0.0</td>\n",
       "      <td>-0.0</td>\n",
       "      <td>-0.0</td>\n",
       "      <td>...</td>\n",
       "      <td>0.0</td>\n",
       "      <td>0.0</td>\n",
       "      <td>0.0</td>\n",
       "      <td>-0.0</td>\n",
       "      <td>0.0</td>\n",
       "      <td>0.0</td>\n",
       "      <td>0.0</td>\n",
       "      <td>-0.0</td>\n",
       "      <td>-0.0</td>\n",
       "      <td>645165</td>\n",
       "    </tr>\n",
       "    <tr>\n",
       "      <th>2</th>\n",
       "      <td>0.0</td>\n",
       "      <td>0.0</td>\n",
       "      <td>0.0</td>\n",
       "      <td>1.0</td>\n",
       "      <td>-0.0</td>\n",
       "      <td>-0.0</td>\n",
       "      <td>-0.0</td>\n",
       "      <td>0.0</td>\n",
       "      <td>0.0</td>\n",
       "      <td>0.0</td>\n",
       "      <td>...</td>\n",
       "      <td>0.0</td>\n",
       "      <td>0.0</td>\n",
       "      <td>0.0</td>\n",
       "      <td>-0.0</td>\n",
       "      <td>1.0</td>\n",
       "      <td>0.0</td>\n",
       "      <td>0.0</td>\n",
       "      <td>0.0</td>\n",
       "      <td>-0.0</td>\n",
       "      <td>612569</td>\n",
       "    </tr>\n",
       "    <tr>\n",
       "      <th>3</th>\n",
       "      <td>0.0</td>\n",
       "      <td>-0.0</td>\n",
       "      <td>1.0</td>\n",
       "      <td>-0.0</td>\n",
       "      <td>-0.0</td>\n",
       "      <td>0.0</td>\n",
       "      <td>0.0</td>\n",
       "      <td>0.0</td>\n",
       "      <td>0.0</td>\n",
       "      <td>0.0</td>\n",
       "      <td>...</td>\n",
       "      <td>1.0</td>\n",
       "      <td>0.0</td>\n",
       "      <td>-0.0</td>\n",
       "      <td>-0.0</td>\n",
       "      <td>0.0</td>\n",
       "      <td>0.0</td>\n",
       "      <td>0.0</td>\n",
       "      <td>0.0</td>\n",
       "      <td>0.0</td>\n",
       "      <td>612595</td>\n",
       "    </tr>\n",
       "    <tr>\n",
       "      <th>4</th>\n",
       "      <td>-0.0</td>\n",
       "      <td>0.0</td>\n",
       "      <td>0.0</td>\n",
       "      <td>1.0</td>\n",
       "      <td>0.0</td>\n",
       "      <td>-0.0</td>\n",
       "      <td>1.0</td>\n",
       "      <td>0.0</td>\n",
       "      <td>-0.0</td>\n",
       "      <td>0.0</td>\n",
       "      <td>...</td>\n",
       "      <td>1.0</td>\n",
       "      <td>0.0</td>\n",
       "      <td>0.0</td>\n",
       "      <td>-0.0</td>\n",
       "      <td>0.0</td>\n",
       "      <td>0.0</td>\n",
       "      <td>-0.0</td>\n",
       "      <td>0.0</td>\n",
       "      <td>0.0</td>\n",
       "      <td>612606</td>\n",
       "    </tr>\n",
       "  </tbody>\n",
       "</table>\n",
       "<p>5 rows × 488 columns</p>\n",
       "</div>"
      ],
      "text/plain": [
       "   CJT_GESAMTTYP_1.0  CJT_GESAMTTYP_2.0  CJT_GESAMTTYP_3.0  CJT_GESAMTTYP_4.0  \\\n",
       "0                0.0               -0.0                0.0               -0.0   \n",
       "1                0.0                0.0               -0.0                0.0   \n",
       "2                0.0                0.0                0.0                1.0   \n",
       "3                0.0               -0.0                1.0               -0.0   \n",
       "4               -0.0                0.0                0.0                1.0   \n",
       "\n",
       "   CJT_GESAMTTYP_5.0  CJT_GESAMTTYP_6.0  FINANZTYP_1.0  FINANZTYP_2.0  \\\n",
       "0                1.0                0.0            1.0           -0.0   \n",
       "1                0.0                0.0            0.0            0.0   \n",
       "2               -0.0               -0.0           -0.0            0.0   \n",
       "3               -0.0                0.0            0.0            0.0   \n",
       "4                0.0               -0.0            1.0            0.0   \n",
       "\n",
       "   FINANZTYP_3.0  FINANZTYP_4.0   ...    WOHNLAGE_4.0  WOHNLAGE_5.0  \\\n",
       "0            0.0            0.0   ...             0.0           0.0   \n",
       "1           -0.0           -0.0   ...             0.0           0.0   \n",
       "2            0.0            0.0   ...             0.0           0.0   \n",
       "3            0.0            0.0   ...             1.0           0.0   \n",
       "4           -0.0            0.0   ...             1.0           0.0   \n",
       "\n",
       "   WOHNLAGE_7.0  WOHNLAGE_8.0  PLZ8_BAUMAX_1.0  PLZ8_BAUMAX_2.0  \\\n",
       "0           0.0           0.0              1.0              0.0   \n",
       "1           0.0          -0.0              0.0              0.0   \n",
       "2           0.0          -0.0              1.0              0.0   \n",
       "3          -0.0          -0.0              0.0              0.0   \n",
       "4           0.0          -0.0              0.0              0.0   \n",
       "\n",
       "   PLZ8_BAUMAX_3.0  PLZ8_BAUMAX_4.0  PLZ8_BAUMAX_5.0     LNR  \n",
       "0              0.0              0.0              0.0  910220  \n",
       "1              0.0             -0.0             -0.0  645165  \n",
       "2              0.0              0.0             -0.0  612569  \n",
       "3              0.0              0.0              0.0  612595  \n",
       "4             -0.0              0.0              0.0  612606  \n",
       "\n",
       "[5 rows x 488 columns]"
      ]
     },
     "execution_count": 92,
     "metadata": {},
     "output_type": "execute_result"
    }
   ],
   "source": [
    "# Select peaple in the target class\n",
    "target_class = [2]\n",
    "target_pca = pca.inverse_transform(general_population_pca[np.isin(labels_general_population, target_class)])\n",
    "target_general_population = scaler.inverse_transform(target_pca).round()\n",
    "target_general_population = pd.DataFrame(target_general_population, columns=final_general_population.columns)\n",
    "\n",
    "# Get LNR variable\n",
    "target_LNR = LNR_general_population[np.isin(labels_general_population, target_class)]\n",
    "target_general_population['LNR'] = target_LNR.values \n",
    "\n",
    "target_general_population.head()"
   ]
  },
  {
   "cell_type": "code",
   "execution_count": 93,
   "metadata": {},
   "outputs": [
    {
     "data": {
      "text/html": [
       "<div>\n",
       "<style>\n",
       "    .dataframe thead tr:only-child th {\n",
       "        text-align: right;\n",
       "    }\n",
       "\n",
       "    .dataframe thead th {\n",
       "        text-align: left;\n",
       "    }\n",
       "\n",
       "    .dataframe tbody tr th {\n",
       "        vertical-align: top;\n",
       "    }\n",
       "</style>\n",
       "<table border=\"1\" class=\"dataframe\">\n",
       "  <thead>\n",
       "    <tr style=\"text-align: right;\">\n",
       "      <th></th>\n",
       "      <th>CJT_GESAMTTYP_1.0</th>\n",
       "      <th>CJT_GESAMTTYP_2.0</th>\n",
       "      <th>CJT_GESAMTTYP_3.0</th>\n",
       "      <th>CJT_GESAMTTYP_4.0</th>\n",
       "      <th>CJT_GESAMTTYP_5.0</th>\n",
       "      <th>CJT_GESAMTTYP_6.0</th>\n",
       "      <th>FINANZTYP_1.0</th>\n",
       "      <th>FINANZTYP_2.0</th>\n",
       "      <th>FINANZTYP_3.0</th>\n",
       "      <th>FINANZTYP_4.0</th>\n",
       "      <th>...</th>\n",
       "      <th>WOHNLAGE_4.0</th>\n",
       "      <th>WOHNLAGE_5.0</th>\n",
       "      <th>WOHNLAGE_7.0</th>\n",
       "      <th>WOHNLAGE_8.0</th>\n",
       "      <th>PLZ8_BAUMAX_1.0</th>\n",
       "      <th>PLZ8_BAUMAX_2.0</th>\n",
       "      <th>PLZ8_BAUMAX_3.0</th>\n",
       "      <th>PLZ8_BAUMAX_4.0</th>\n",
       "      <th>PLZ8_BAUMAX_5.0</th>\n",
       "      <th>LNR</th>\n",
       "    </tr>\n",
       "  </thead>\n",
       "  <tbody>\n",
       "    <tr>\n",
       "      <th>0</th>\n",
       "      <td>0.108354</td>\n",
       "      <td>0.037554</td>\n",
       "      <td>0.772088</td>\n",
       "      <td>0.020228</td>\n",
       "      <td>0.050045</td>\n",
       "      <td>0.010659</td>\n",
       "      <td>0.771876</td>\n",
       "      <td>0.050819</td>\n",
       "      <td>0.000617</td>\n",
       "      <td>0.179881</td>\n",
       "      <td>...</td>\n",
       "      <td>0.350078</td>\n",
       "      <td>0.044997</td>\n",
       "      <td>0.078967</td>\n",
       "      <td>-0.007266</td>\n",
       "      <td>-0.133656</td>\n",
       "      <td>0.182491</td>\n",
       "      <td>-0.014470</td>\n",
       "      <td>-0.082201</td>\n",
       "      <td>0.025563</td>\n",
       "      <td>910225</td>\n",
       "    </tr>\n",
       "    <tr>\n",
       "      <th>1</th>\n",
       "      <td>-0.017635</td>\n",
       "      <td>0.480044</td>\n",
       "      <td>0.042315</td>\n",
       "      <td>0.093461</td>\n",
       "      <td>0.335777</td>\n",
       "      <td>0.059603</td>\n",
       "      <td>-0.033500</td>\n",
       "      <td>0.144079</td>\n",
       "      <td>0.104017</td>\n",
       "      <td>-0.065495</td>\n",
       "      <td>...</td>\n",
       "      <td>-0.178717</td>\n",
       "      <td>0.082810</td>\n",
       "      <td>0.715467</td>\n",
       "      <td>0.114456</td>\n",
       "      <td>-0.030490</td>\n",
       "      <td>-0.076874</td>\n",
       "      <td>0.157109</td>\n",
       "      <td>-0.072826</td>\n",
       "      <td>-0.042681</td>\n",
       "      <td>910226</td>\n",
       "    </tr>\n",
       "    <tr>\n",
       "      <th>2</th>\n",
       "      <td>0.186700</td>\n",
       "      <td>-0.201164</td>\n",
       "      <td>0.000088</td>\n",
       "      <td>0.064883</td>\n",
       "      <td>0.260122</td>\n",
       "      <td>0.683991</td>\n",
       "      <td>0.039269</td>\n",
       "      <td>0.159945</td>\n",
       "      <td>0.114539</td>\n",
       "      <td>0.120486</td>\n",
       "      <td>...</td>\n",
       "      <td>-0.282184</td>\n",
       "      <td>0.110480</td>\n",
       "      <td>0.152006</td>\n",
       "      <td>-0.000535</td>\n",
       "      <td>-0.756404</td>\n",
       "      <td>0.537992</td>\n",
       "      <td>0.081977</td>\n",
       "      <td>0.100082</td>\n",
       "      <td>-0.043229</td>\n",
       "      <td>910241</td>\n",
       "    </tr>\n",
       "    <tr>\n",
       "      <th>3</th>\n",
       "      <td>0.061191</td>\n",
       "      <td>0.797579</td>\n",
       "      <td>-0.103497</td>\n",
       "      <td>-0.145196</td>\n",
       "      <td>0.152596</td>\n",
       "      <td>0.230162</td>\n",
       "      <td>0.293805</td>\n",
       "      <td>0.744141</td>\n",
       "      <td>-0.105066</td>\n",
       "      <td>-0.028403</td>\n",
       "      <td>...</td>\n",
       "      <td>0.063130</td>\n",
       "      <td>0.121456</td>\n",
       "      <td>0.669385</td>\n",
       "      <td>0.055647</td>\n",
       "      <td>-0.174859</td>\n",
       "      <td>0.149558</td>\n",
       "      <td>0.001070</td>\n",
       "      <td>-0.034323</td>\n",
       "      <td>0.054049</td>\n",
       "      <td>910244</td>\n",
       "    </tr>\n",
       "    <tr>\n",
       "      <th>4</th>\n",
       "      <td>0.062671</td>\n",
       "      <td>0.224304</td>\n",
       "      <td>-0.020408</td>\n",
       "      <td>0.001354</td>\n",
       "      <td>0.288414</td>\n",
       "      <td>0.442890</td>\n",
       "      <td>0.704076</td>\n",
       "      <td>-0.086271</td>\n",
       "      <td>0.060228</td>\n",
       "      <td>0.208824</td>\n",
       "      <td>...</td>\n",
       "      <td>0.281395</td>\n",
       "      <td>0.220891</td>\n",
       "      <td>0.136674</td>\n",
       "      <td>-0.032907</td>\n",
       "      <td>-0.192925</td>\n",
       "      <td>0.339173</td>\n",
       "      <td>-0.017087</td>\n",
       "      <td>-0.071676</td>\n",
       "      <td>-0.040495</td>\n",
       "      <td>910248</td>\n",
       "    </tr>\n",
       "  </tbody>\n",
       "</table>\n",
       "<p>5 rows × 488 columns</p>\n",
       "</div>"
      ],
      "text/plain": [
       "   CJT_GESAMTTYP_1.0  CJT_GESAMTTYP_2.0  CJT_GESAMTTYP_3.0  CJT_GESAMTTYP_4.0  \\\n",
       "0           0.108354           0.037554           0.772088           0.020228   \n",
       "1          -0.017635           0.480044           0.042315           0.093461   \n",
       "2           0.186700          -0.201164           0.000088           0.064883   \n",
       "3           0.061191           0.797579          -0.103497          -0.145196   \n",
       "4           0.062671           0.224304          -0.020408           0.001354   \n",
       "\n",
       "   CJT_GESAMTTYP_5.0  CJT_GESAMTTYP_6.0  FINANZTYP_1.0  FINANZTYP_2.0  \\\n",
       "0           0.050045           0.010659       0.771876       0.050819   \n",
       "1           0.335777           0.059603      -0.033500       0.144079   \n",
       "2           0.260122           0.683991       0.039269       0.159945   \n",
       "3           0.152596           0.230162       0.293805       0.744141   \n",
       "4           0.288414           0.442890       0.704076      -0.086271   \n",
       "\n",
       "   FINANZTYP_3.0  FINANZTYP_4.0   ...    WOHNLAGE_4.0  WOHNLAGE_5.0  \\\n",
       "0       0.000617       0.179881   ...        0.350078      0.044997   \n",
       "1       0.104017      -0.065495   ...       -0.178717      0.082810   \n",
       "2       0.114539       0.120486   ...       -0.282184      0.110480   \n",
       "3      -0.105066      -0.028403   ...        0.063130      0.121456   \n",
       "4       0.060228       0.208824   ...        0.281395      0.220891   \n",
       "\n",
       "   WOHNLAGE_7.0  WOHNLAGE_8.0  PLZ8_BAUMAX_1.0  PLZ8_BAUMAX_2.0  \\\n",
       "0      0.078967     -0.007266        -0.133656         0.182491   \n",
       "1      0.715467      0.114456        -0.030490        -0.076874   \n",
       "2      0.152006     -0.000535        -0.756404         0.537992   \n",
       "3      0.669385      0.055647        -0.174859         0.149558   \n",
       "4      0.136674     -0.032907        -0.192925         0.339173   \n",
       "\n",
       "   PLZ8_BAUMAX_3.0  PLZ8_BAUMAX_4.0  PLZ8_BAUMAX_5.0     LNR  \n",
       "0        -0.014470        -0.082201         0.025563  910225  \n",
       "1         0.157109        -0.072826        -0.042681  910226  \n",
       "2         0.081977         0.100082        -0.043229  910241  \n",
       "3         0.001070        -0.034323         0.054049  910244  \n",
       "4        -0.017087        -0.071676        -0.040495  910248  \n",
       "\n",
       "[5 rows x 488 columns]"
      ]
     },
     "execution_count": 93,
     "metadata": {},
     "output_type": "execute_result"
    }
   ],
   "source": [
    "# Select peaple in the no target class\n",
    "no_target_class = [0, 1, 3, 4, 5]\n",
    "no_target_pca = pca.inverse_transform(general_population_pca[np.isin(labels_general_population, no_target_class)])\n",
    "no_target_general_population = scaler.inverse_transform(no_target_pca).round()\n",
    "no_target_pca = pd.DataFrame(no_target_pca, columns=final_general_population.columns)\n",
    "\n",
    "# Get LNR variable\n",
    "no_target_LNR = LNR_general_population[np.isin(labels_general_population, no_target_class)]\n",
    "no_target_pca['LNR'] = no_target_LNR.values \n",
    " \n",
    "no_target_pca.head()"
   ]
  },
  {
   "cell_type": "markdown",
   "metadata": {},
   "source": [
    "### Conclusion\n",
    "\n",
    "*99.9 % percent of the customers' data can be represented by cluster 2, which contain 31% of general_population data. *"
   ]
  },
  {
   "cell_type": "markdown",
   "metadata": {},
   "source": [
    "##  <a class=\"anchor\" id=\"part2\">Part 2: Supervised Learning Model</a>\n",
    "\n",
    "Now that I've found which parts of the population are more likely to be customers of the mail-order company, it's time to build a prediction model. Each of the rows in the \"MAILOUT\" data files represents an individual that was targeted for a mailout campaign. Ideally, we should be able to use the demographic information from each individual to decide whether or not it will be worth it to include that person in the campaign.\n",
    "\n",
    "The \"MAILOUT\" data has been split into two approximately equal parts, each with almost 43 000 data rows. In this part, you can verify your model with the \"TRAIN\" partition, which includes a column, \"RESPONSE\", that states whether or not a person became a customer of the company following the campaign. In the next part, I'll need to create predictions on the \"TEST\" partition, where the \"RESPONSE\" column has been withheld."
   ]
  },
  {
   "cell_type": "markdown",
   "metadata": {},
   "source": [
    "## 1 Exploring the Data"
   ]
  },
  {
   "cell_type": "code",
   "execution_count": 94,
   "metadata": {},
   "outputs": [
    {
     "name": "stderr",
     "output_type": "stream",
     "text": [
      "C:\\Users\\Desared\\Anaconda3\\lib\\site-packages\\IPython\\core\\interactiveshell.py:2698: DtypeWarning: Columns (18,19) have mixed types. Specify dtype option on import or set low_memory=False.\n",
      "  interactivity=interactivity, compiler=compiler, result=result)\n"
     ]
    },
    {
     "data": {
      "text/html": [
       "<div>\n",
       "<style>\n",
       "    .dataframe thead tr:only-child th {\n",
       "        text-align: right;\n",
       "    }\n",
       "\n",
       "    .dataframe thead th {\n",
       "        text-align: left;\n",
       "    }\n",
       "\n",
       "    .dataframe tbody tr th {\n",
       "        vertical-align: top;\n",
       "    }\n",
       "</style>\n",
       "<table border=\"1\" class=\"dataframe\">\n",
       "  <thead>\n",
       "    <tr style=\"text-align: right;\">\n",
       "      <th></th>\n",
       "      <th>LNR</th>\n",
       "      <th>AGER_TYP</th>\n",
       "      <th>AKT_DAT_KL</th>\n",
       "      <th>ALTER_HH</th>\n",
       "      <th>ALTER_KIND1</th>\n",
       "      <th>ALTER_KIND2</th>\n",
       "      <th>ALTER_KIND3</th>\n",
       "      <th>ALTER_KIND4</th>\n",
       "      <th>ALTERSKATEGORIE_FEIN</th>\n",
       "      <th>ANZ_HAUSHALTE_AKTIV</th>\n",
       "      <th>...</th>\n",
       "      <th>VK_DHT4A</th>\n",
       "      <th>VK_DISTANZ</th>\n",
       "      <th>VK_ZG11</th>\n",
       "      <th>W_KEIT_KIND_HH</th>\n",
       "      <th>WOHNDAUER_2008</th>\n",
       "      <th>WOHNLAGE</th>\n",
       "      <th>ZABEOTYP</th>\n",
       "      <th>RESPONSE</th>\n",
       "      <th>ANREDE_KZ</th>\n",
       "      <th>ALTERSKATEGORIE_GROB</th>\n",
       "    </tr>\n",
       "  </thead>\n",
       "  <tbody>\n",
       "    <tr>\n",
       "      <th>0</th>\n",
       "      <td>1763</td>\n",
       "      <td>2</td>\n",
       "      <td>1.0</td>\n",
       "      <td>8.0</td>\n",
       "      <td>NaN</td>\n",
       "      <td>NaN</td>\n",
       "      <td>NaN</td>\n",
       "      <td>NaN</td>\n",
       "      <td>8.0</td>\n",
       "      <td>15.0</td>\n",
       "      <td>...</td>\n",
       "      <td>5.0</td>\n",
       "      <td>2.0</td>\n",
       "      <td>1.0</td>\n",
       "      <td>6.0</td>\n",
       "      <td>9.0</td>\n",
       "      <td>3.0</td>\n",
       "      <td>3</td>\n",
       "      <td>0</td>\n",
       "      <td>2</td>\n",
       "      <td>4</td>\n",
       "    </tr>\n",
       "    <tr>\n",
       "      <th>1</th>\n",
       "      <td>1771</td>\n",
       "      <td>1</td>\n",
       "      <td>4.0</td>\n",
       "      <td>13.0</td>\n",
       "      <td>NaN</td>\n",
       "      <td>NaN</td>\n",
       "      <td>NaN</td>\n",
       "      <td>NaN</td>\n",
       "      <td>13.0</td>\n",
       "      <td>1.0</td>\n",
       "      <td>...</td>\n",
       "      <td>1.0</td>\n",
       "      <td>2.0</td>\n",
       "      <td>1.0</td>\n",
       "      <td>4.0</td>\n",
       "      <td>9.0</td>\n",
       "      <td>7.0</td>\n",
       "      <td>1</td>\n",
       "      <td>0</td>\n",
       "      <td>2</td>\n",
       "      <td>3</td>\n",
       "    </tr>\n",
       "    <tr>\n",
       "      <th>2</th>\n",
       "      <td>1776</td>\n",
       "      <td>1</td>\n",
       "      <td>1.0</td>\n",
       "      <td>9.0</td>\n",
       "      <td>NaN</td>\n",
       "      <td>NaN</td>\n",
       "      <td>NaN</td>\n",
       "      <td>NaN</td>\n",
       "      <td>7.0</td>\n",
       "      <td>0.0</td>\n",
       "      <td>...</td>\n",
       "      <td>6.0</td>\n",
       "      <td>4.0</td>\n",
       "      <td>2.0</td>\n",
       "      <td>NaN</td>\n",
       "      <td>9.0</td>\n",
       "      <td>2.0</td>\n",
       "      <td>3</td>\n",
       "      <td>0</td>\n",
       "      <td>1</td>\n",
       "      <td>4</td>\n",
       "    </tr>\n",
       "    <tr>\n",
       "      <th>3</th>\n",
       "      <td>1460</td>\n",
       "      <td>2</td>\n",
       "      <td>1.0</td>\n",
       "      <td>6.0</td>\n",
       "      <td>NaN</td>\n",
       "      <td>NaN</td>\n",
       "      <td>NaN</td>\n",
       "      <td>NaN</td>\n",
       "      <td>6.0</td>\n",
       "      <td>4.0</td>\n",
       "      <td>...</td>\n",
       "      <td>8.0</td>\n",
       "      <td>11.0</td>\n",
       "      <td>11.0</td>\n",
       "      <td>6.0</td>\n",
       "      <td>9.0</td>\n",
       "      <td>1.0</td>\n",
       "      <td>3</td>\n",
       "      <td>0</td>\n",
       "      <td>2</td>\n",
       "      <td>4</td>\n",
       "    </tr>\n",
       "    <tr>\n",
       "      <th>4</th>\n",
       "      <td>1783</td>\n",
       "      <td>2</td>\n",
       "      <td>1.0</td>\n",
       "      <td>9.0</td>\n",
       "      <td>NaN</td>\n",
       "      <td>NaN</td>\n",
       "      <td>NaN</td>\n",
       "      <td>NaN</td>\n",
       "      <td>9.0</td>\n",
       "      <td>53.0</td>\n",
       "      <td>...</td>\n",
       "      <td>2.0</td>\n",
       "      <td>2.0</td>\n",
       "      <td>1.0</td>\n",
       "      <td>6.0</td>\n",
       "      <td>9.0</td>\n",
       "      <td>3.0</td>\n",
       "      <td>3</td>\n",
       "      <td>0</td>\n",
       "      <td>1</td>\n",
       "      <td>3</td>\n",
       "    </tr>\n",
       "  </tbody>\n",
       "</table>\n",
       "<p>5 rows × 367 columns</p>\n",
       "</div>"
      ],
      "text/plain": [
       "    LNR  AGER_TYP  AKT_DAT_KL  ALTER_HH  ALTER_KIND1  ALTER_KIND2  \\\n",
       "0  1763         2         1.0       8.0          NaN          NaN   \n",
       "1  1771         1         4.0      13.0          NaN          NaN   \n",
       "2  1776         1         1.0       9.0          NaN          NaN   \n",
       "3  1460         2         1.0       6.0          NaN          NaN   \n",
       "4  1783         2         1.0       9.0          NaN          NaN   \n",
       "\n",
       "   ALTER_KIND3  ALTER_KIND4  ALTERSKATEGORIE_FEIN  ANZ_HAUSHALTE_AKTIV  \\\n",
       "0          NaN          NaN                   8.0                 15.0   \n",
       "1          NaN          NaN                  13.0                  1.0   \n",
       "2          NaN          NaN                   7.0                  0.0   \n",
       "3          NaN          NaN                   6.0                  4.0   \n",
       "4          NaN          NaN                   9.0                 53.0   \n",
       "\n",
       "          ...           VK_DHT4A  VK_DISTANZ  VK_ZG11  W_KEIT_KIND_HH  \\\n",
       "0         ...                5.0         2.0      1.0             6.0   \n",
       "1         ...                1.0         2.0      1.0             4.0   \n",
       "2         ...                6.0         4.0      2.0             NaN   \n",
       "3         ...                8.0        11.0     11.0             6.0   \n",
       "4         ...                2.0         2.0      1.0             6.0   \n",
       "\n",
       "   WOHNDAUER_2008  WOHNLAGE  ZABEOTYP RESPONSE ANREDE_KZ ALTERSKATEGORIE_GROB  \n",
       "0             9.0       3.0         3        0         2                    4  \n",
       "1             9.0       7.0         1        0         2                    3  \n",
       "2             9.0       2.0         3        0         1                    4  \n",
       "3             9.0       1.0         3        0         2                    4  \n",
       "4             9.0       3.0         3        0         1                    3  \n",
       "\n",
       "[5 rows x 367 columns]"
      ]
     },
     "execution_count": 94,
     "metadata": {},
     "output_type": "execute_result"
    }
   ],
   "source": [
    "mailout_train = pd.read_csv('data/Udacity_MAILOUT_052018_TRAIN.csv', sep=';')\n",
    "\n",
    "mailout_train.head()"
   ]
  },
  {
   "cell_type": "code",
   "execution_count": 95,
   "metadata": {},
   "outputs": [
    {
     "data": {
      "text/plain": [
       "(42962, 367)"
      ]
     },
     "execution_count": 95,
     "metadata": {},
     "output_type": "execute_result"
    }
   ],
   "source": [
    "# Data shape\n",
    "mailout_train.shape"
   ]
  },
  {
   "cell_type": "code",
   "execution_count": 96,
   "metadata": {
    "collapsed": true
   },
   "outputs": [],
   "source": [
    "# Response values\n",
    "cout = mailout_train.RESPONSE.value_counts(dropna=False)\n",
    "customer_response = pd.DataFrame({'RESPONSE': cout.index, '% of data': cout.values})\n",
    "customer_response['% of data'] = 100*customer_response['% of data']/42962"
   ]
  },
  {
   "cell_type": "code",
   "execution_count": 97,
   "metadata": {},
   "outputs": [
    {
     "data": {
      "image/png": "[encoded data removed]",
      "text/plain": [
       "<matplotlib.figure.Figure at 0x27b9ba55fd0>"
      ]
     },
     "metadata": {},
     "output_type": "display_data"
    }
   ],
   "source": [
    "plt.figure(figsize=(8, 6))\n",
    "sns.barplot(x=\"RESPONSE\", y=\"% of data\", data=customer_response)\n",
    "matplotlib.rc('xtick', labelsize=25)  \n",
    "matplotlib.rc('ytick', labelsize=25)\n",
    "plt.xlabel('RESPONSE', fontsize=15)\n",
    "plt.ylabel('% of data', fontsize=15)\n",
    "plt.title('Distribution of customers responses', fontsize=15)\n",
    "plt.show()"
   ]
  },
  {
   "cell_type": "code",
   "execution_count": 98,
   "metadata": {},
   "outputs": [
    {
     "data": {
      "text/plain": [
       "0    42430\n",
       "1      532\n",
       "Name: RESPONSE, dtype: int64"
      ]
     },
     "execution_count": 98,
     "metadata": {},
     "output_type": "execute_result"
    }
   ],
   "source": [
    "cout"
   ]
  },
  {
   "cell_type": "markdown",
   "metadata": {},
   "source": [
    "### Discussion\n",
    "\n",
    "*Out of all the 42 962 individuals in the mailout campaign, only 532 of the individuals became customers. The dataset is highly imbalanced.*"
   ]
  },
  {
   "cell_type": "markdown",
   "metadata": {},
   "source": [
    "## 2 Preparing the Data"
   ]
  },
  {
   "cell_type": "code",
   "execution_count": 99,
   "metadata": {
    "collapsed": true
   },
   "outputs": [],
   "source": [
    "# Cleaning data\n",
    "clean_mailout = clean_data(mailout_train)"
   ]
  },
  {
   "cell_type": "code",
   "execution_count": 100,
   "metadata": {},
   "outputs": [
    {
     "data": {
      "text/plain": [
       "0    34663\n",
       "1      437\n",
       "Name: RESPONSE, dtype: int64"
      ]
     },
     "execution_count": 100,
     "metadata": {},
     "output_type": "execute_result"
    }
   ],
   "source": [
    "# Response values\n",
    "clean_mailout.RESPONSE.value_counts(dropna=False)"
   ]
  },
  {
   "cell_type": "code",
   "execution_count": 101,
   "metadata": {
    "collapsed": true
   },
   "outputs": [],
   "source": [
    "# Cheking missing values\n",
    "sum_null = clean_mailout.isnull().sum(axis=1)"
   ]
  },
  {
   "cell_type": "code",
   "execution_count": 102,
   "metadata": {
    "collapsed": true
   },
   "outputs": [],
   "source": [
    "# Get LNR variable\n",
    "mailout_LNR = clean_mailout['LNR'] \n",
    "\n",
    "# Drop LNR \n",
    "clean_mailout.drop('LNR', axis=1, inplace=True)"
   ]
  },
  {
   "cell_type": "code",
   "execution_count": 103,
   "metadata": {
    "collapsed": true
   },
   "outputs": [],
   "source": [
    "# Imputer\n",
    "final_mailout = pd.DataFrame(imputer_object.fit_transform(clean_mailout.values), columns=clean_mailout.columns)"
   ]
  },
  {
   "cell_type": "code",
   "execution_count": 104,
   "metadata": {
    "collapsed": true
   },
   "outputs": [],
   "source": [
    "# feature scaling\n",
    "final_mailout = pd.DataFrame(scaler.fit_transform(final_mailout.values), columns=final_mailout.columns)"
   ]
  },
  {
   "cell_type": "code",
   "execution_count": 105,
   "metadata": {},
   "outputs": [
    {
     "data": {
      "text/plain": [
       "(35100, 487)"
      ]
     },
     "execution_count": 105,
     "metadata": {},
     "output_type": "execute_result"
    }
   ],
   "source": [
    "final_mailout.shape"
   ]
  },
  {
   "cell_type": "code",
   "execution_count": 106,
   "metadata": {
    "collapsed": true
   },
   "outputs": [],
   "source": [
    "# split data to features and labels\n",
    "response = final_mailout['RESPONSE']\n",
    "\n",
    "# drop RESPONSE variable\n",
    "features = final_mailout.drop('RESPONSE', axis=1)"
   ]
  },
  {
   "cell_type": "markdown",
   "metadata": {},
   "source": [
    "## 3 Modeling the data \n",
    "\n",
    "#### Evaluating Model Performance\n",
    "\n",
    "Use ROC-AUC to assess models performances since the data is highly imbalanced.\n",
    "\n",
    "#### Supervised Learning Models\n",
    "In this project, I will use the following four algorithms:\n",
    "\n",
    " - [RandomForestClassifier](https://scikit-learn.org/stable/modules/generated/sklearn.ensemble.RandomForestClassifier.html)\n",
    " - [AdaBoostClassifier](https://scikit-learn.org/stable/modules/generated/sklearn.ensemble.AdaBoostClassifier.html)\n",
    " - [GradientBoostingClassifier](https://scikit-learn.org/stable/modules/generated/sklearn.ensemble.GradientBoostingClassifier.html)\n",
    " - [XGBClassifier](https://xgboost.readthedocs.io/en/latest/python/python_api.html)"
   ]
  },
  {
   "cell_type": "code",
   "execution_count": 107,
   "metadata": {
    "collapsed": true
   },
   "outputs": [],
   "source": [
    "# Initialize the four models\n",
    "randomforest = RandomForestClassifier(random_state=11)\n",
    "adaboost = AdaBoostClassifier(random_state=11) \n",
    "gradientboost = GradientBoostingClassifier(random_state=11)\n",
    "xgboost = XGBClassifier(objective=\"binary:logistic\", random_state=11)"
   ]
  },
  {
   "cell_type": "code",
   "execution_count": 108,
   "metadata": {
    "collapsed": true
   },
   "outputs": [],
   "source": [
    "# randomize the data\n",
    "def randomize(X, Y):\n",
    "    permutation = np.random.permutation(Y.shape[0])\n",
    "    X2 = X[permutation, :]\n",
    "    Y2 = Y[permutation]\n",
    "    \n",
    "    return X2, Y2\n",
    "\n",
    "X_train, y_train = randomize(np.asarray(features), np.asarray(response))"
   ]
  },
  {
   "cell_type": "code",
   "execution_count": 109,
   "metadata": {
    "collapsed": true
   },
   "outputs": [],
   "source": [
    "# Learning Curves\n",
    "def draw_learning_curves(X, y, estimator, title=\"Learning Curves\"):\n",
    "    \n",
    "    X2, y2 = randomize(X, y)\n",
    "    \n",
    "    train_sizes = np.linspace(.1, 1.0, 10)\n",
    "    train_sizes, train_scores, test_scores = learning_curve(\n",
    "        estimator,\n",
    "        X2,\n",
    "        y2,\n",
    "        cv=5,\n",
    "        scoring='roc_auc',\n",
    "        n_jobs=-1,\n",
    "        train_sizes=train_sizes,\n",
    "        shuffle=True,\n",
    "        verbose=10\n",
    "    )\n",
    "\n",
    "    train_scores_mean = np.mean(train_scores, axis=1)\n",
    "    train_scores_std = np.std(train_scores, axis=1)\n",
    "    test_scores_mean = np.mean(test_scores, axis=1)\n",
    "    test_scores_std = np.std(test_scores, axis=1)\n",
    "\n",
    "    fig = plt.figure()\n",
    "    plt.grid()\n",
    "    plt.title(title)\n",
    "    plt.xlabel(\"Training examples\")\n",
    "    plt.ylabel(\"Auc score\")\n",
    "\n",
    "    plt.plot(train_scores_mean, 'o-', color=\"b\", label=\"Training score\")\n",
    "    plt.plot(test_scores_mean, 'o-', color=\"r\", label=\"Cross-validation score\")\n",
    "\n",
    "    plt.legend(loc=\"best\")\n",
    "\n",
    "    plt.show()"
   ]
  },
  {
   "cell_type": "code",
   "execution_count": 110,
   "metadata": {},
   "outputs": [
    {
     "name": "stdout",
     "output_type": "stream",
     "text": [
      "[learning_curve] Training set sizes: [ 2807  5615  8423 11231 14039 16847 19655 22463 25271 28079]\n"
     ]
    },
    {
     "name": "stderr",
     "output_type": "stream",
     "text": [
      "[Parallel(n_jobs=-1)]: Done   3 out of  50 | elapsed:    2.5s remaining:   40.1s\n",
      "[Parallel(n_jobs=-1)]: Done   9 out of  50 | elapsed:    5.0s remaining:   23.1s\n",
      "[Parallel(n_jobs=-1)]: Done  15 out of  50 | elapsed:    6.7s remaining:   15.8s\n",
      "[Parallel(n_jobs=-1)]: Done  21 out of  50 | elapsed:    8.0s remaining:   11.0s\n",
      "[Parallel(n_jobs=-1)]: Done  27 out of  50 | elapsed:    9.6s remaining:    8.2s\n",
      "[Parallel(n_jobs=-1)]: Done  33 out of  50 | elapsed:   11.5s remaining:    5.9s\n",
      "[Parallel(n_jobs=-1)]: Done  39 out of  50 | elapsed:   12.9s remaining:    3.6s\n",
      "[Parallel(n_jobs=-1)]: Done  45 out of  50 | elapsed:   14.3s remaining:    1.5s\n",
      "[Parallel(n_jobs=-1)]: Done  50 out of  50 | elapsed:   16.0s finished\n"
     ]
    },
    {
     "data": {
      "image/png": "[encoded data removed]",
      "text/plain": [
       "<matplotlib.figure.Figure at 0x27b93e5aa58>"
      ]
     },
     "metadata": {},
     "output_type": "display_data"
    }
   ],
   "source": [
    "# RandomForestClassifier\n",
    "draw_learning_curves(X_train, y_train, randomforest, title=\"Learning Curves of RandomForestClassifier\")"
   ]
  },
  {
   "cell_type": "code",
   "execution_count": 111,
   "metadata": {},
   "outputs": [
    {
     "name": "stdout",
     "output_type": "stream",
     "text": [
      "[learning_curve] Training set sizes: [ 2807  5615  8423 11231 14039 16847 19655 22463 25271 28079]\n"
     ]
    },
    {
     "name": "stderr",
     "output_type": "stream",
     "text": [
      "[Parallel(n_jobs=-1)]: Done   3 out of  50 | elapsed:   11.5s remaining:  3.0min\n",
      "[Parallel(n_jobs=-1)]: Done   9 out of  50 | elapsed:   27.6s remaining:  2.1min\n",
      "[Parallel(n_jobs=-1)]: Done  15 out of  50 | elapsed:   47.5s remaining:  1.8min\n",
      "[Parallel(n_jobs=-1)]: Done  21 out of  50 | elapsed:  1.1min remaining:  1.5min\n",
      "[Parallel(n_jobs=-1)]: Done  27 out of  50 | elapsed:  1.5min remaining:  1.2min\n",
      "[Parallel(n_jobs=-1)]: Done  33 out of  50 | elapsed:  1.8min remaining:   55.6s\n",
      "[Parallel(n_jobs=-1)]: Done  39 out of  50 | elapsed:  2.0min remaining:   34.4s\n",
      "[Parallel(n_jobs=-1)]: Done  45 out of  50 | elapsed:  2.4min remaining:   16.1s\n",
      "[Parallel(n_jobs=-1)]: Done  50 out of  50 | elapsed:  2.8min finished\n"
     ]
    },
    {
     "data": {
      "image/png": "[encoded data removed]",
      "text/plain": [
       "<matplotlib.figure.Figure at 0x27b90c15f98>"
      ]
     },
     "metadata": {},
     "output_type": "display_data"
    }
   ],
   "source": [
    "# AdaBoostClassifier\n",
    "draw_learning_curves(X_train, y_train, adaboost, title=\"Learning Curves of AdaBoostClassifier\")"
   ]
  },
  {
   "cell_type": "code",
   "execution_count": 112,
   "metadata": {},
   "outputs": [
    {
     "name": "stdout",
     "output_type": "stream",
     "text": [
      "[learning_curve] Training set sizes: [ 2807  5615  8423 11231 14039 16847 19655 22463 25271 28079]\n"
     ]
    },
    {
     "name": "stderr",
     "output_type": "stream",
     "text": [
      "[Parallel(n_jobs=-1)]: Done   3 out of  50 | elapsed:   52.6s remaining: 13.8min\n",
      "[Parallel(n_jobs=-1)]: Done   9 out of  50 | elapsed:  2.3min remaining: 10.4min\n",
      "[Parallel(n_jobs=-1)]: Done  15 out of  50 | elapsed:  3.9min remaining:  9.0min\n",
      "[Parallel(n_jobs=-1)]: Done  21 out of  50 | elapsed:  5.6min remaining:  7.7min\n",
      "[Parallel(n_jobs=-1)]: Done  27 out of  50 | elapsed:  7.0min remaining:  6.0min\n",
      "[Parallel(n_jobs=-1)]: Done  33 out of  50 | elapsed:  8.7min remaining:  4.5min\n",
      "[Parallel(n_jobs=-1)]: Done  39 out of  50 | elapsed: 10.2min remaining:  2.9min\n",
      "[Parallel(n_jobs=-1)]: Done  45 out of  50 | elapsed: 12.4min remaining:  1.4min\n",
      "[Parallel(n_jobs=-1)]: Done  50 out of  50 | elapsed: 13.6min finished\n"
     ]
    },
    {
     "data": {
      "image/png": "[encoded data removed]",
      "text/plain": [
       "<matplotlib.figure.Figure at 0x27c01a5e7f0>"
      ]
     },
     "metadata": {},
     "output_type": "display_data"
    }
   ],
   "source": [
    "# GradientBoostingClassifier\n",
    "draw_learning_curves(X_train, y_train, gradientboost, title=\"Learning Curves of GradientBoostingClassifier\")"
   ]
  },
  {
   "cell_type": "code",
   "execution_count": 113,
   "metadata": {},
   "outputs": [
    {
     "name": "stdout",
     "output_type": "stream",
     "text": [
      "[learning_curve] Training set sizes: [ 2807  5615  8423 11231 14039 16847 19655 22463 25271 28079]\n"
     ]
    },
    {
     "name": "stderr",
     "output_type": "stream",
     "text": [
      "[Parallel(n_jobs=-1)]: Done   3 out of  50 | elapsed:   54.1s remaining: 14.2min\n",
      "[Parallel(n_jobs=-1)]: Done   9 out of  50 | elapsed:  3.2min remaining: 14.6min\n",
      "[Parallel(n_jobs=-1)]: Done  15 out of  50 | elapsed:  4.6min remaining: 10.8min\n",
      "[Parallel(n_jobs=-1)]: Done  21 out of  50 | elapsed:  6.2min remaining:  8.6min\n",
      "[Parallel(n_jobs=-1)]: Done  27 out of  50 | elapsed:  7.9min remaining:  6.7min\n",
      "[Parallel(n_jobs=-1)]: Done  33 out of  50 | elapsed:  9.4min remaining:  4.8min\n",
      "[Parallel(n_jobs=-1)]: Done  39 out of  50 | elapsed: 10.9min remaining:  3.1min\n",
      "[Parallel(n_jobs=-1)]: Done  45 out of  50 | elapsed: 12.3min remaining:  1.4min\n",
      "[Parallel(n_jobs=-1)]: Done  50 out of  50 | elapsed: 13.3min finished\n"
     ]
    },
    {
     "data": {
      "image/png": "[encoded data removed]",
      "text/plain": [
       "<matplotlib.figure.Figure at 0x27c0fa1f0f0>"
      ]
     },
     "metadata": {},
     "output_type": "display_data"
    }
   ],
   "source": [
    "# XGBClassifier\n",
    "draw_learning_curves(X_train, y_train, xgboost, title=\"Learning Curves of XGBClassifier\")"
   ]
  },
  {
   "cell_type": "markdown",
   "metadata": {},
   "source": [
    "### Conclusion \n",
    "\n",
    "For GradientBoosting, the training score remains pretty high and keeps decreasing, while the testing score keeps increasing. \n",
    "\n",
    "While for the XGBoost and RandomForest, the training score remains constant at a high level and the cross-validation score is low. This is a sign of these two models overfitting the data. In case of AdaBoost, the training score is lower compared to the other models.\n",
    "\n",
    "The most performant model is GradientBoosting."
   ]
  },
  {
   "cell_type": "markdown",
   "metadata": {},
   "source": [
    "## 4 Parameter Tuning\n",
    "\n",
    "#### Parameters to tune:\n",
    " - learning_rate: learning rate shrinks the contribution of each tree by learning_rate. There is a trade-off between learning_rate and n_estimators.\n",
    " - n_estimators: The number of boosting stages to perform. Gradient boosting is fairly robust to over-fitting so a large number usually results in better performance.\n",
    " - max_depth: maximum depth of the individual regression estimators. The maximum depth limits the number of nodes in the tree. Tune this parameter for best performance; the best value depends on the interaction of the input variables.\n",
    " - min_samples_split: The minimum number of samples required to split an internal node.\n",
    "\n",
    "For more information: [GradientBoostingClassifier](https://scikit-learn.org/stable/modules/generated/sklearn.ensemble.GradientBoostingClassifier.html)"
   ]
  },
  {
   "cell_type": "code",
   "execution_count": 114,
   "metadata": {},
   "outputs": [
    {
     "name": "stdout",
     "output_type": "stream",
     "text": [
      "Roc_auc score on training data: 0.9350\n"
     ]
    }
   ],
   "source": [
    "# Make predictions using unoptimized model\n",
    "gradientboost_default_model = gradientboost.fit(X_train, y_train)\n",
    "predictions = gradientboost_default_model.predict_proba(X_train)[:, 1]\n",
    "\n",
    "print(\"Roc_auc score on training data: {:.4f}\".format(roc_auc_score(y_train, predictions)))"
   ]
  },
  {
   "cell_type": "code",
   "execution_count": 116,
   "metadata": {},
   "outputs": [
    {
     "data": {
      "image/png": "[encoded data removed]",
      "text/plain": [
       "<matplotlib.figure.Figure at 0x27c3a196748>"
      ]
     },
     "metadata": {},
     "output_type": "display_data"
    }
   ],
   "source": [
    "# feature importance\n",
    "feature_importance = pd.Series(\n",
    "    gradientboost_default_model.feature_importances_,\n",
    "    index=features.columns\n",
    ").sort_values(ascending=False)\n",
    "\n",
    "# plot 20 important features\n",
    "fig = plt.figure(figsize=(12, 6))\n",
    "feature_importance.iloc[:20].plot(kind='barh')\n",
    "matplotlib.rc('xtick', labelsize=12)  \n",
    "matplotlib.rc('ytick', labelsize=12)\n",
    "plt.xlabel('Features', fontsize=12)\n",
    "plt.ylabel('Weight', fontsize=12)\n",
    "plt.title('Normalized weight for the most predictive features', fontsize=12)\n",
    "plt.show()"
   ]
  },
  {
   "cell_type": "code",
   "execution_count": 118,
   "metadata": {},
   "outputs": [
    {
     "name": "stdout",
     "output_type": "stream",
     "text": [
      "{'learning_rate': 0.05, 'min_samples_split': 2, 'max_depth': 3, 'n_estimators': 100}\n"
     ]
    }
   ],
   "source": [
    "# Tune the GradientBoostingClassifier\n",
    "\n",
    "parameters = {\n",
    "    'learning_rate': [0.05, 0.1], \n",
    "    'n_estimators': [100, 500], \n",
    "    'max_depth': [3, 5], \n",
    "    'min_samples_split': [2, 4] \n",
    "}\n",
    "        \n",
    "grid_object = GridSearchCV(gradientboost, parameters, scoring = 'roc_auc')\n",
    "\n",
    "# Fit the grid search object to the training data and find the optimal parameters\n",
    "grid_object.fit(X_train, y_train)\n",
    "\n",
    "# Get the estimator and predict\n",
    "print(grid_object.best_params_)"
   ]
  },
  {
   "cell_type": "code",
   "execution_count": 134,
   "metadata": {},
   "outputs": [
    {
     "name": "stdout",
     "output_type": "stream",
     "text": [
      "Final Roc_auc score on the training data: 0.9815\n"
     ]
    }
   ],
   "source": [
    "best_model = grid_object.best_estimator_\n",
    "# Make predictions using the best model\n",
    "best_predictions = best_model.predict_proba(X_train)[:, 1]\n",
    "\n",
    "print(\"Final Roc_auc score on the training data: {:.4f}\".format(roc_auc_score(y_train, best_predictions)))"
   ]
  },
  {
   "cell_type": "code",
   "execution_count": 135,
   "metadata": {},
   "outputs": [
    {
     "data": {
      "image/png": "[encoded data removed]",
      "text/plain": [
       "<matplotlib.figure.Figure at 0x2a4e64df908>"
      ]
     },
     "metadata": {},
     "output_type": "display_data"
    }
   ],
   "source": [
    "# feature importance\n",
    "feature_importance = pd.Series(\n",
    "    best_model.feature_importances_,\n",
    "    index=features.columns\n",
    ").sort_values(ascending=False)\n",
    "\n",
    "# plot 20 important features\n",
    "fig = plt.figure(figsize=(12, 6))\n",
    "feature_importance.iloc[:20].plot(kind='barh')\n",
    "matplotlib.rc('xtick', labelsize=12)  \n",
    "matplotlib.rc('ytick', labelsize=12)\n",
    "plt.xlabel('Features', fontsize=12)\n",
    "plt.ylabel('Weight', fontsize=12)\n",
    "plt.title('Normalized weight for the most predictive features', fontsize=12)\n",
    "plt.show()"
   ]
  },
  {
   "cell_type": "markdown",
   "metadata": {},
   "source": [
    "##  <a class=\"anchor\" id=\"part3\">Part 3: Kaggle Competition</a>\n",
    "\n",
    "Let's submit the test results to [Kaggle](https://www.kaggle.com/c/udacity-arvato-identify-customers) "
   ]
  },
  {
   "cell_type": "code",
   "execution_count": 136,
   "metadata": {},
   "outputs": [
    {
     "name": "stderr",
     "output_type": "stream",
     "text": [
      "C:\\Users\\Desared\\Anaconda3\\lib\\site-packages\\IPython\\core\\interactiveshell.py:2698: DtypeWarning: Columns (18,19) have mixed types. Specify dtype option on import or set low_memory=False.\n",
      "  interactivity=interactivity, compiler=compiler, result=result)\n"
     ]
    },
    {
     "data": {
      "text/html": [
       "<div>\n",
       "<style>\n",
       "    .dataframe thead tr:only-child th {\n",
       "        text-align: right;\n",
       "    }\n",
       "\n",
       "    .dataframe thead th {\n",
       "        text-align: left;\n",
       "    }\n",
       "\n",
       "    .dataframe tbody tr th {\n",
       "        vertical-align: top;\n",
       "    }\n",
       "</style>\n",
       "<table border=\"1\" class=\"dataframe\">\n",
       "  <thead>\n",
       "    <tr style=\"text-align: right;\">\n",
       "      <th></th>\n",
       "      <th>LNR</th>\n",
       "      <th>AGER_TYP</th>\n",
       "      <th>AKT_DAT_KL</th>\n",
       "      <th>ALTER_HH</th>\n",
       "      <th>ALTER_KIND1</th>\n",
       "      <th>ALTER_KIND2</th>\n",
       "      <th>ALTER_KIND3</th>\n",
       "      <th>ALTER_KIND4</th>\n",
       "      <th>ALTERSKATEGORIE_FEIN</th>\n",
       "      <th>ANZ_HAUSHALTE_AKTIV</th>\n",
       "      <th>...</th>\n",
       "      <th>VHN</th>\n",
       "      <th>VK_DHT4A</th>\n",
       "      <th>VK_DISTANZ</th>\n",
       "      <th>VK_ZG11</th>\n",
       "      <th>W_KEIT_KIND_HH</th>\n",
       "      <th>WOHNDAUER_2008</th>\n",
       "      <th>WOHNLAGE</th>\n",
       "      <th>ZABEOTYP</th>\n",
       "      <th>ANREDE_KZ</th>\n",
       "      <th>ALTERSKATEGORIE_GROB</th>\n",
       "    </tr>\n",
       "  </thead>\n",
       "  <tbody>\n",
       "    <tr>\n",
       "      <th>0</th>\n",
       "      <td>1754</td>\n",
       "      <td>2</td>\n",
       "      <td>1.0</td>\n",
       "      <td>7.0</td>\n",
       "      <td>NaN</td>\n",
       "      <td>NaN</td>\n",
       "      <td>NaN</td>\n",
       "      <td>NaN</td>\n",
       "      <td>6.0</td>\n",
       "      <td>2.0</td>\n",
       "      <td>...</td>\n",
       "      <td>4.0</td>\n",
       "      <td>5.0</td>\n",
       "      <td>6.0</td>\n",
       "      <td>3.0</td>\n",
       "      <td>6.0</td>\n",
       "      <td>9.0</td>\n",
       "      <td>3.0</td>\n",
       "      <td>3</td>\n",
       "      <td>1</td>\n",
       "      <td>4</td>\n",
       "    </tr>\n",
       "    <tr>\n",
       "      <th>1</th>\n",
       "      <td>1770</td>\n",
       "      <td>-1</td>\n",
       "      <td>1.0</td>\n",
       "      <td>0.0</td>\n",
       "      <td>NaN</td>\n",
       "      <td>NaN</td>\n",
       "      <td>NaN</td>\n",
       "      <td>NaN</td>\n",
       "      <td>0.0</td>\n",
       "      <td>20.0</td>\n",
       "      <td>...</td>\n",
       "      <td>1.0</td>\n",
       "      <td>5.0</td>\n",
       "      <td>2.0</td>\n",
       "      <td>1.0</td>\n",
       "      <td>6.0</td>\n",
       "      <td>9.0</td>\n",
       "      <td>5.0</td>\n",
       "      <td>3</td>\n",
       "      <td>1</td>\n",
       "      <td>4</td>\n",
       "    </tr>\n",
       "    <tr>\n",
       "      <th>2</th>\n",
       "      <td>1465</td>\n",
       "      <td>2</td>\n",
       "      <td>9.0</td>\n",
       "      <td>16.0</td>\n",
       "      <td>NaN</td>\n",
       "      <td>NaN</td>\n",
       "      <td>NaN</td>\n",
       "      <td>NaN</td>\n",
       "      <td>11.0</td>\n",
       "      <td>2.0</td>\n",
       "      <td>...</td>\n",
       "      <td>3.0</td>\n",
       "      <td>9.0</td>\n",
       "      <td>6.0</td>\n",
       "      <td>3.0</td>\n",
       "      <td>2.0</td>\n",
       "      <td>9.0</td>\n",
       "      <td>4.0</td>\n",
       "      <td>3</td>\n",
       "      <td>2</td>\n",
       "      <td>4</td>\n",
       "    </tr>\n",
       "    <tr>\n",
       "      <th>3</th>\n",
       "      <td>1470</td>\n",
       "      <td>-1</td>\n",
       "      <td>7.0</td>\n",
       "      <td>0.0</td>\n",
       "      <td>NaN</td>\n",
       "      <td>NaN</td>\n",
       "      <td>NaN</td>\n",
       "      <td>NaN</td>\n",
       "      <td>0.0</td>\n",
       "      <td>1.0</td>\n",
       "      <td>...</td>\n",
       "      <td>2.0</td>\n",
       "      <td>6.0</td>\n",
       "      <td>6.0</td>\n",
       "      <td>3.0</td>\n",
       "      <td>NaN</td>\n",
       "      <td>9.0</td>\n",
       "      <td>2.0</td>\n",
       "      <td>3</td>\n",
       "      <td>2</td>\n",
       "      <td>4</td>\n",
       "    </tr>\n",
       "    <tr>\n",
       "      <th>4</th>\n",
       "      <td>1478</td>\n",
       "      <td>1</td>\n",
       "      <td>1.0</td>\n",
       "      <td>21.0</td>\n",
       "      <td>NaN</td>\n",
       "      <td>NaN</td>\n",
       "      <td>NaN</td>\n",
       "      <td>NaN</td>\n",
       "      <td>13.0</td>\n",
       "      <td>1.0</td>\n",
       "      <td>...</td>\n",
       "      <td>1.0</td>\n",
       "      <td>2.0</td>\n",
       "      <td>4.0</td>\n",
       "      <td>3.0</td>\n",
       "      <td>3.0</td>\n",
       "      <td>9.0</td>\n",
       "      <td>7.0</td>\n",
       "      <td>4</td>\n",
       "      <td>2</td>\n",
       "      <td>4</td>\n",
       "    </tr>\n",
       "  </tbody>\n",
       "</table>\n",
       "<p>5 rows × 366 columns</p>\n",
       "</div>"
      ],
      "text/plain": [
       "    LNR  AGER_TYP  AKT_DAT_KL  ALTER_HH  ALTER_KIND1  ALTER_KIND2  \\\n",
       "0  1754         2         1.0       7.0          NaN          NaN   \n",
       "1  1770        -1         1.0       0.0          NaN          NaN   \n",
       "2  1465         2         9.0      16.0          NaN          NaN   \n",
       "3  1470        -1         7.0       0.0          NaN          NaN   \n",
       "4  1478         1         1.0      21.0          NaN          NaN   \n",
       "\n",
       "   ALTER_KIND3  ALTER_KIND4  ALTERSKATEGORIE_FEIN  ANZ_HAUSHALTE_AKTIV  \\\n",
       "0          NaN          NaN                   6.0                  2.0   \n",
       "1          NaN          NaN                   0.0                 20.0   \n",
       "2          NaN          NaN                  11.0                  2.0   \n",
       "3          NaN          NaN                   0.0                  1.0   \n",
       "4          NaN          NaN                  13.0                  1.0   \n",
       "\n",
       "          ...           VHN  VK_DHT4A  VK_DISTANZ  VK_ZG11  W_KEIT_KIND_HH  \\\n",
       "0         ...           4.0       5.0         6.0      3.0             6.0   \n",
       "1         ...           1.0       5.0         2.0      1.0             6.0   \n",
       "2         ...           3.0       9.0         6.0      3.0             2.0   \n",
       "3         ...           2.0       6.0         6.0      3.0             NaN   \n",
       "4         ...           1.0       2.0         4.0      3.0             3.0   \n",
       "\n",
       "   WOHNDAUER_2008  WOHNLAGE ZABEOTYP ANREDE_KZ ALTERSKATEGORIE_GROB  \n",
       "0             9.0       3.0        3         1                    4  \n",
       "1             9.0       5.0        3         1                    4  \n",
       "2             9.0       4.0        3         2                    4  \n",
       "3             9.0       2.0        3         2                    4  \n",
       "4             9.0       7.0        4         2                    4  \n",
       "\n",
       "[5 rows x 366 columns]"
      ]
     },
     "execution_count": 136,
     "metadata": {},
     "output_type": "execute_result"
    }
   ],
   "source": [
    "# Load data\n",
    "mailout_test = pd.read_csv('data/Udacity_MAILOUT_052018_TEST.csv', sep=';')\n",
    "mailout_test.head()"
   ]
  },
  {
   "cell_type": "code",
   "execution_count": 137,
   "metadata": {
    "collapsed": true
   },
   "outputs": [],
   "source": [
    "# Clean data\n",
    "clean_test = clean_data(mailout_test, drop_row=False)"
   ]
  },
  {
   "cell_type": "code",
   "execution_count": 138,
   "metadata": {
    "collapsed": true
   },
   "outputs": [],
   "source": [
    "# Drop LNR\n",
    "test_LNR = clean_test['LNR']\n",
    "\n",
    "clean_test.drop('LNR', axis=1, inplace=True)"
   ]
  },
  {
   "cell_type": "code",
   "execution_count": 139,
   "metadata": {},
   "outputs": [
    {
     "data": {
      "text/html": [
       "<div>\n",
       "<style>\n",
       "    .dataframe thead tr:only-child th {\n",
       "        text-align: right;\n",
       "    }\n",
       "\n",
       "    .dataframe thead th {\n",
       "        text-align: left;\n",
       "    }\n",
       "\n",
       "    .dataframe tbody tr th {\n",
       "        vertical-align: top;\n",
       "    }\n",
       "</style>\n",
       "<table border=\"1\" class=\"dataframe\">\n",
       "  <thead>\n",
       "    <tr style=\"text-align: right;\">\n",
       "      <th></th>\n",
       "      <th>CJT_GESAMTTYP_1.0</th>\n",
       "      <th>CJT_GESAMTTYP_2.0</th>\n",
       "      <th>CJT_GESAMTTYP_3.0</th>\n",
       "      <th>CJT_GESAMTTYP_4.0</th>\n",
       "      <th>CJT_GESAMTTYP_5.0</th>\n",
       "      <th>CJT_GESAMTTYP_6.0</th>\n",
       "      <th>FINANZTYP_1.0</th>\n",
       "      <th>FINANZTYP_2.0</th>\n",
       "      <th>FINANZTYP_3.0</th>\n",
       "      <th>FINANZTYP_4.0</th>\n",
       "      <th>...</th>\n",
       "      <th>WOHNLAGE_3.0</th>\n",
       "      <th>WOHNLAGE_4.0</th>\n",
       "      <th>WOHNLAGE_5.0</th>\n",
       "      <th>WOHNLAGE_7.0</th>\n",
       "      <th>WOHNLAGE_8.0</th>\n",
       "      <th>PLZ8_BAUMAX_1.0</th>\n",
       "      <th>PLZ8_BAUMAX_2.0</th>\n",
       "      <th>PLZ8_BAUMAX_3.0</th>\n",
       "      <th>PLZ8_BAUMAX_4.0</th>\n",
       "      <th>PLZ8_BAUMAX_5.0</th>\n",
       "    </tr>\n",
       "  </thead>\n",
       "  <tbody>\n",
       "    <tr>\n",
       "      <th>0</th>\n",
       "      <td>0.0</td>\n",
       "      <td>0.0</td>\n",
       "      <td>0.0</td>\n",
       "      <td>0.0</td>\n",
       "      <td>1.0</td>\n",
       "      <td>0.0</td>\n",
       "      <td>0.0</td>\n",
       "      <td>0.0</td>\n",
       "      <td>0.0</td>\n",
       "      <td>0.0</td>\n",
       "      <td>...</td>\n",
       "      <td>1.0</td>\n",
       "      <td>0.0</td>\n",
       "      <td>0.0</td>\n",
       "      <td>0.0</td>\n",
       "      <td>0.0</td>\n",
       "      <td>0.0</td>\n",
       "      <td>0.0</td>\n",
       "      <td>0.0</td>\n",
       "      <td>0.0</td>\n",
       "      <td>0.0</td>\n",
       "    </tr>\n",
       "    <tr>\n",
       "      <th>1</th>\n",
       "      <td>1.0</td>\n",
       "      <td>0.0</td>\n",
       "      <td>0.0</td>\n",
       "      <td>0.0</td>\n",
       "      <td>0.0</td>\n",
       "      <td>0.0</td>\n",
       "      <td>0.0</td>\n",
       "      <td>0.0</td>\n",
       "      <td>0.0</td>\n",
       "      <td>0.0</td>\n",
       "      <td>...</td>\n",
       "      <td>0.0</td>\n",
       "      <td>0.0</td>\n",
       "      <td>1.0</td>\n",
       "      <td>0.0</td>\n",
       "      <td>0.0</td>\n",
       "      <td>0.0</td>\n",
       "      <td>0.0</td>\n",
       "      <td>0.0</td>\n",
       "      <td>0.0</td>\n",
       "      <td>0.0</td>\n",
       "    </tr>\n",
       "    <tr>\n",
       "      <th>2</th>\n",
       "      <td>0.0</td>\n",
       "      <td>1.0</td>\n",
       "      <td>0.0</td>\n",
       "      <td>0.0</td>\n",
       "      <td>0.0</td>\n",
       "      <td>0.0</td>\n",
       "      <td>0.0</td>\n",
       "      <td>1.0</td>\n",
       "      <td>0.0</td>\n",
       "      <td>0.0</td>\n",
       "      <td>...</td>\n",
       "      <td>0.0</td>\n",
       "      <td>1.0</td>\n",
       "      <td>0.0</td>\n",
       "      <td>0.0</td>\n",
       "      <td>0.0</td>\n",
       "      <td>0.0</td>\n",
       "      <td>0.0</td>\n",
       "      <td>0.0</td>\n",
       "      <td>0.0</td>\n",
       "      <td>0.0</td>\n",
       "    </tr>\n",
       "    <tr>\n",
       "      <th>3</th>\n",
       "      <td>0.0</td>\n",
       "      <td>0.0</td>\n",
       "      <td>0.0</td>\n",
       "      <td>1.0</td>\n",
       "      <td>0.0</td>\n",
       "      <td>0.0</td>\n",
       "      <td>0.0</td>\n",
       "      <td>0.0</td>\n",
       "      <td>0.0</td>\n",
       "      <td>0.0</td>\n",
       "      <td>...</td>\n",
       "      <td>0.0</td>\n",
       "      <td>0.0</td>\n",
       "      <td>0.0</td>\n",
       "      <td>0.0</td>\n",
       "      <td>0.0</td>\n",
       "      <td>0.0</td>\n",
       "      <td>0.0</td>\n",
       "      <td>0.0</td>\n",
       "      <td>0.0</td>\n",
       "      <td>0.0</td>\n",
       "    </tr>\n",
       "    <tr>\n",
       "      <th>4</th>\n",
       "      <td>0.0</td>\n",
       "      <td>0.0</td>\n",
       "      <td>0.0</td>\n",
       "      <td>0.0</td>\n",
       "      <td>0.0</td>\n",
       "      <td>1.0</td>\n",
       "      <td>0.0</td>\n",
       "      <td>0.0</td>\n",
       "      <td>0.0</td>\n",
       "      <td>0.0</td>\n",
       "      <td>...</td>\n",
       "      <td>0.0</td>\n",
       "      <td>0.0</td>\n",
       "      <td>0.0</td>\n",
       "      <td>1.0</td>\n",
       "      <td>0.0</td>\n",
       "      <td>0.0</td>\n",
       "      <td>0.0</td>\n",
       "      <td>0.0</td>\n",
       "      <td>0.0</td>\n",
       "      <td>0.0</td>\n",
       "    </tr>\n",
       "  </tbody>\n",
       "</table>\n",
       "<p>5 rows × 486 columns</p>\n",
       "</div>"
      ],
      "text/plain": [
       "   CJT_GESAMTTYP_1.0  CJT_GESAMTTYP_2.0  CJT_GESAMTTYP_3.0  CJT_GESAMTTYP_4.0  \\\n",
       "0                0.0                0.0                0.0                0.0   \n",
       "1                1.0                0.0                0.0                0.0   \n",
       "2                0.0                1.0                0.0                0.0   \n",
       "3                0.0                0.0                0.0                1.0   \n",
       "4                0.0                0.0                0.0                0.0   \n",
       "\n",
       "   CJT_GESAMTTYP_5.0  CJT_GESAMTTYP_6.0  FINANZTYP_1.0  FINANZTYP_2.0  \\\n",
       "0                1.0                0.0            0.0            0.0   \n",
       "1                0.0                0.0            0.0            0.0   \n",
       "2                0.0                0.0            0.0            1.0   \n",
       "3                0.0                0.0            0.0            0.0   \n",
       "4                0.0                1.0            0.0            0.0   \n",
       "\n",
       "   FINANZTYP_3.0  FINANZTYP_4.0       ...         WOHNLAGE_3.0  WOHNLAGE_4.0  \\\n",
       "0            0.0            0.0       ...                  1.0           0.0   \n",
       "1            0.0            0.0       ...                  0.0           0.0   \n",
       "2            0.0            0.0       ...                  0.0           1.0   \n",
       "3            0.0            0.0       ...                  0.0           0.0   \n",
       "4            0.0            0.0       ...                  0.0           0.0   \n",
       "\n",
       "   WOHNLAGE_5.0  WOHNLAGE_7.0  WOHNLAGE_8.0  PLZ8_BAUMAX_1.0  PLZ8_BAUMAX_2.0  \\\n",
       "0           0.0           0.0           0.0              0.0              0.0   \n",
       "1           1.0           0.0           0.0              0.0              0.0   \n",
       "2           0.0           0.0           0.0              0.0              0.0   \n",
       "3           0.0           0.0           0.0              0.0              0.0   \n",
       "4           0.0           1.0           0.0              0.0              0.0   \n",
       "\n",
       "   PLZ8_BAUMAX_3.0  PLZ8_BAUMAX_4.0  PLZ8_BAUMAX_5.0  \n",
       "0              0.0              0.0              0.0  \n",
       "1              0.0              0.0              0.0  \n",
       "2              0.0              0.0              0.0  \n",
       "3              0.0              0.0              0.0  \n",
       "4              0.0              0.0              0.0  \n",
       "\n",
       "[5 rows x 486 columns]"
      ]
     },
     "execution_count": 139,
     "metadata": {},
     "output_type": "execute_result"
    }
   ],
   "source": [
    "# Imputer\n",
    "final_test = pd.DataFrame(imputer_object.fit_transform(clean_test.values),\n",
    "                        columns= clean_test.columns)\n",
    "\n",
    "# feature scaling\n",
    "final_test = pd.DataFrame(scaler.fit_transform(final_test.values),\n",
    "                        columns= final_test.columns)\n",
    "\n",
    "final_test.head()"
   ]
  },
  {
   "cell_type": "code",
   "execution_count": 140,
   "metadata": {},
   "outputs": [
    {
     "data": {
      "text/plain": [
       "(42833, 486)"
      ]
     },
     "execution_count": 140,
     "metadata": {},
     "output_type": "execute_result"
    }
   ],
   "source": [
    "final_test.shape"
   ]
  },
  {
   "cell_type": "code",
   "execution_count": 141,
   "metadata": {},
   "outputs": [
    {
     "data": {
      "text/html": [
       "<div>\n",
       "<style>\n",
       "    .dataframe thead tr:only-child th {\n",
       "        text-align: right;\n",
       "    }\n",
       "\n",
       "    .dataframe thead th {\n",
       "        text-align: left;\n",
       "    }\n",
       "\n",
       "    .dataframe tbody tr th {\n",
       "        vertical-align: top;\n",
       "    }\n",
       "</style>\n",
       "<table border=\"1\" class=\"dataframe\">\n",
       "  <thead>\n",
       "    <tr style=\"text-align: right;\">\n",
       "      <th></th>\n",
       "      <th>RESPONSE</th>\n",
       "    </tr>\n",
       "    <tr>\n",
       "      <th>LNR</th>\n",
       "      <th></th>\n",
       "    </tr>\n",
       "  </thead>\n",
       "  <tbody>\n",
       "    <tr>\n",
       "      <th>1754</th>\n",
       "      <td>0.043272</td>\n",
       "    </tr>\n",
       "    <tr>\n",
       "      <th>1770</th>\n",
       "      <td>0.035716</td>\n",
       "    </tr>\n",
       "    <tr>\n",
       "      <th>1465</th>\n",
       "      <td>0.005957</td>\n",
       "    </tr>\n",
       "    <tr>\n",
       "      <th>1470</th>\n",
       "      <td>0.003560</td>\n",
       "    </tr>\n",
       "    <tr>\n",
       "      <th>1478</th>\n",
       "      <td>0.005013</td>\n",
       "    </tr>\n",
       "  </tbody>\n",
       "</table>\n",
       "</div>"
      ],
      "text/plain": [
       "      RESPONSE\n",
       "LNR           \n",
       "1754  0.043272\n",
       "1770  0.035716\n",
       "1465  0.005957\n",
       "1470  0.003560\n",
       "1478  0.005013"
      ]
     },
     "execution_count": 141,
     "metadata": {},
     "output_type": "execute_result"
    }
   ],
   "source": [
    "# Prediction\n",
    "test_label = best_model.predict_proba(final_test)[:,1]\n",
    "\n",
    "submission = pd.DataFrame(test_label, index=test_LNR.astype('int32'), columns=[\"RESPONSE\"])\n",
    "\n",
    "submission.head()"
   ]
  },
  {
   "cell_type": "code",
   "execution_count": 142,
   "metadata": {
    "collapsed": true
   },
   "outputs": [],
   "source": [
    "# Save file to submit\n",
    "submission.to_csv('submission.csv')"
   ]
  },
  {
   "cell_type": "code",
   "execution_count": null,
   "metadata": {
    "collapsed": true
   },
   "outputs": [],
   "source": []
  }
 ],
 "metadata": {
  "anaconda-cloud": {},
  "kernelspec": {
   "display_name": "Python 3",
   "language": "python",
   "name": "python3"
  },
  "language_info": {
   "codemirror_mode": {
    "name": "ipython",
    "version": 3
   },
   "file_extension": ".py",
   "mimetype": "text/x-python",
   "name": "python",
   "nbconvert_exporter": "python",
   "pygments_lexer": "ipython3",
   "version": "3.5.4"
  }
 },
 "nbformat": 4,
 "nbformat_minor": 2
}
